{
 "cells": [
  {
   "cell_type": "code",
   "execution_count": 26,
   "id": "5d6814f5",
   "metadata": {},
   "outputs": [],
   "source": [
    "# Dependencies and Setup\n",
    "import pandas as pd\n",
    "\n",
    "# File to Load (Remember to change the path if needed.)\n",
    "clean_income = \"Resources/clean_income_df.csv\"\n",
    "clean_inspection = \"Resources/clean_inspection_df2.csv\""
   ]
  },
  {
   "cell_type": "code",
   "execution_count": 27,
   "id": "266c8290",
   "metadata": {},
   "outputs": [],
   "source": [
    "# Read the  Data and  store into a Pandas DataFrame\n",
    "clean_income_df = pd.read_csv(clean_income)"
   ]
  },
  {
   "cell_type": "code",
   "execution_count": 28,
   "id": "b24df92c",
   "metadata": {},
   "outputs": [],
   "source": [
    "# Read the  Data and  store into a Pandas DataFrame\n",
    "clean_inspection_df = pd.read_csv(clean_inspection)\n"
   ]
  },
  {
   "cell_type": "code",
   "execution_count": 29,
   "id": "1a167dff",
   "metadata": {},
   "outputs": [
    {
     "data": {
      "text/html": [
       "<div>\n",
       "<style scoped>\n",
       "    .dataframe tbody tr th:only-of-type {\n",
       "        vertical-align: middle;\n",
       "    }\n",
       "\n",
       "    .dataframe tbody tr th {\n",
       "        vertical-align: top;\n",
       "    }\n",
       "\n",
       "    .dataframe thead th {\n",
       "        text-align: right;\n",
       "    }\n",
       "</style>\n",
       "<table border=\"1\" class=\"dataframe\">\n",
       "  <thead>\n",
       "    <tr style=\"text-align: right;\">\n",
       "      <th></th>\n",
       "      <th>Borough</th>\n",
       "      <th>INCOME LEVEL</th>\n",
       "      <th>DBA</th>\n",
       "      <th>STREET</th>\n",
       "      <th>GRADE DATE</th>\n",
       "      <th>LATITUDE</th>\n",
       "      <th>LONGITUDE</th>\n",
       "    </tr>\n",
       "  </thead>\n",
       "  <tbody>\n",
       "    <tr>\n",
       "      <th>0</th>\n",
       "      <td>Manhattan</td>\n",
       "      <td>high income</td>\n",
       "      <td>MARIACHI'S RESTAURANT</td>\n",
       "      <td>CHAMBERS STREET</td>\n",
       "      <td>1/13/2020</td>\n",
       "      <td>40.716432</td>\n",
       "      <td>-74.010472</td>\n",
       "    </tr>\n",
       "    <tr>\n",
       "      <th>1</th>\n",
       "      <td>Manhattan</td>\n",
       "      <td>high income</td>\n",
       "      <td>SPOTIFY - BARISTA BAR</td>\n",
       "      <td>GREENWICH STREET</td>\n",
       "      <td>1/22/2020</td>\n",
       "      <td>40.715553</td>\n",
       "      <td>-74.011021</td>\n",
       "    </tr>\n",
       "    <tr>\n",
       "      <th>2</th>\n",
       "      <td>Manhattan</td>\n",
       "      <td>high income</td>\n",
       "      <td>STARBUCKS COFFEE COMPANY #29854</td>\n",
       "      <td>GREENWICH STREET</td>\n",
       "      <td>1/13/2020</td>\n",
       "      <td>40.715553</td>\n",
       "      <td>-74.011021</td>\n",
       "    </tr>\n",
       "    <tr>\n",
       "      <th>3</th>\n",
       "      <td>Manhattan</td>\n",
       "      <td>high income</td>\n",
       "      <td>CANTEEN</td>\n",
       "      <td>WORLD TRADE CTR</td>\n",
       "      <td>1/23/2020</td>\n",
       "      <td>40.713941</td>\n",
       "      <td>-74.007401</td>\n",
       "    </tr>\n",
       "    <tr>\n",
       "      <th>4</th>\n",
       "      <td>Manhattan</td>\n",
       "      <td>high income</td>\n",
       "      <td>JOE &amp; THE JUICE GREENWICH ST</td>\n",
       "      <td>GREENWICH STREET</td>\n",
       "      <td>12/30/2019</td>\n",
       "      <td>40.715553</td>\n",
       "      <td>-74.011021</td>\n",
       "    </tr>\n",
       "  </tbody>\n",
       "</table>\n",
       "</div>"
      ],
      "text/plain": [
       "     Borough INCOME LEVEL                              DBA            STREET  \\\n",
       "0  Manhattan  high income            MARIACHI'S RESTAURANT   CHAMBERS STREET   \n",
       "1  Manhattan  high income            SPOTIFY - BARISTA BAR  GREENWICH STREET   \n",
       "2  Manhattan  high income  STARBUCKS COFFEE COMPANY #29854  GREENWICH STREET   \n",
       "3  Manhattan  high income                          CANTEEN   WORLD TRADE CTR   \n",
       "4  Manhattan  high income     JOE & THE JUICE GREENWICH ST  GREENWICH STREET   \n",
       "\n",
       "   GRADE DATE   LATITUDE  LONGITUDE  \n",
       "0   1/13/2020  40.716432 -74.010472  \n",
       "1   1/22/2020  40.715553 -74.011021  \n",
       "2   1/13/2020  40.715553 -74.011021  \n",
       "3   1/23/2020  40.713941 -74.007401  \n",
       "4  12/30/2019  40.715553 -74.011021  "
      ]
     },
     "execution_count": 29,
     "metadata": {},
     "output_type": "execute_result"
    }
   ],
   "source": [
    "# Read the clean_income dataframe\n",
    "clean_income_df.head()"
   ]
  },
  {
   "cell_type": "code",
   "execution_count": 30,
   "id": "82698e6d",
   "metadata": {
    "scrolled": true
   },
   "outputs": [
    {
     "data": {
      "text/html": [
       "<div>\n",
       "<style scoped>\n",
       "    .dataframe tbody tr th:only-of-type {\n",
       "        vertical-align: middle;\n",
       "    }\n",
       "\n",
       "    .dataframe tbody tr th {\n",
       "        vertical-align: top;\n",
       "    }\n",
       "\n",
       "    .dataframe thead th {\n",
       "        text-align: right;\n",
       "    }\n",
       "</style>\n",
       "<table border=\"1\" class=\"dataframe\">\n",
       "  <thead>\n",
       "    <tr style=\"text-align: right;\">\n",
       "      <th></th>\n",
       "      <th>DBA</th>\n",
       "      <th>Borough</th>\n",
       "      <th>STREET</th>\n",
       "      <th>CUISINE DESCRIPTION</th>\n",
       "      <th>SCORE</th>\n",
       "      <th>GRADE</th>\n",
       "      <th>GRADE DATE</th>\n",
       "    </tr>\n",
       "  </thead>\n",
       "  <tbody>\n",
       "    <tr>\n",
       "      <th>0</th>\n",
       "      <td>HENRI'S BACKYARD</td>\n",
       "      <td>BROOKLYN</td>\n",
       "      <td>4TH AVE</td>\n",
       "      <td>American</td>\n",
       "      <td>39.0</td>\n",
       "      <td>C</td>\n",
       "      <td>06/22/2017</td>\n",
       "    </tr>\n",
       "    <tr>\n",
       "      <th>1</th>\n",
       "      <td>RICHMOND COUNTY COUNTRY CLUB</td>\n",
       "      <td>STATEN ISLAND</td>\n",
       "      <td>TODT HILL ROAD</td>\n",
       "      <td>American</td>\n",
       "      <td>12.0</td>\n",
       "      <td>A</td>\n",
       "      <td>06/14/2017</td>\n",
       "    </tr>\n",
       "    <tr>\n",
       "      <th>2</th>\n",
       "      <td>TOMOE SUSHI</td>\n",
       "      <td>MANHATTAN</td>\n",
       "      <td>THOMPSON STREET</td>\n",
       "      <td>Japanese</td>\n",
       "      <td>13.0</td>\n",
       "      <td>A</td>\n",
       "      <td>10/06/2015</td>\n",
       "    </tr>\n",
       "    <tr>\n",
       "      <th>3</th>\n",
       "      <td>CRAB SPOT RESTAURANT</td>\n",
       "      <td>BROOKLYN</td>\n",
       "      <td>UNION STREET</td>\n",
       "      <td>Seafood</td>\n",
       "      <td>12.0</td>\n",
       "      <td>A</td>\n",
       "      <td>07/28/2016</td>\n",
       "    </tr>\n",
       "    <tr>\n",
       "      <th>4</th>\n",
       "      <td>M NOODLE SHOP</td>\n",
       "      <td>BROOKLYN</td>\n",
       "      <td>METROPOLITAN AVENUE</td>\n",
       "      <td>Chinese</td>\n",
       "      <td>10.0</td>\n",
       "      <td>A</td>\n",
       "      <td>01/19/2017</td>\n",
       "    </tr>\n",
       "  </tbody>\n",
       "</table>\n",
       "</div>"
      ],
      "text/plain": [
       "                            DBA        Borough               STREET  \\\n",
       "0              HENRI'S BACKYARD       BROOKLYN              4TH AVE   \n",
       "1  RICHMOND COUNTY COUNTRY CLUB  STATEN ISLAND       TODT HILL ROAD   \n",
       "2                   TOMOE SUSHI      MANHATTAN      THOMPSON STREET   \n",
       "3          CRAB SPOT RESTAURANT       BROOKLYN         UNION STREET   \n",
       "4                 M NOODLE SHOP       BROOKLYN  METROPOLITAN AVENUE   \n",
       "\n",
       "  CUISINE DESCRIPTION  SCORE GRADE  GRADE DATE  \n",
       "0            American   39.0     C  06/22/2017  \n",
       "1            American   12.0     A  06/14/2017  \n",
       "2            Japanese   13.0     A  10/06/2015  \n",
       "3             Seafood   12.0     A  07/28/2016  \n",
       "4             Chinese   10.0     A  01/19/2017  "
      ]
     },
     "execution_count": 30,
     "metadata": {},
     "output_type": "execute_result"
    }
   ],
   "source": [
    "# Read the clean inspection dataframe\n",
    "clean_inspection_df.head()"
   ]
  },
  {
   "cell_type": "code",
   "execution_count": 52,
   "id": "159d4ba2",
   "metadata": {},
   "outputs": [
    {
     "data": {
      "text/plain": [
       "['Borough',\n",
       " 'INCOME LEVEL',\n",
       " 'DBA',\n",
       " 'STREET',\n",
       " 'GRADE DATE',\n",
       " 'LATITUDE',\n",
       " 'LONGITUDE']"
      ]
     },
     "execution_count": 52,
     "metadata": {},
     "output_type": "execute_result"
    }
   ],
   "source": [
    "# List the columns for clean_income_df\n",
    "list(clean_income_df)\n",
    "\n"
   ]
  },
  {
   "cell_type": "code",
   "execution_count": 53,
   "id": "2977b52f",
   "metadata": {},
   "outputs": [
    {
     "data": {
      "text/plain": [
       "['DBA',\n",
       " 'Borough',\n",
       " 'STREET',\n",
       " 'CUISINE DESCRIPTION',\n",
       " 'SCORE',\n",
       " 'GRADE',\n",
       " 'GRADE DATE']"
      ]
     },
     "execution_count": 53,
     "metadata": {},
     "output_type": "execute_result"
    }
   ],
   "source": [
    "# List the columns for clean_inspection_df\n",
    "list(clean_inspection_df)\n"
   ]
  },
  {
   "cell_type": "code",
   "execution_count": 62,
   "id": "4d4cdc5f",
   "metadata": {},
   "outputs": [],
   "source": [
    "# Dependencies\n",
    "import numpy as np\n",
    "import pandas as pd\n",
    "\n",
    "# Python SQL toolkit and Object Relational Mapper\n",
    "import sqlalchemy\n",
    "from sqlalchemy.ext.automap import automap_base\n",
    "from sqlalchemy.orm import Session\n",
    "from sqlalchemy import create_engine, func\n",
    "\n",
    "%matplotlib inline\n",
    "from matplotlib import style\n",
    "style.use('fivethirtyeight')\n",
    "import matplotlib.pyplot as plt\n",
    "\n",
    "import numpy as np\n",
    "import pandas as pd\n",
    "import datetime as dt\n"
   ]
  },
  {
   "cell_type": "code",
   "execution_count": 63,
   "id": "768cd9cd",
   "metadata": {
    "scrolled": true
   },
   "outputs": [
    {
     "name": "stdout",
     "output_type": "stream",
     "text": [
      "Table created successfully........\n"
     ]
    }
   ],
   "source": [
    "import sqlite3\n",
    "\n",
    "#Connecting to sqlite\n",
    "conn = sqlite3.connect('NYC_restaurant.db')\n",
    "\n",
    "#Creating a cursor object using the cursor() method\n",
    "cursor = conn.cursor()\n",
    "\n",
    "#Doping EMPLOYEE table if already exists.\n",
    "cursor.execute(\"DROP TABLE IF EXISTS inspection_data\")\n",
    "\n",
    "#Creating table as per requirement\n",
    "sql ='''CREATE TABLE \"inspection_data\" (\n",
    "    \"DBA\" varchar   NOT NULL,\n",
    "    \"Borough\" varchar   NOT NULL,\n",
    "    \"street\" varchar   NOT NULL,\n",
    "    \"Cuisine Description\" varchar   NOT NULL,\n",
    "    \"Score\" INT   NOT NULL,\n",
    "    \"Grade\" varchar NOT NULL,\n",
    "    \"Grade Date\" Date NOT NULL,\n",
    "    CONSTRAINT \"pk_inspection\" PRIMARY KEY (\n",
    "        \"Borough\"\n",
    "     )\n",
    ");'''\n",
    "#cursor.execute(sql)\n",
    "print(\"Table created successfully........\")\n",
    "\n",
    "# Commit your changes in the database\n",
    "conn.commit()\n",
    "\n",
    "#Closing the connection\n",
    "conn.close()"
   ]
  },
  {
   "cell_type": "code",
   "execution_count": 64,
   "id": "b4bcfcc6",
   "metadata": {},
   "outputs": [
    {
     "name": "stdout",
     "output_type": "stream",
     "text": [
      "Table created successfully........\n"
     ]
    }
   ],
   "source": [
    "import sqlite3\n",
    "\n",
    "#Connecting to sqlite\n",
    "conn = sqlite3.connect('NYC_restaurant.db')\n",
    "\n",
    "#Creating a cursor object using the cursor() method\n",
    "cursor = conn.cursor()\n",
    "\n",
    "#Doping EMPLOYEE table if already exists.\n",
    "cursor.execute(\"DROP TABLE IF EXISTS income_data\")\n",
    "\n",
    "#Creating table as per requirement\n",
    "sql ='''CREATE TABLE \"income_data\" (\n",
    "    \"Borough\" varchar   NOT NULL,\n",
    "    \"INCOME LEVEL\" varchar   NOT NULL,\n",
    "    \"DBA\" varchar NOT NULL,\n",
    "    \"Street\" varchar   NOT NULL,\n",
    "    \"Grade Date\" Date NOT NULL,\n",
    "    \"Latitude\" int   NOT NULL,\n",
    "    \"Longitude\" int   NOT NULL,\n",
    "    CONSTRANT \"pk_income\" PRIMARY KEY (\n",
    "        \"Borough\"\n",
    "     )\n",
    ");'''\n",
    "#cursor.execute(sql)\n",
    "print(\"Table created successfully........\")\n",
    "\n",
    "# Commit your changes in the database\n",
    "conn.commit()\n",
    "\n",
    "#Closing the connection\n",
    "conn.close()"
   ]
  },
  {
   "cell_type": "code",
   "execution_count": 67,
   "id": "aa7f6898",
   "metadata": {},
   "outputs": [],
   "source": [
    "clean_income_df.to_sql('clean_income', con = engine, if_exists = 'append', index=False, chunksize = 1000)\n",
    "clean_inspection_df.to_sql('clean_inspection', con = engine, if_exists = 'append', index=False, chunksize = 1000)\n"
   ]
  },
  {
   "cell_type": "code",
   "execution_count": 72,
   "id": "58a0a87c",
   "metadata": {},
   "outputs": [],
   "source": [
    "engine = create_engine(\"sqlite:///NYC_restaurant.db\")\n",
    "Base = automap_base()\n",
    "Base = automap_base()\n",
    "Base.prepare(engine, reflect=True)"
   ]
  },
  {
   "cell_type": "code",
   "execution_count": 73,
   "id": "3c50d62b",
   "metadata": {},
   "outputs": [
    {
     "data": {
      "text/plain": [
       "[]"
      ]
     },
     "execution_count": 73,
     "metadata": {},
     "output_type": "execute_result"
    }
   ],
   "source": [
    "# We can view all of the classes that automap found\n",
    "Base.classes.keys()"
   ]
  },
  {
   "cell_type": "code",
   "execution_count": null,
   "id": "2aac1eba",
   "metadata": {},
   "outputs": [],
   "source": []
  }
 ],
 "metadata": {
  "kernelspec": {
   "display_name": "PythonData",
   "language": "python",
   "name": "pythondata"
  },
  "language_info": {
   "codemirror_mode": {
    "name": "ipython",
    "version": 3
   },
   "file_extension": ".py",
   "mimetype": "text/x-python",
   "name": "python",
   "nbconvert_exporter": "python",
   "pygments_lexer": "ipython3",
   "version": "3.7.11"
  }
 },
 "nbformat": 4,
 "nbformat_minor": 5
}
