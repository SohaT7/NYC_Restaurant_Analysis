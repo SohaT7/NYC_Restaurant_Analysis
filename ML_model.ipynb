{
 "cells": [
  {
   "cell_type": "code",
   "execution_count": 1,
   "id": "6957d1ca",
   "metadata": {},
   "outputs": [],
   "source": [
    "import warnings\n",
    "warnings.filterwarnings('ignore')"
   ]
  },
  {
   "cell_type": "code",
   "execution_count": 2,
   "id": "a1827eec",
   "metadata": {},
   "outputs": [],
   "source": [
    "import numpy as np\n",
    "import pandas as pd\n",
    "from pathlib import Path\n",
    "from collections import Counter"
   ]
  },
  {
   "cell_type": "markdown",
   "id": "ab219da5",
   "metadata": {},
   "source": [
    "## Read the CSV and Perform Basic Data Cleaning"
   ]
  },
  {
   "cell_type": "code",
   "execution_count": 3,
   "id": "1ace15ac",
   "metadata": {},
   "outputs": [],
   "source": [
    "# Load the file\n",
    "file_path = Path('NYC_restaurants_full_dataset.csv')"
   ]
  },
  {
   "cell_type": "code",
   "execution_count": 4,
   "id": "add937ec",
   "metadata": {},
   "outputs": [],
   "source": [
    "# Read into a dataFrame\n",
    "df = pd.read_csv(file_path)"
   ]
  },
  {
   "cell_type": "code",
   "execution_count": 5,
   "id": "90d73909",
   "metadata": {},
   "outputs": [
    {
     "data": {
      "text/html": [
       "<div>\n",
       "<style scoped>\n",
       "    .dataframe tbody tr th:only-of-type {\n",
       "        vertical-align: middle;\n",
       "    }\n",
       "\n",
       "    .dataframe tbody tr th {\n",
       "        vertical-align: top;\n",
       "    }\n",
       "\n",
       "    .dataframe thead th {\n",
       "        text-align: right;\n",
       "    }\n",
       "</style>\n",
       "<table border=\"1\" class=\"dataframe\">\n",
       "  <thead>\n",
       "    <tr style=\"text-align: right;\">\n",
       "      <th></th>\n",
       "      <th>DBA</th>\n",
       "      <th>STREET</th>\n",
       "      <th>INCOME_LEVEL</th>\n",
       "      <th>CUISINE_DESCRIPTION</th>\n",
       "      <th>SCORE</th>\n",
       "      <th>GRADE</th>\n",
       "    </tr>\n",
       "  </thead>\n",
       "  <tbody>\n",
       "    <tr>\n",
       "      <th>0</th>\n",
       "      <td>(LEWIS DRUG STORE) LOCANDA VINI E OLII</td>\n",
       "      <td>GATES AVENUE</td>\n",
       "      <td>medium income</td>\n",
       "      <td>Italian</td>\n",
       "      <td>2</td>\n",
       "      <td>A</td>\n",
       "    </tr>\n",
       "    <tr>\n",
       "      <th>1</th>\n",
       "      <td>(LEWIS DRUG STORE) LOCANDA VINI E OLII</td>\n",
       "      <td>GATES AVENUE</td>\n",
       "      <td>medium income</td>\n",
       "      <td>Italian</td>\n",
       "      <td>9</td>\n",
       "      <td>A</td>\n",
       "    </tr>\n",
       "    <tr>\n",
       "      <th>2</th>\n",
       "      <td>(PUBLIC FARE) 81st street and central park wes...</td>\n",
       "      <td>CENTRAL PARK WEST</td>\n",
       "      <td>high income</td>\n",
       "      <td>American</td>\n",
       "      <td>11</td>\n",
       "      <td>A</td>\n",
       "    </tr>\n",
       "    <tr>\n",
       "      <th>3</th>\n",
       "      <td>(PUBLIC FARE) 81st street and central park wes...</td>\n",
       "      <td>CENTRAL PARK WEST</td>\n",
       "      <td>high income</td>\n",
       "      <td>American</td>\n",
       "      <td>12</td>\n",
       "      <td>A</td>\n",
       "    </tr>\n",
       "    <tr>\n",
       "      <th>4</th>\n",
       "      <td>(PUBLIC FARE) 81st street and central park wes...</td>\n",
       "      <td>CENTRAL PARK WEST</td>\n",
       "      <td>high income</td>\n",
       "      <td>American</td>\n",
       "      <td>11</td>\n",
       "      <td>A</td>\n",
       "    </tr>\n",
       "    <tr>\n",
       "      <th>...</th>\n",
       "      <td>...</td>\n",
       "      <td>...</td>\n",
       "      <td>...</td>\n",
       "      <td>...</td>\n",
       "      <td>...</td>\n",
       "      <td>...</td>\n",
       "    </tr>\n",
       "    <tr>\n",
       "      <th>33688</th>\n",
       "      <td>ZUCKER'S BAGELS AND SMOKED FISH</td>\n",
       "      <td>CHAMBERS STREET</td>\n",
       "      <td>high income</td>\n",
       "      <td>Bagels/Pretzels</td>\n",
       "      <td>11</td>\n",
       "      <td>A</td>\n",
       "    </tr>\n",
       "    <tr>\n",
       "      <th>33689</th>\n",
       "      <td>ZUCKER'S BAGELS AND SMOKED FISH</td>\n",
       "      <td>CHAMBERS STREET</td>\n",
       "      <td>high income</td>\n",
       "      <td>Bagels/Pretzels</td>\n",
       "      <td>11</td>\n",
       "      <td>A</td>\n",
       "    </tr>\n",
       "    <tr>\n",
       "      <th>33690</th>\n",
       "      <td>ZUCKER'S BAGELS AND SMOKED FISH</td>\n",
       "      <td>CHAMBERS STREET</td>\n",
       "      <td>high income</td>\n",
       "      <td>Bagels/Pretzels</td>\n",
       "      <td>12</td>\n",
       "      <td>A</td>\n",
       "    </tr>\n",
       "    <tr>\n",
       "      <th>33691</th>\n",
       "      <td>ZUCKER'S BAGELS AND SMOKED FISH</td>\n",
       "      <td>CHAMBERS STREET</td>\n",
       "      <td>high income</td>\n",
       "      <td>Bagels/Pretzels</td>\n",
       "      <td>12</td>\n",
       "      <td>A</td>\n",
       "    </tr>\n",
       "    <tr>\n",
       "      <th>33692</th>\n",
       "      <td>ZUCKER'S BAGELS AND SMOKED FISH</td>\n",
       "      <td>CHAMBERS STREET</td>\n",
       "      <td>high income</td>\n",
       "      <td>Bagels/Pretzels</td>\n",
       "      <td>12</td>\n",
       "      <td>A</td>\n",
       "    </tr>\n",
       "  </tbody>\n",
       "</table>\n",
       "<p>33693 rows × 6 columns</p>\n",
       "</div>"
      ],
      "text/plain": [
       "                                                     DBA             STREET  \\\n",
       "0                 (LEWIS DRUG STORE) LOCANDA VINI E OLII       GATES AVENUE   \n",
       "1                 (LEWIS DRUG STORE) LOCANDA VINI E OLII       GATES AVENUE   \n",
       "2      (PUBLIC FARE) 81st street and central park wes...  CENTRAL PARK WEST   \n",
       "3      (PUBLIC FARE) 81st street and central park wes...  CENTRAL PARK WEST   \n",
       "4      (PUBLIC FARE) 81st street and central park wes...  CENTRAL PARK WEST   \n",
       "...                                                  ...                ...   \n",
       "33688                    ZUCKER'S BAGELS AND SMOKED FISH    CHAMBERS STREET   \n",
       "33689                    ZUCKER'S BAGELS AND SMOKED FISH    CHAMBERS STREET   \n",
       "33690                    ZUCKER'S BAGELS AND SMOKED FISH    CHAMBERS STREET   \n",
       "33691                    ZUCKER'S BAGELS AND SMOKED FISH    CHAMBERS STREET   \n",
       "33692                    ZUCKER'S BAGELS AND SMOKED FISH    CHAMBERS STREET   \n",
       "\n",
       "        INCOME_LEVEL CUISINE_DESCRIPTION  SCORE GRADE  \n",
       "0      medium income             Italian      2     A  \n",
       "1      medium income             Italian      9     A  \n",
       "2        high income            American     11     A  \n",
       "3        high income            American     12     A  \n",
       "4        high income            American     11     A  \n",
       "...              ...                 ...    ...   ...  \n",
       "33688    high income     Bagels/Pretzels     11     A  \n",
       "33689    high income     Bagels/Pretzels     11     A  \n",
       "33690    high income     Bagels/Pretzels     12     A  \n",
       "33691    high income     Bagels/Pretzels     12     A  \n",
       "33692    high income     Bagels/Pretzels     12     A  \n",
       "\n",
       "[33693 rows x 6 columns]"
      ]
     },
     "execution_count": 5,
     "metadata": {},
     "output_type": "execute_result"
    }
   ],
   "source": [
    "# Show dataFrame\n",
    "df"
   ]
  },
  {
   "cell_type": "code",
   "execution_count": 6,
   "id": "b32356ee",
   "metadata": {},
   "outputs": [
    {
     "data": {
      "text/html": [
       "<div>\n",
       "<style scoped>\n",
       "    .dataframe tbody tr th:only-of-type {\n",
       "        vertical-align: middle;\n",
       "    }\n",
       "\n",
       "    .dataframe tbody tr th {\n",
       "        vertical-align: top;\n",
       "    }\n",
       "\n",
       "    .dataframe thead th {\n",
       "        text-align: right;\n",
       "    }\n",
       "</style>\n",
       "<table border=\"1\" class=\"dataframe\">\n",
       "  <thead>\n",
       "    <tr style=\"text-align: right;\">\n",
       "      <th></th>\n",
       "      <th>DBA</th>\n",
       "      <th>STREET</th>\n",
       "      <th>INCOME_LEVEL</th>\n",
       "      <th>CUISINE_DESCRIPTION</th>\n",
       "      <th>SCORE</th>\n",
       "      <th>GRADE</th>\n",
       "    </tr>\n",
       "  </thead>\n",
       "  <tbody>\n",
       "    <tr>\n",
       "      <th>0</th>\n",
       "      <td>(LEWIS DRUG STORE) LOCANDA VINI E OLII</td>\n",
       "      <td>GATES AVENUE</td>\n",
       "      <td>medium income</td>\n",
       "      <td>Italian</td>\n",
       "      <td>2</td>\n",
       "      <td>A</td>\n",
       "    </tr>\n",
       "    <tr>\n",
       "      <th>1</th>\n",
       "      <td>(LEWIS DRUG STORE) LOCANDA VINI E OLII</td>\n",
       "      <td>GATES AVENUE</td>\n",
       "      <td>medium income</td>\n",
       "      <td>Italian</td>\n",
       "      <td>9</td>\n",
       "      <td>A</td>\n",
       "    </tr>\n",
       "    <tr>\n",
       "      <th>2</th>\n",
       "      <td>(PUBLIC FARE) 81st street and central park wes...</td>\n",
       "      <td>CENTRAL PARK WEST</td>\n",
       "      <td>high income</td>\n",
       "      <td>American</td>\n",
       "      <td>11</td>\n",
       "      <td>A</td>\n",
       "    </tr>\n",
       "    <tr>\n",
       "      <th>3</th>\n",
       "      <td>(PUBLIC FARE) 81st street and central park wes...</td>\n",
       "      <td>CENTRAL PARK WEST</td>\n",
       "      <td>high income</td>\n",
       "      <td>American</td>\n",
       "      <td>12</td>\n",
       "      <td>A</td>\n",
       "    </tr>\n",
       "    <tr>\n",
       "      <th>4</th>\n",
       "      <td>(PUBLIC FARE) 81st street and central park wes...</td>\n",
       "      <td>CENTRAL PARK WEST</td>\n",
       "      <td>high income</td>\n",
       "      <td>American</td>\n",
       "      <td>11</td>\n",
       "      <td>A</td>\n",
       "    </tr>\n",
       "  </tbody>\n",
       "</table>\n",
       "</div>"
      ],
      "text/plain": [
       "                                                 DBA             STREET  \\\n",
       "0             (LEWIS DRUG STORE) LOCANDA VINI E OLII       GATES AVENUE   \n",
       "1             (LEWIS DRUG STORE) LOCANDA VINI E OLII       GATES AVENUE   \n",
       "2  (PUBLIC FARE) 81st street and central park wes...  CENTRAL PARK WEST   \n",
       "3  (PUBLIC FARE) 81st street and central park wes...  CENTRAL PARK WEST   \n",
       "4  (PUBLIC FARE) 81st street and central park wes...  CENTRAL PARK WEST   \n",
       "\n",
       "    INCOME_LEVEL CUISINE_DESCRIPTION  SCORE GRADE  \n",
       "0  medium income             Italian      2     A  \n",
       "1  medium income             Italian      9     A  \n",
       "2    high income            American     11     A  \n",
       "3    high income            American     12     A  \n",
       "4    high income            American     11     A  "
      ]
     },
     "execution_count": 6,
     "metadata": {},
     "output_type": "execute_result"
    }
   ],
   "source": [
    "# Show df's first 5 rows only\n",
    "df.head()"
   ]
  },
  {
   "cell_type": "code",
   "execution_count": 7,
   "id": "ebe79ef4",
   "metadata": {},
   "outputs": [
    {
     "data": {
      "text/html": [
       "<div>\n",
       "<style scoped>\n",
       "    .dataframe tbody tr th:only-of-type {\n",
       "        vertical-align: middle;\n",
       "    }\n",
       "\n",
       "    .dataframe tbody tr th {\n",
       "        vertical-align: top;\n",
       "    }\n",
       "\n",
       "    .dataframe thead th {\n",
       "        text-align: right;\n",
       "    }\n",
       "</style>\n",
       "<table border=\"1\" class=\"dataframe\">\n",
       "  <thead>\n",
       "    <tr style=\"text-align: right;\">\n",
       "      <th></th>\n",
       "      <th>DBA</th>\n",
       "      <th>STREET</th>\n",
       "      <th>INCOME_LEVEL</th>\n",
       "      <th>CUISINE_DESCRIPTION</th>\n",
       "      <th>SCORE</th>\n",
       "      <th>GRADE</th>\n",
       "    </tr>\n",
       "  </thead>\n",
       "  <tbody>\n",
       "    <tr>\n",
       "      <th>33688</th>\n",
       "      <td>ZUCKER'S BAGELS AND SMOKED FISH</td>\n",
       "      <td>CHAMBERS STREET</td>\n",
       "      <td>high income</td>\n",
       "      <td>Bagels/Pretzels</td>\n",
       "      <td>11</td>\n",
       "      <td>A</td>\n",
       "    </tr>\n",
       "    <tr>\n",
       "      <th>33689</th>\n",
       "      <td>ZUCKER'S BAGELS AND SMOKED FISH</td>\n",
       "      <td>CHAMBERS STREET</td>\n",
       "      <td>high income</td>\n",
       "      <td>Bagels/Pretzels</td>\n",
       "      <td>11</td>\n",
       "      <td>A</td>\n",
       "    </tr>\n",
       "    <tr>\n",
       "      <th>33690</th>\n",
       "      <td>ZUCKER'S BAGELS AND SMOKED FISH</td>\n",
       "      <td>CHAMBERS STREET</td>\n",
       "      <td>high income</td>\n",
       "      <td>Bagels/Pretzels</td>\n",
       "      <td>12</td>\n",
       "      <td>A</td>\n",
       "    </tr>\n",
       "    <tr>\n",
       "      <th>33691</th>\n",
       "      <td>ZUCKER'S BAGELS AND SMOKED FISH</td>\n",
       "      <td>CHAMBERS STREET</td>\n",
       "      <td>high income</td>\n",
       "      <td>Bagels/Pretzels</td>\n",
       "      <td>12</td>\n",
       "      <td>A</td>\n",
       "    </tr>\n",
       "    <tr>\n",
       "      <th>33692</th>\n",
       "      <td>ZUCKER'S BAGELS AND SMOKED FISH</td>\n",
       "      <td>CHAMBERS STREET</td>\n",
       "      <td>high income</td>\n",
       "      <td>Bagels/Pretzels</td>\n",
       "      <td>12</td>\n",
       "      <td>A</td>\n",
       "    </tr>\n",
       "  </tbody>\n",
       "</table>\n",
       "</div>"
      ],
      "text/plain": [
       "                                   DBA           STREET INCOME_LEVEL  \\\n",
       "33688  ZUCKER'S BAGELS AND SMOKED FISH  CHAMBERS STREET  high income   \n",
       "33689  ZUCKER'S BAGELS AND SMOKED FISH  CHAMBERS STREET  high income   \n",
       "33690  ZUCKER'S BAGELS AND SMOKED FISH  CHAMBERS STREET  high income   \n",
       "33691  ZUCKER'S BAGELS AND SMOKED FISH  CHAMBERS STREET  high income   \n",
       "33692  ZUCKER'S BAGELS AND SMOKED FISH  CHAMBERS STREET  high income   \n",
       "\n",
       "      CUISINE_DESCRIPTION  SCORE GRADE  \n",
       "33688     Bagels/Pretzels     11     A  \n",
       "33689     Bagels/Pretzels     11     A  \n",
       "33690     Bagels/Pretzels     12     A  \n",
       "33691     Bagels/Pretzels     12     A  \n",
       "33692     Bagels/Pretzels     12     A  "
      ]
     },
     "execution_count": 7,
     "metadata": {},
     "output_type": "execute_result"
    }
   ],
   "source": [
    "# Show df's first 5 rows and last 5 rows only\n",
    "df.tail()"
   ]
  },
  {
   "cell_type": "code",
   "execution_count": 8,
   "id": "318b211b",
   "metadata": {},
   "outputs": [
    {
     "data": {
      "text/plain": [
       "DBA                    33693\n",
       "STREET                 33693\n",
       "INCOME_LEVEL           33693\n",
       "CUISINE_DESCRIPTION    33693\n",
       "SCORE                  33693\n",
       "GRADE                  33693\n",
       "dtype: int64"
      ]
     },
     "execution_count": 8,
     "metadata": {},
     "output_type": "execute_result"
    }
   ],
   "source": [
    "# Determine missing values: Count values in each column\n",
    "df.count()"
   ]
  },
  {
   "cell_type": "code",
   "execution_count": 12,
   "id": "1577be10",
   "metadata": {},
   "outputs": [
    {
     "data": {
      "text/plain": [
       "DBA                    0\n",
       "STREET                 0\n",
       "INCOME_LEVEL           0\n",
       "CUISINE_DESCRIPTION    0\n",
       "SCORE                  0\n",
       "GRADE                  0\n",
       "dtype: int64"
      ]
     },
     "execution_count": 12,
     "metadata": {},
     "output_type": "execute_result"
    }
   ],
   "source": [
    "# Determine missing values: isnull().sum()\n",
    "df.isnull().sum()"
   ]
  },
  {
   "cell_type": "code",
   "execution_count": 9,
   "id": "8c6a43e0",
   "metadata": {},
   "outputs": [
    {
     "data": {
      "text/plain": [
       "Index(['DBA', 'STREET', 'INCOME_LEVEL', 'CUISINE_DESCRIPTION', 'SCORE',\n",
       "       'GRADE'],\n",
       "      dtype='object')"
      ]
     },
     "execution_count": 9,
     "metadata": {},
     "output_type": "execute_result"
    }
   ],
   "source": [
    "# Get the names of all columns\n",
    "df.columns"
   ]
  },
  {
   "cell_type": "code",
   "execution_count": 10,
   "id": "b9de4947",
   "metadata": {},
   "outputs": [],
   "source": [
    "# Set the variables 'columns' and 'target', containing features varaibles and target variables respectively\n",
    "columns = ['DBA', 'STREET', 'INCOME_LEVEL', 'CUISINE_DESCRIPTION', 'SCORE']\n",
    "\n",
    "target = ['GRADE']"
   ]
  },
  {
   "cell_type": "code",
   "execution_count": 11,
   "id": "be431c5c",
   "metadata": {},
   "outputs": [
    {
     "name": "stdout",
     "output_type": "stream",
     "text": [
      "DBA                    object\n",
      "STREET                 object\n",
      "INCOME_LEVEL           object\n",
      "CUISINE_DESCRIPTION    object\n",
      "SCORE                   int64\n",
      "GRADE                  object\n",
      "dtype: object\n"
     ]
    }
   ],
   "source": [
    "# Check data types\n",
    "datatypes = df.dtypes\n",
    "print(datatypes)"
   ]
  },
  {
   "cell_type": "code",
   "execution_count": 18,
   "id": "a0185ed2",
   "metadata": {},
   "outputs": [
    {
     "data": {
      "text/plain": [
       "{'high income', 'low income', 'medium income'}"
      ]
     },
     "execution_count": 18,
     "metadata": {},
     "output_type": "execute_result"
    }
   ],
   "source": [
    "# Determine unique values in the column \"INCOME_LEVEL\"\n",
    "\n",
    "## Get a variable holding a list made out of values in \"INCOME_LEVEL\"\n",
    "income_types = df[\"INCOME_LEVEL\"].tolist()\n",
    "## Get the unique items in the \"income_types\" list\n",
    "set(income_types)"
   ]
  },
  {
   "cell_type": "code",
   "execution_count": 20,
   "id": "4a6be536",
   "metadata": {},
   "outputs": [
    {
     "data": {
      "text/plain": [
       "{'A', 'B', 'C', 'P', 'Z'}"
      ]
     },
     "execution_count": 20,
     "metadata": {},
     "output_type": "execute_result"
    }
   ],
   "source": [
    "# Determine unique values in the column \"GRADE\"\n",
    "\n",
    "## Get a variable holding a list made out of values in \"INCOME_LEVEL\"\n",
    "grade_types = df[\"GRADE\"].tolist()\n",
    "## Get the unique items in the \"income_types\" list\n",
    "set(grade_types)"
   ]
  },
  {
   "cell_type": "code",
   "execution_count": null,
   "id": "05d98ba9",
   "metadata": {},
   "outputs": [],
   "source": []
  }
 ],
 "metadata": {
  "kernelspec": {
   "display_name": "mlenv",
   "language": "python",
   "name": "mlenv"
  },
  "language_info": {
   "codemirror_mode": {
    "name": "ipython",
    "version": 3
   },
   "file_extension": ".py",
   "mimetype": "text/x-python",
   "name": "python",
   "nbconvert_exporter": "python",
   "pygments_lexer": "ipython3",
   "version": "3.7.11"
  }
 },
 "nbformat": 4,
 "nbformat_minor": 5
}
