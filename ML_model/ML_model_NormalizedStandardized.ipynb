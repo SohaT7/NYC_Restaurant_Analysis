{
 "cells": [
  {
   "cell_type": "code",
   "execution_count": 1,
   "id": "3067f179",
   "metadata": {},
   "outputs": [],
   "source": [
    "import warnings\n",
    "warnings.filterwarnings('ignore')"
   ]
  },
  {
   "cell_type": "code",
   "execution_count": 2,
   "id": "0af54476",
   "metadata": {},
   "outputs": [],
   "source": [
    "# Import our dependencies\n",
    "import pandas as pd\n",
    "import numpy as np\n",
    "from pathlib import Path\n",
    "from collections import Counter\n",
    "\n",
    "from sklearn.preprocessing import OneHotEncoder\n",
    "from sklearn.preprocessing import StandardScaler\n",
    "from sklearn.model_selection import train_test_split\n",
    "\n",
    "from sklearn.metrics import accuracy_score\n",
    "from sklearn.metrics import balanced_accuracy_score\n",
    "from sklearn.metrics import confusion_matrix\n",
    "from imblearn.metrics import classification_report_imbalanced"
   ]
  },
  {
   "cell_type": "code",
   "execution_count": 3,
   "id": "1810ca2d",
   "metadata": {},
   "outputs": [
    {
     "data": {
      "text/html": [
       "<div>\n",
       "<style scoped>\n",
       "    .dataframe tbody tr th:only-of-type {\n",
       "        vertical-align: middle;\n",
       "    }\n",
       "\n",
       "    .dataframe tbody tr th {\n",
       "        vertical-align: top;\n",
       "    }\n",
       "\n",
       "    .dataframe thead th {\n",
       "        text-align: right;\n",
       "    }\n",
       "</style>\n",
       "<table border=\"1\" class=\"dataframe\">\n",
       "  <thead>\n",
       "    <tr style=\"text-align: right;\">\n",
       "      <th></th>\n",
       "      <th>DBA</th>\n",
       "      <th>STREET</th>\n",
       "      <th>INCOME_LEVEL</th>\n",
       "      <th>BOROUGH</th>\n",
       "      <th>ZIPCODE</th>\n",
       "      <th>CUISINE_DESCRIPTION</th>\n",
       "      <th>SCORE</th>\n",
       "      <th>GRADE</th>\n",
       "    </tr>\n",
       "  </thead>\n",
       "  <tbody>\n",
       "    <tr>\n",
       "      <th>0</th>\n",
       "      <td>PATHOS</td>\n",
       "      <td>1 AVENUE</td>\n",
       "      <td>high income</td>\n",
       "      <td>Manhattan</td>\n",
       "      <td>10022</td>\n",
       "      <td>Mediterranean</td>\n",
       "      <td>9</td>\n",
       "      <td>A</td>\n",
       "    </tr>\n",
       "    <tr>\n",
       "      <th>1</th>\n",
       "      <td>THE LITTLE BEET</td>\n",
       "      <td>PARK AVENUE</td>\n",
       "      <td>high income</td>\n",
       "      <td>Manhattan</td>\n",
       "      <td>10017</td>\n",
       "      <td>Salads</td>\n",
       "      <td>13</td>\n",
       "      <td>A</td>\n",
       "    </tr>\n",
       "    <tr>\n",
       "      <th>2</th>\n",
       "      <td>AMAZE FUSION &amp; LOUNGE</td>\n",
       "      <td>3 AVENUE</td>\n",
       "      <td>high income</td>\n",
       "      <td>Manhattan</td>\n",
       "      <td>10017</td>\n",
       "      <td>Asian/Asian Fusion</td>\n",
       "      <td>27</td>\n",
       "      <td>B</td>\n",
       "    </tr>\n",
       "    <tr>\n",
       "      <th>3</th>\n",
       "      <td>NOURISH THAI</td>\n",
       "      <td>VANDERBILT AVENUE</td>\n",
       "      <td>medium income</td>\n",
       "      <td>Brooklyn</td>\n",
       "      <td>11238</td>\n",
       "      <td>Thai</td>\n",
       "      <td>9</td>\n",
       "      <td>A</td>\n",
       "    </tr>\n",
       "    <tr>\n",
       "      <th>4</th>\n",
       "      <td>ESSEN</td>\n",
       "      <td>MADISON AVENUE</td>\n",
       "      <td>high income</td>\n",
       "      <td>Manhattan</td>\n",
       "      <td>10017</td>\n",
       "      <td>Sandwiches</td>\n",
       "      <td>13</td>\n",
       "      <td>A</td>\n",
       "    </tr>\n",
       "  </tbody>\n",
       "</table>\n",
       "</div>"
      ],
      "text/plain": [
       "                     DBA             STREET   INCOME_LEVEL    BOROUGH  \\\n",
       "0                 PATHOS           1 AVENUE    high income  Manhattan   \n",
       "1        THE LITTLE BEET        PARK AVENUE    high income  Manhattan   \n",
       "2  AMAZE FUSION & LOUNGE           3 AVENUE    high income  Manhattan   \n",
       "3           NOURISH THAI  VANDERBILT AVENUE  medium income   Brooklyn   \n",
       "4                  ESSEN     MADISON AVENUE    high income  Manhattan   \n",
       "\n",
       "   ZIPCODE CUISINE_DESCRIPTION  SCORE GRADE  \n",
       "0    10022       Mediterranean      9     A  \n",
       "1    10017              Salads     13     A  \n",
       "2    10017  Asian/Asian Fusion     27     B  \n",
       "3    11238                Thai      9     A  \n",
       "4    10017          Sandwiches     13     A  "
      ]
     },
     "execution_count": 3,
     "metadata": {},
     "output_type": "execute_result"
    }
   ],
   "source": [
    "# Import our input dataset\n",
    "\n",
    "# Load the file\n",
    "file_path = Path('FINAL_NYC_restaurants_full_database.csv')\n",
    "# Read into a dataFrame\n",
    "df = pd.read_csv(file_path)\n",
    "# Show dataFrame\n",
    "df.head()"
   ]
  },
  {
   "cell_type": "code",
   "execution_count": 4,
   "id": "78d1a7cd",
   "metadata": {},
   "outputs": [
    {
     "name": "stdout",
     "output_type": "stream",
     "text": [
      "DBA                    object\n",
      "STREET                 object\n",
      "INCOME_LEVEL           object\n",
      "BOROUGH                object\n",
      "ZIPCODE                 int64\n",
      "CUISINE_DESCRIPTION    object\n",
      "SCORE                   int64\n",
      "GRADE                  object\n",
      "dtype: object\n"
     ]
    }
   ],
   "source": [
    "print(df.dtypes)"
   ]
  },
  {
   "cell_type": "code",
   "execution_count": 5,
   "id": "36ed6286",
   "metadata": {},
   "outputs": [
    {
     "name": "stdout",
     "output_type": "stream",
     "text": [
      "DBA                    object\n",
      "STREET                 object\n",
      "INCOME_LEVEL           object\n",
      "BOROUGH                object\n",
      "ZIPCODE                object\n",
      "CUISINE_DESCRIPTION    object\n",
      "SCORE                   int64\n",
      "GRADE                  object\n",
      "dtype: object\n"
     ]
    }
   ],
   "source": [
    "# Convert column for ZIPCODE from data type 'int' to str':\n",
    "df['ZIPCODE'] = df['ZIPCODE'].astype(str)\n",
    "\n",
    "print(df.dtypes)"
   ]
  },
  {
   "cell_type": "code",
   "execution_count": 6,
   "id": "0794851b",
   "metadata": {},
   "outputs": [
    {
     "data": {
      "text/plain": [
       "A    7033\n",
       "B     691\n",
       "C     222\n",
       "P     138\n",
       "Z      90\n",
       "N      50\n",
       "Name: GRADE, dtype: int64"
      ]
     },
     "execution_count": 6,
     "metadata": {},
     "output_type": "execute_result"
    }
   ],
   "source": [
    "# Determine different grades under 'GRADE' column\n",
    "df['GRADE'].value_counts()"
   ]
  },
  {
   "cell_type": "code",
   "execution_count": 7,
   "id": "dfc8f368",
   "metadata": {},
   "outputs": [],
   "source": [
    "# Drop the grades 'N', 'P', and 'Z'\n",
    "df.drop(df[(df['GRADE'] == 'N') | (df['GRADE'] == 'P') | (df['GRADE'] == 'Z')].index, inplace = True)"
   ]
  },
  {
   "cell_type": "code",
   "execution_count": 8,
   "id": "5f708a08",
   "metadata": {},
   "outputs": [
    {
     "data": {
      "text/plain": [
       "A    7033\n",
       "B     691\n",
       "C     222\n",
       "Name: GRADE, dtype: int64"
      ]
     },
     "execution_count": 8,
     "metadata": {},
     "output_type": "execute_result"
    }
   ],
   "source": [
    "# Determine different grades under 'GRADE' column\n",
    "df['GRADE'].value_counts()"
   ]
  },
  {
   "cell_type": "markdown",
   "id": "cdc894ed",
   "metadata": {},
   "source": [
    "# Preprocessing"
   ]
  },
  {
   "cell_type": "markdown",
   "id": "09243dbb",
   "metadata": {},
   "source": [
    "## Normalizing the Categorical Variables"
   ]
  },
  {
   "cell_type": "code",
   "execution_count": 9,
   "id": "95aa9c25",
   "metadata": {},
   "outputs": [
    {
     "data": {
      "text/plain": [
       "DBA                    2932\n",
       "STREET                  484\n",
       "INCOME_LEVEL              3\n",
       "BOROUGH                   5\n",
       "ZIPCODE                  78\n",
       "CUISINE_DESCRIPTION      69\n",
       "GRADE                     3\n",
       "dtype: int64"
      ]
     },
     "execution_count": 9,
     "metadata": {},
     "output_type": "execute_result"
    }
   ],
   "source": [
    "# # Generate our categorical variable list\n",
    "df_cat = df.dtypes[df.dtypes == \"object\"].index.tolist()\n",
    "\n",
    "# Check the number of unique values in each column\n",
    "df[df_cat].nunique()"
   ]
  },
  {
   "cell_type": "code",
   "execution_count": 10,
   "id": "94605e11",
   "metadata": {},
   "outputs": [
    {
     "name": "stdout",
     "output_type": "stream",
     "text": [
      "STARBUCKS                 216\n",
      "MCDONALD'S                136\n",
      "SUBWAY                    119\n",
      "KENNEDY FRIED CHICKEN      59\n",
      "CHIPOTLE MEXICAN GRILL     44\n",
      "                         ... \n",
      "ART BIRD & WHISKEY BAR      1\n",
      "THE HARBOR LIGHT PUB        1\n",
      "ANGELO BELLINI              1\n",
      "BAYARD SUSHI                1\n",
      "SOHO EATERY                 1\n",
      "Name: DBA, Length: 2932, dtype: int64\n"
     ]
    }
   ],
   "source": [
    "# Check the unique value counts to see if binning is required\n",
    "DBA_counts = df.DBA.value_counts()\n",
    "print(DBA_counts)"
   ]
  },
  {
   "cell_type": "code",
   "execution_count": 11,
   "id": "685922c4",
   "metadata": {},
   "outputs": [
    {
     "name": "stdout",
     "output_type": "stream",
     "text": [
      "2 AVENUE               356\n",
      "1 AVENUE               334\n",
      "3 AVENUE               311\n",
      "BROADWAY               270\n",
      "LEXINGTON AVENUE       255\n",
      "                      ... \n",
      "35TH ST                  1\n",
      "B  100 STREET            1\n",
      "ROCKAWAY BEACH BLVD      1\n",
      "CLAREMONT PARKWAY        1\n",
      "E 180TH ST               1\n",
      "Name: STREET, Length: 484, dtype: int64\n"
     ]
    }
   ],
   "source": [
    "STREET_counts = df.STREET.value_counts()\n",
    "print(STREET_counts)"
   ]
  },
  {
   "cell_type": "code",
   "execution_count": 12,
   "id": "e92da529",
   "metadata": {},
   "outputs": [
    {
     "name": "stdout",
     "output_type": "stream",
     "text": [
      "10013    810\n",
      "10022    773\n",
      "10017    564\n",
      "10009    474\n",
      "11238    419\n",
      "        ... \n",
      "11233      2\n",
      "11435      2\n",
      "11206      1\n",
      "10473      1\n",
      "11208      1\n",
      "Name: ZIPCODE, Length: 78, dtype: int64\n"
     ]
    }
   ],
   "source": [
    "ZIPCODE_counts = df.ZIPCODE.value_counts()\n",
    "print(ZIPCODE_counts)"
   ]
  },
  {
   "cell_type": "code",
   "execution_count": 13,
   "id": "f0a0cd4d",
   "metadata": {},
   "outputs": [
    {
     "name": "stdout",
     "output_type": "stream",
     "text": [
      "American            1732\n",
      "Coffee/Tea           692\n",
      "Chinese              682\n",
      "Italian              536\n",
      "Pizza                407\n",
      "                    ... \n",
      "Portuguese             2\n",
      "Cajun                  1\n",
      "Russian                1\n",
      "Hotdogs/Pretzels       1\n",
      "Lebanese               1\n",
      "Name: CUISINE_DESCRIPTION, Length: 69, dtype: int64\n"
     ]
    }
   ],
   "source": [
    "CUISINE_DESCRIPTION_counts = df.CUISINE_DESCRIPTION.value_counts()\n",
    "print(CUISINE_DESCRIPTION_counts)"
   ]
  },
  {
   "cell_type": "code",
   "execution_count": 14,
   "id": "f0e711d4",
   "metadata": {},
   "outputs": [
    {
     "data": {
      "text/plain": [
       "<AxesSubplot:ylabel='Density'>"
      ]
     },
     "execution_count": 14,
     "metadata": {},
     "output_type": "execute_result"
    },
    {
     "data": {
      "image/png": "[encoded data removed]",
      "text/plain": [
       "<Figure size 432x288 with 1 Axes>"
      ]
     },
     "metadata": {
      "needs_background": "light"
     },
     "output_type": "display_data"
    }
   ],
   "source": [
    "# Visualize the value counts\n",
    "DBA_counts.plot.density()"
   ]
  },
  {
   "cell_type": "code",
   "execution_count": 15,
   "id": "4c08bed1",
   "metadata": {},
   "outputs": [
    {
     "data": {
      "text/plain": [
       "Other                                 6123\n",
       "STARBUCKS                              216\n",
       "MCDONALD'S                             136\n",
       "SUBWAY                                 119\n",
       "KENNEDY FRIED CHICKEN                   59\n",
       "                                      ... \n",
       "EL PORTON BAR & MEXICAN RESTAURANT       5\n",
       "MEZCLA DE SABORES RESTAURANT             5\n",
       "SUSHI REN                                5\n",
       "HAINA RESTAURANT                         5\n",
       "PHO SAIGON                               5\n",
       "Name: DBA, Length: 190, dtype: int64"
      ]
     },
     "execution_count": 15,
     "metadata": {},
     "output_type": "execute_result"
    }
   ],
   "source": [
    "# Determine which values to replace\n",
    "replace_DBA = list(DBA_counts[DBA_counts < 5].index)\n",
    "\n",
    "# Replace in DataFrame\n",
    "for DBA in replace_DBA:\n",
    "    df.DBA = df.DBA.replace(DBA,\"Other\")\n",
    "\n",
    "\n",
    "# Check to make sure binning was successful\n",
    "df.DBA.value_counts()"
   ]
  },
  {
   "cell_type": "code",
   "execution_count": 16,
   "id": "7550afe6",
   "metadata": {},
   "outputs": [
    {
     "data": {
      "text/plain": [
       "<AxesSubplot:ylabel='Density'>"
      ]
     },
     "execution_count": 16,
     "metadata": {},
     "output_type": "execute_result"
    },
    {
     "data": {
      "image/png": "[encoded data removed]",
      "text/plain": [
       "<Figure size 432x288 with 1 Axes>"
      ]
     },
     "metadata": {
      "needs_background": "light"
     },
     "output_type": "display_data"
    }
   ],
   "source": [
    "# Visualize the new value counts\n",
    "DBA_counts_new = df.DBA.value_counts()\n",
    "DBA_counts_new.plot.density()"
   ]
  },
  {
   "cell_type": "code",
   "execution_count": 17,
   "id": "63619331",
   "metadata": {},
   "outputs": [
    {
     "data": {
      "text/plain": [
       "<AxesSubplot:ylabel='Density'>"
      ]
     },
     "execution_count": 17,
     "metadata": {},
     "output_type": "execute_result"
    },
    {
     "data": {
      "image/png": "[encoded data removed]",
      "text/plain": [
       "<Figure size 432x288 with 1 Axes>"
      ]
     },
     "metadata": {
      "needs_background": "light"
     },
     "output_type": "display_data"
    }
   ],
   "source": [
    "# Visualize the value counts\n",
    "STREET_counts.plot.density()"
   ]
  },
  {
   "cell_type": "code",
   "execution_count": 18,
   "id": "1c698193",
   "metadata": {},
   "outputs": [
    {
     "data": {
      "text/plain": [
       "Other                3047\n",
       "2 AVENUE              356\n",
       "1 AVENUE              334\n",
       "3 AVENUE              311\n",
       "BROADWAY              270\n",
       "                     ... \n",
       "BAYARD STREET          33\n",
       "EAST    7 STREET       33\n",
       "BOWERY                 32\n",
       "KISSENA BOULEVARD      30\n",
       "5 AVENUE               30\n",
       "Name: STREET, Length: 62, dtype: int64"
      ]
     },
     "execution_count": 18,
     "metadata": {},
     "output_type": "execute_result"
    }
   ],
   "source": [
    "# Determine which values to replace\n",
    "replace_STREET = list(STREET_counts[STREET_counts < 30].index)\n",
    "\n",
    "# Replace in DataFrame\n",
    "for STREET in replace_STREET:\n",
    "    df.STREET = df.STREET.replace(STREET,\"Other\")\n",
    "\n",
    "\n",
    "# Check to make sure binning was successful\n",
    "df.STREET.value_counts()"
   ]
  },
  {
   "cell_type": "code",
   "execution_count": 19,
   "id": "35b0c6ec",
   "metadata": {},
   "outputs": [
    {
     "data": {
      "text/plain": [
       "<AxesSubplot:ylabel='Density'>"
      ]
     },
     "execution_count": 19,
     "metadata": {},
     "output_type": "execute_result"
    },
    {
     "data": {
      "image/png": "[encoded data removed]",
      "text/plain": [
       "<Figure size 432x288 with 1 Axes>"
      ]
     },
     "metadata": {
      "needs_background": "light"
     },
     "output_type": "display_data"
    }
   ],
   "source": [
    "# Visualize the new value counts\n",
    "STREET_counts_new = df.STREET.value_counts()\n",
    "STREET_counts_new.plot.density()"
   ]
  },
  {
   "cell_type": "code",
   "execution_count": 20,
   "id": "e0cae05f",
   "metadata": {},
   "outputs": [
    {
     "data": {
      "text/plain": [
       "<AxesSubplot:ylabel='Density'>"
      ]
     },
     "execution_count": 20,
     "metadata": {},
     "output_type": "execute_result"
    },
    {
     "data": {
      "image/png": "[encoded data removed]",
      "text/plain": [
       "<Figure size 432x288 with 1 Axes>"
      ]
     },
     "metadata": {
      "needs_background": "light"
     },
     "output_type": "display_data"
    }
   ],
   "source": [
    "# Visualize the value counts\n",
    "ZIPCODE_counts.plot.density()"
   ]
  },
  {
   "cell_type": "code",
   "execution_count": 21,
   "id": "f7c40810",
   "metadata": {},
   "outputs": [
    {
     "data": {
      "text/plain": [
       "Other    2161\n",
       "10013     810\n",
       "10022     773\n",
       "10017     564\n",
       "10009     474\n",
       "11238     419\n",
       "11101     372\n",
       "10028     344\n",
       "10023     321\n",
       "11375     315\n",
       "10021     315\n",
       "11355     311\n",
       "10024     284\n",
       "10065     280\n",
       "10452     203\n",
       "Name: ZIPCODE, dtype: int64"
      ]
     },
     "execution_count": 21,
     "metadata": {},
     "output_type": "execute_result"
    }
   ],
   "source": [
    "# Determine which values to replace\n",
    "replace_ZIPCODE = list(ZIPCODE_counts[ZIPCODE_counts < 200].index)\n",
    "\n",
    "# Replace in DataFrame\n",
    "for ZIPCODE in replace_ZIPCODE:\n",
    "    df.ZIPCODE = df.ZIPCODE.replace(ZIPCODE,\"Other\")\n",
    "\n",
    "\n",
    "# Check to make sure binning was successful\n",
    "df.ZIPCODE.value_counts()"
   ]
  },
  {
   "cell_type": "code",
   "execution_count": 22,
   "id": "b9991e07",
   "metadata": {},
   "outputs": [
    {
     "data": {
      "text/plain": [
       "<AxesSubplot:ylabel='Density'>"
      ]
     },
     "execution_count": 22,
     "metadata": {},
     "output_type": "execute_result"
    },
    {
     "data": {
      "image/png": "[encoded data removed]",
      "text/plain": [
       "<Figure size 432x288 with 1 Axes>"
      ]
     },
     "metadata": {
      "needs_background": "light"
     },
     "output_type": "display_data"
    }
   ],
   "source": [
    "# Visualize the new value counts\n",
    "ZIPCODE_counts_new = df.ZIPCODE.value_counts()\n",
    "ZIPCODE_counts_new.plot.density()"
   ]
  },
  {
   "cell_type": "code",
   "execution_count": 23,
   "id": "aa6f7d5d",
   "metadata": {},
   "outputs": [
    {
     "data": {
      "text/plain": [
       "<AxesSubplot:ylabel='Density'>"
      ]
     },
     "execution_count": 23,
     "metadata": {},
     "output_type": "execute_result"
    },
    {
     "data": {
      "image/png": "[encoded data removed]",
      "text/plain": [
       "<Figure size 432x288 with 1 Axes>"
      ]
     },
     "metadata": {
      "needs_background": "light"
     },
     "output_type": "display_data"
    }
   ],
   "source": [
    "# Visualize the value counts\n",
    "CUISINE_DESCRIPTION_counts.plot.density()"
   ]
  },
  {
   "cell_type": "code",
   "execution_count": 24,
   "id": "8df27e29",
   "metadata": {},
   "outputs": [
    {
     "data": {
      "text/plain": [
       "Other             2997\n",
       "American          1732\n",
       "Coffee/Tea         692\n",
       "Chinese            682\n",
       "Italian            536\n",
       "Pizza              407\n",
       "Japanese           360\n",
       "Sandwiches         275\n",
       "Latin American     265\n",
       "Name: CUISINE_DESCRIPTION, dtype: int64"
      ]
     },
     "execution_count": 24,
     "metadata": {},
     "output_type": "execute_result"
    }
   ],
   "source": [
    "# Determine which values to replace\n",
    "replace_CUISINE_DESCRIPTION = list(CUISINE_DESCRIPTION_counts[CUISINE_DESCRIPTION_counts < 250].index)\n",
    "\n",
    "# Replace in DataFrame\n",
    "for CUISINE_DESCRIPTION in replace_CUISINE_DESCRIPTION:\n",
    "    df.CUISINE_DESCRIPTION = df.CUISINE_DESCRIPTION.replace(CUISINE_DESCRIPTION,\"Other\")\n",
    "\n",
    "\n",
    "# Check to make sure binning was successful\n",
    "df.CUISINE_DESCRIPTION.value_counts()"
   ]
  },
  {
   "cell_type": "code",
   "execution_count": 25,
   "id": "13b490c6",
   "metadata": {},
   "outputs": [
    {
     "data": {
      "text/plain": [
       "<AxesSubplot:ylabel='Density'>"
      ]
     },
     "execution_count": 25,
     "metadata": {},
     "output_type": "execute_result"
    },
    {
     "data": {
      "image/png": "[encoded data removed]",
      "text/plain": [
       "<Figure size 432x288 with 1 Axes>"
      ]
     },
     "metadata": {
      "needs_background": "light"
     },
     "output_type": "display_data"
    }
   ],
   "source": [
    "# Visualize the new value counts\n",
    "CUISINE_DESCRIPTION_counts_new = df.CUISINE_DESCRIPTION.value_counts()\n",
    "CUISINE_DESCRIPTION_counts_new.plot.density()"
   ]
  },
  {
   "cell_type": "code",
   "execution_count": 26,
   "id": "10179395",
   "metadata": {},
   "outputs": [
    {
     "data": {
      "text/plain": [
       "DBA                    190\n",
       "STREET                  62\n",
       "INCOME_LEVEL             3\n",
       "BOROUGH                  5\n",
       "ZIPCODE                 15\n",
       "CUISINE_DESCRIPTION      9\n",
       "GRADE                    3\n",
       "dtype: int64"
      ]
     },
     "execution_count": 26,
     "metadata": {},
     "output_type": "execute_result"
    }
   ],
   "source": [
    "# # Generate our categorical variable list\n",
    "df_cat = df.dtypes[df.dtypes == \"object\"].index.tolist()\n",
    "\n",
    "# Check the number of unique values in each column\n",
    "df[df_cat].nunique()"
   ]
  },
  {
   "cell_type": "markdown",
   "id": "b90a91c6",
   "metadata": {},
   "source": [
    "## Encoding the Variables"
   ]
  },
  {
   "cell_type": "markdown",
   "id": "f4492805",
   "metadata": {},
   "source": [
    "### Encoding the variable 'GRADE'"
   ]
  },
  {
   "cell_type": "code",
   "execution_count": 27,
   "id": "f93fa640",
   "metadata": {},
   "outputs": [
    {
     "data": {
      "text/html": [
       "<div>\n",
       "<style scoped>\n",
       "    .dataframe tbody tr th:only-of-type {\n",
       "        vertical-align: middle;\n",
       "    }\n",
       "\n",
       "    .dataframe tbody tr th {\n",
       "        vertical-align: top;\n",
       "    }\n",
       "\n",
       "    .dataframe thead th {\n",
       "        text-align: right;\n",
       "    }\n",
       "</style>\n",
       "<table border=\"1\" class=\"dataframe\">\n",
       "  <thead>\n",
       "    <tr style=\"text-align: right;\">\n",
       "      <th></th>\n",
       "      <th>DBA</th>\n",
       "      <th>STREET</th>\n",
       "      <th>INCOME_LEVEL</th>\n",
       "      <th>BOROUGH</th>\n",
       "      <th>ZIPCODE</th>\n",
       "      <th>CUISINE_DESCRIPTION</th>\n",
       "      <th>SCORE</th>\n",
       "      <th>GRADE</th>\n",
       "      <th>Grade</th>\n",
       "    </tr>\n",
       "  </thead>\n",
       "  <tbody>\n",
       "    <tr>\n",
       "      <th>0</th>\n",
       "      <td>Other</td>\n",
       "      <td>1 AVENUE</td>\n",
       "      <td>high income</td>\n",
       "      <td>Manhattan</td>\n",
       "      <td>10022</td>\n",
       "      <td>Other</td>\n",
       "      <td>9</td>\n",
       "      <td>A</td>\n",
       "      <td>0</td>\n",
       "    </tr>\n",
       "    <tr>\n",
       "      <th>1</th>\n",
       "      <td>THE LITTLE BEET</td>\n",
       "      <td>PARK AVENUE</td>\n",
       "      <td>high income</td>\n",
       "      <td>Manhattan</td>\n",
       "      <td>10017</td>\n",
       "      <td>Other</td>\n",
       "      <td>13</td>\n",
       "      <td>A</td>\n",
       "      <td>0</td>\n",
       "    </tr>\n",
       "    <tr>\n",
       "      <th>2</th>\n",
       "      <td>AMAZE FUSION &amp; LOUNGE</td>\n",
       "      <td>3 AVENUE</td>\n",
       "      <td>high income</td>\n",
       "      <td>Manhattan</td>\n",
       "      <td>10017</td>\n",
       "      <td>Other</td>\n",
       "      <td>27</td>\n",
       "      <td>B</td>\n",
       "      <td>1</td>\n",
       "    </tr>\n",
       "    <tr>\n",
       "      <th>3</th>\n",
       "      <td>Other</td>\n",
       "      <td>VANDERBILT AVENUE</td>\n",
       "      <td>medium income</td>\n",
       "      <td>Brooklyn</td>\n",
       "      <td>11238</td>\n",
       "      <td>Other</td>\n",
       "      <td>9</td>\n",
       "      <td>A</td>\n",
       "      <td>0</td>\n",
       "    </tr>\n",
       "    <tr>\n",
       "      <th>4</th>\n",
       "      <td>Other</td>\n",
       "      <td>MADISON AVENUE</td>\n",
       "      <td>high income</td>\n",
       "      <td>Manhattan</td>\n",
       "      <td>10017</td>\n",
       "      <td>Sandwiches</td>\n",
       "      <td>13</td>\n",
       "      <td>A</td>\n",
       "      <td>0</td>\n",
       "    </tr>\n",
       "  </tbody>\n",
       "</table>\n",
       "</div>"
      ],
      "text/plain": [
       "                     DBA             STREET   INCOME_LEVEL    BOROUGH ZIPCODE  \\\n",
       "0                  Other           1 AVENUE    high income  Manhattan   10022   \n",
       "1        THE LITTLE BEET        PARK AVENUE    high income  Manhattan   10017   \n",
       "2  AMAZE FUSION & LOUNGE           3 AVENUE    high income  Manhattan   10017   \n",
       "3                  Other  VANDERBILT AVENUE  medium income   Brooklyn   11238   \n",
       "4                  Other     MADISON AVENUE    high income  Manhattan   10017   \n",
       "\n",
       "  CUISINE_DESCRIPTION  SCORE GRADE  Grade  \n",
       "0               Other      9     A      0  \n",
       "1               Other     13     A      0  \n",
       "2               Other     27     B      1  \n",
       "3               Other      9     A      0  \n",
       "4          Sandwiches     13     A      0  "
      ]
     },
     "execution_count": 27,
     "metadata": {},
     "output_type": "execute_result"
    }
   ],
   "source": [
    "# Creating a 'high' and 'low' grade\n",
    "\n",
    "# Creating an instance of label encoder\n",
    "from sklearn.preprocessing import LabelEncoder\n",
    "\n",
    "label_encoder = LabelEncoder()\n",
    "df[\"Grade\"] = label_encoder.fit_transform(df[\"GRADE\"])\n",
    "df.head()"
   ]
  },
  {
   "cell_type": "code",
   "execution_count": 28,
   "id": "3258a8ac",
   "metadata": {},
   "outputs": [],
   "source": [
    "# Grade dictionary\n",
    "## The dictionary creates two categories for grades: \"high\" and \"low\".\n",
    "## \"high\" grade has been made to replace grades A and B, \n",
    "## whereas \"low\" grade has been made to replace all grades lower than A and B.\n",
    "\n",
    "GRADE_num = {\n",
    "    \"A\": \"high\",\n",
    "    \"B\": \"high\",\n",
    "    \"C\": \"low\",\n",
    "}"
   ]
  },
  {
   "cell_type": "code",
   "execution_count": 29,
   "id": "b2671c28",
   "metadata": {},
   "outputs": [
    {
     "data": {
      "text/html": [
       "<div>\n",
       "<style scoped>\n",
       "    .dataframe tbody tr th:only-of-type {\n",
       "        vertical-align: middle;\n",
       "    }\n",
       "\n",
       "    .dataframe tbody tr th {\n",
       "        vertical-align: top;\n",
       "    }\n",
       "\n",
       "    .dataframe thead th {\n",
       "        text-align: right;\n",
       "    }\n",
       "</style>\n",
       "<table border=\"1\" class=\"dataframe\">\n",
       "  <thead>\n",
       "    <tr style=\"text-align: right;\">\n",
       "      <th></th>\n",
       "      <th>DBA</th>\n",
       "      <th>STREET</th>\n",
       "      <th>INCOME_LEVEL</th>\n",
       "      <th>BOROUGH</th>\n",
       "      <th>ZIPCODE</th>\n",
       "      <th>CUISINE_DESCRIPTION</th>\n",
       "      <th>SCORE</th>\n",
       "      <th>GRADE</th>\n",
       "      <th>Grade</th>\n",
       "      <th>GRADE_num</th>\n",
       "    </tr>\n",
       "  </thead>\n",
       "  <tbody>\n",
       "    <tr>\n",
       "      <th>0</th>\n",
       "      <td>Other</td>\n",
       "      <td>1 AVENUE</td>\n",
       "      <td>high income</td>\n",
       "      <td>Manhattan</td>\n",
       "      <td>10022</td>\n",
       "      <td>Other</td>\n",
       "      <td>9</td>\n",
       "      <td>A</td>\n",
       "      <td>0</td>\n",
       "      <td>high</td>\n",
       "    </tr>\n",
       "    <tr>\n",
       "      <th>1</th>\n",
       "      <td>THE LITTLE BEET</td>\n",
       "      <td>PARK AVENUE</td>\n",
       "      <td>high income</td>\n",
       "      <td>Manhattan</td>\n",
       "      <td>10017</td>\n",
       "      <td>Other</td>\n",
       "      <td>13</td>\n",
       "      <td>A</td>\n",
       "      <td>0</td>\n",
       "      <td>high</td>\n",
       "    </tr>\n",
       "    <tr>\n",
       "      <th>2</th>\n",
       "      <td>AMAZE FUSION &amp; LOUNGE</td>\n",
       "      <td>3 AVENUE</td>\n",
       "      <td>high income</td>\n",
       "      <td>Manhattan</td>\n",
       "      <td>10017</td>\n",
       "      <td>Other</td>\n",
       "      <td>27</td>\n",
       "      <td>B</td>\n",
       "      <td>1</td>\n",
       "      <td>high</td>\n",
       "    </tr>\n",
       "    <tr>\n",
       "      <th>3</th>\n",
       "      <td>Other</td>\n",
       "      <td>VANDERBILT AVENUE</td>\n",
       "      <td>medium income</td>\n",
       "      <td>Brooklyn</td>\n",
       "      <td>11238</td>\n",
       "      <td>Other</td>\n",
       "      <td>9</td>\n",
       "      <td>A</td>\n",
       "      <td>0</td>\n",
       "      <td>high</td>\n",
       "    </tr>\n",
       "    <tr>\n",
       "      <th>4</th>\n",
       "      <td>Other</td>\n",
       "      <td>MADISON AVENUE</td>\n",
       "      <td>high income</td>\n",
       "      <td>Manhattan</td>\n",
       "      <td>10017</td>\n",
       "      <td>Sandwiches</td>\n",
       "      <td>13</td>\n",
       "      <td>A</td>\n",
       "      <td>0</td>\n",
       "      <td>high</td>\n",
       "    </tr>\n",
       "  </tbody>\n",
       "</table>\n",
       "</div>"
      ],
      "text/plain": [
       "                     DBA             STREET   INCOME_LEVEL    BOROUGH ZIPCODE  \\\n",
       "0                  Other           1 AVENUE    high income  Manhattan   10022   \n",
       "1        THE LITTLE BEET        PARK AVENUE    high income  Manhattan   10017   \n",
       "2  AMAZE FUSION & LOUNGE           3 AVENUE    high income  Manhattan   10017   \n",
       "3                  Other  VANDERBILT AVENUE  medium income   Brooklyn   11238   \n",
       "4                  Other     MADISON AVENUE    high income  Manhattan   10017   \n",
       "\n",
       "  CUISINE_DESCRIPTION  SCORE GRADE  Grade GRADE_num  \n",
       "0               Other      9     A      0      high  \n",
       "1               Other     13     A      0      high  \n",
       "2               Other     27     B      1      high  \n",
       "3               Other      9     A      0      high  \n",
       "4          Sandwiches     13     A      0      high  "
      ]
     },
     "execution_count": 29,
     "metadata": {},
     "output_type": "execute_result"
    }
   ],
   "source": [
    "# Grades encoded using the dictionary values\n",
    "df[\"GRADE_num\"] = df[\"GRADE\"].apply(lambda x: GRADE_num[x])\n",
    "df.head()"
   ]
  },
  {
   "cell_type": "code",
   "execution_count": 30,
   "id": "b0190014",
   "metadata": {},
   "outputs": [
    {
     "data": {
      "text/html": [
       "<div>\n",
       "<style scoped>\n",
       "    .dataframe tbody tr th:only-of-type {\n",
       "        vertical-align: middle;\n",
       "    }\n",
       "\n",
       "    .dataframe tbody tr th {\n",
       "        vertical-align: top;\n",
       "    }\n",
       "\n",
       "    .dataframe thead th {\n",
       "        text-align: right;\n",
       "    }\n",
       "</style>\n",
       "<table border=\"1\" class=\"dataframe\">\n",
       "  <thead>\n",
       "    <tr style=\"text-align: right;\">\n",
       "      <th></th>\n",
       "      <th>DBA</th>\n",
       "      <th>STREET</th>\n",
       "      <th>INCOME_LEVEL</th>\n",
       "      <th>BOROUGH</th>\n",
       "      <th>ZIPCODE</th>\n",
       "      <th>CUISINE_DESCRIPTION</th>\n",
       "      <th>SCORE</th>\n",
       "      <th>GRADE_num</th>\n",
       "    </tr>\n",
       "  </thead>\n",
       "  <tbody>\n",
       "    <tr>\n",
       "      <th>0</th>\n",
       "      <td>Other</td>\n",
       "      <td>1 AVENUE</td>\n",
       "      <td>high income</td>\n",
       "      <td>Manhattan</td>\n",
       "      <td>10022</td>\n",
       "      <td>Other</td>\n",
       "      <td>9</td>\n",
       "      <td>high</td>\n",
       "    </tr>\n",
       "    <tr>\n",
       "      <th>1</th>\n",
       "      <td>THE LITTLE BEET</td>\n",
       "      <td>PARK AVENUE</td>\n",
       "      <td>high income</td>\n",
       "      <td>Manhattan</td>\n",
       "      <td>10017</td>\n",
       "      <td>Other</td>\n",
       "      <td>13</td>\n",
       "      <td>high</td>\n",
       "    </tr>\n",
       "    <tr>\n",
       "      <th>2</th>\n",
       "      <td>AMAZE FUSION &amp; LOUNGE</td>\n",
       "      <td>3 AVENUE</td>\n",
       "      <td>high income</td>\n",
       "      <td>Manhattan</td>\n",
       "      <td>10017</td>\n",
       "      <td>Other</td>\n",
       "      <td>27</td>\n",
       "      <td>high</td>\n",
       "    </tr>\n",
       "    <tr>\n",
       "      <th>3</th>\n",
       "      <td>Other</td>\n",
       "      <td>VANDERBILT AVENUE</td>\n",
       "      <td>medium income</td>\n",
       "      <td>Brooklyn</td>\n",
       "      <td>11238</td>\n",
       "      <td>Other</td>\n",
       "      <td>9</td>\n",
       "      <td>high</td>\n",
       "    </tr>\n",
       "    <tr>\n",
       "      <th>4</th>\n",
       "      <td>Other</td>\n",
       "      <td>MADISON AVENUE</td>\n",
       "      <td>high income</td>\n",
       "      <td>Manhattan</td>\n",
       "      <td>10017</td>\n",
       "      <td>Sandwiches</td>\n",
       "      <td>13</td>\n",
       "      <td>high</td>\n",
       "    </tr>\n",
       "  </tbody>\n",
       "</table>\n",
       "</div>"
      ],
      "text/plain": [
       "                     DBA             STREET   INCOME_LEVEL    BOROUGH ZIPCODE  \\\n",
       "0                  Other           1 AVENUE    high income  Manhattan   10022   \n",
       "1        THE LITTLE BEET        PARK AVENUE    high income  Manhattan   10017   \n",
       "2  AMAZE FUSION & LOUNGE           3 AVENUE    high income  Manhattan   10017   \n",
       "3                  Other  VANDERBILT AVENUE  medium income   Brooklyn   11238   \n",
       "4                  Other     MADISON AVENUE    high income  Manhattan   10017   \n",
       "\n",
       "  CUISINE_DESCRIPTION  SCORE GRADE_num  \n",
       "0               Other      9      high  \n",
       "1               Other     13      high  \n",
       "2               Other     27      high  \n",
       "3               Other      9      high  \n",
       "4          Sandwiches     13      high  "
      ]
     },
     "execution_count": 30,
     "metadata": {},
     "output_type": "execute_result"
    }
   ],
   "source": [
    "# Drop the GRADE and Grade columns\n",
    "df = df.drop([\"GRADE\", \"Grade\"], axis=1)\n",
    "df.head()"
   ]
  },
  {
   "cell_type": "code",
   "execution_count": 31,
   "id": "d0aca75c",
   "metadata": {},
   "outputs": [
    {
     "data": {
      "text/plain": [
       "DBA                    190\n",
       "STREET                  62\n",
       "INCOME_LEVEL             3\n",
       "BOROUGH                  5\n",
       "ZIPCODE                 15\n",
       "CUISINE_DESCRIPTION      9\n",
       "GRADE_num                2\n",
       "dtype: int64"
      ]
     },
     "execution_count": 31,
     "metadata": {},
     "output_type": "execute_result"
    }
   ],
   "source": [
    "# # Generate our categorical variable list again\n",
    "df_cat = df.dtypes[df.dtypes == \"object\"].index.tolist()\n",
    "\n",
    "# Check the number of unique values in each column again\n",
    "df[df_cat].nunique()"
   ]
  },
  {
   "cell_type": "markdown",
   "id": "57ea1c00",
   "metadata": {},
   "source": [
    "### Encoding the Categorical Variables"
   ]
  },
  {
   "cell_type": "code",
   "execution_count": 32,
   "id": "a31cfe6f",
   "metadata": {},
   "outputs": [
    {
     "data": {
      "text/html": [
       "<div>\n",
       "<style scoped>\n",
       "    .dataframe tbody tr th:only-of-type {\n",
       "        vertical-align: middle;\n",
       "    }\n",
       "\n",
       "    .dataframe tbody tr th {\n",
       "        vertical-align: top;\n",
       "    }\n",
       "\n",
       "    .dataframe thead th {\n",
       "        text-align: right;\n",
       "    }\n",
       "</style>\n",
       "<table border=\"1\" class=\"dataframe\">\n",
       "  <thead>\n",
       "    <tr style=\"text-align: right;\">\n",
       "      <th></th>\n",
       "      <th>DBA_16 HANDLES</th>\n",
       "      <th>DBA_AA CHINESE RESTAURANT</th>\n",
       "      <th>DBA_AL HORNO LEAN MEXICAN</th>\n",
       "      <th>DBA_AMAZE FUSION &amp; LOUNGE</th>\n",
       "      <th>DBA_AMC THEATRES</th>\n",
       "      <th>DBA_AMERICAN CUT</th>\n",
       "      <th>DBA_ANEJO TRIBECA</th>\n",
       "      <th>DBA_APPLEBEE'S</th>\n",
       "      <th>DBA_ASIAN 59</th>\n",
       "      <th>DBA_BAREBURGER</th>\n",
       "      <th>...</th>\n",
       "      <th>CUISINE_DESCRIPTION_Chinese</th>\n",
       "      <th>CUISINE_DESCRIPTION_Coffee/Tea</th>\n",
       "      <th>CUISINE_DESCRIPTION_Italian</th>\n",
       "      <th>CUISINE_DESCRIPTION_Japanese</th>\n",
       "      <th>CUISINE_DESCRIPTION_Latin American</th>\n",
       "      <th>CUISINE_DESCRIPTION_Other</th>\n",
       "      <th>CUISINE_DESCRIPTION_Pizza</th>\n",
       "      <th>CUISINE_DESCRIPTION_Sandwiches</th>\n",
       "      <th>GRADE_num_high</th>\n",
       "      <th>GRADE_num_low</th>\n",
       "    </tr>\n",
       "  </thead>\n",
       "  <tbody>\n",
       "    <tr>\n",
       "      <th>0</th>\n",
       "      <td>0.0</td>\n",
       "      <td>0.0</td>\n",
       "      <td>0.0</td>\n",
       "      <td>0.0</td>\n",
       "      <td>0.0</td>\n",
       "      <td>0.0</td>\n",
       "      <td>0.0</td>\n",
       "      <td>0.0</td>\n",
       "      <td>0.0</td>\n",
       "      <td>0.0</td>\n",
       "      <td>...</td>\n",
       "      <td>0.0</td>\n",
       "      <td>0.0</td>\n",
       "      <td>0.0</td>\n",
       "      <td>0.0</td>\n",
       "      <td>0.0</td>\n",
       "      <td>1.0</td>\n",
       "      <td>0.0</td>\n",
       "      <td>0.0</td>\n",
       "      <td>1.0</td>\n",
       "      <td>0.0</td>\n",
       "    </tr>\n",
       "    <tr>\n",
       "      <th>1</th>\n",
       "      <td>0.0</td>\n",
       "      <td>0.0</td>\n",
       "      <td>0.0</td>\n",
       "      <td>0.0</td>\n",
       "      <td>0.0</td>\n",
       "      <td>0.0</td>\n",
       "      <td>0.0</td>\n",
       "      <td>0.0</td>\n",
       "      <td>0.0</td>\n",
       "      <td>0.0</td>\n",
       "      <td>...</td>\n",
       "      <td>0.0</td>\n",
       "      <td>0.0</td>\n",
       "      <td>0.0</td>\n",
       "      <td>0.0</td>\n",
       "      <td>0.0</td>\n",
       "      <td>1.0</td>\n",
       "      <td>0.0</td>\n",
       "      <td>0.0</td>\n",
       "      <td>1.0</td>\n",
       "      <td>0.0</td>\n",
       "    </tr>\n",
       "    <tr>\n",
       "      <th>2</th>\n",
       "      <td>0.0</td>\n",
       "      <td>0.0</td>\n",
       "      <td>0.0</td>\n",
       "      <td>1.0</td>\n",
       "      <td>0.0</td>\n",
       "      <td>0.0</td>\n",
       "      <td>0.0</td>\n",
       "      <td>0.0</td>\n",
       "      <td>0.0</td>\n",
       "      <td>0.0</td>\n",
       "      <td>...</td>\n",
       "      <td>0.0</td>\n",
       "      <td>0.0</td>\n",
       "      <td>0.0</td>\n",
       "      <td>0.0</td>\n",
       "      <td>0.0</td>\n",
       "      <td>1.0</td>\n",
       "      <td>0.0</td>\n",
       "      <td>0.0</td>\n",
       "      <td>1.0</td>\n",
       "      <td>0.0</td>\n",
       "    </tr>\n",
       "    <tr>\n",
       "      <th>3</th>\n",
       "      <td>0.0</td>\n",
       "      <td>0.0</td>\n",
       "      <td>0.0</td>\n",
       "      <td>0.0</td>\n",
       "      <td>0.0</td>\n",
       "      <td>0.0</td>\n",
       "      <td>0.0</td>\n",
       "      <td>0.0</td>\n",
       "      <td>0.0</td>\n",
       "      <td>0.0</td>\n",
       "      <td>...</td>\n",
       "      <td>0.0</td>\n",
       "      <td>0.0</td>\n",
       "      <td>0.0</td>\n",
       "      <td>0.0</td>\n",
       "      <td>0.0</td>\n",
       "      <td>1.0</td>\n",
       "      <td>0.0</td>\n",
       "      <td>0.0</td>\n",
       "      <td>1.0</td>\n",
       "      <td>0.0</td>\n",
       "    </tr>\n",
       "    <tr>\n",
       "      <th>4</th>\n",
       "      <td>0.0</td>\n",
       "      <td>0.0</td>\n",
       "      <td>0.0</td>\n",
       "      <td>0.0</td>\n",
       "      <td>0.0</td>\n",
       "      <td>0.0</td>\n",
       "      <td>0.0</td>\n",
       "      <td>0.0</td>\n",
       "      <td>0.0</td>\n",
       "      <td>0.0</td>\n",
       "      <td>...</td>\n",
       "      <td>0.0</td>\n",
       "      <td>0.0</td>\n",
       "      <td>0.0</td>\n",
       "      <td>0.0</td>\n",
       "      <td>0.0</td>\n",
       "      <td>0.0</td>\n",
       "      <td>0.0</td>\n",
       "      <td>1.0</td>\n",
       "      <td>1.0</td>\n",
       "      <td>0.0</td>\n",
       "    </tr>\n",
       "  </tbody>\n",
       "</table>\n",
       "<p>5 rows × 286 columns</p>\n",
       "</div>"
      ],
      "text/plain": [
       "   DBA_16 HANDLES  DBA_AA CHINESE RESTAURANT  DBA_AL HORNO LEAN MEXICAN  \\\n",
       "0             0.0                        0.0                        0.0   \n",
       "1             0.0                        0.0                        0.0   \n",
       "2             0.0                        0.0                        0.0   \n",
       "3             0.0                        0.0                        0.0   \n",
       "4             0.0                        0.0                        0.0   \n",
       "\n",
       "   DBA_AMAZE FUSION & LOUNGE  DBA_AMC THEATRES  DBA_AMERICAN CUT  \\\n",
       "0                        0.0               0.0               0.0   \n",
       "1                        0.0               0.0               0.0   \n",
       "2                        1.0               0.0               0.0   \n",
       "3                        0.0               0.0               0.0   \n",
       "4                        0.0               0.0               0.0   \n",
       "\n",
       "   DBA_ANEJO TRIBECA  DBA_APPLEBEE'S  DBA_ASIAN 59  DBA_BAREBURGER  ...  \\\n",
       "0                0.0             0.0           0.0             0.0  ...   \n",
       "1                0.0             0.0           0.0             0.0  ...   \n",
       "2                0.0             0.0           0.0             0.0  ...   \n",
       "3                0.0             0.0           0.0             0.0  ...   \n",
       "4                0.0             0.0           0.0             0.0  ...   \n",
       "\n",
       "   CUISINE_DESCRIPTION_Chinese  CUISINE_DESCRIPTION_Coffee/Tea  \\\n",
       "0                          0.0                             0.0   \n",
       "1                          0.0                             0.0   \n",
       "2                          0.0                             0.0   \n",
       "3                          0.0                             0.0   \n",
       "4                          0.0                             0.0   \n",
       "\n",
       "   CUISINE_DESCRIPTION_Italian  CUISINE_DESCRIPTION_Japanese  \\\n",
       "0                          0.0                           0.0   \n",
       "1                          0.0                           0.0   \n",
       "2                          0.0                           0.0   \n",
       "3                          0.0                           0.0   \n",
       "4                          0.0                           0.0   \n",
       "\n",
       "   CUISINE_DESCRIPTION_Latin American  CUISINE_DESCRIPTION_Other  \\\n",
       "0                                 0.0                        1.0   \n",
       "1                                 0.0                        1.0   \n",
       "2                                 0.0                        1.0   \n",
       "3                                 0.0                        1.0   \n",
       "4                                 0.0                        0.0   \n",
       "\n",
       "   CUISINE_DESCRIPTION_Pizza  CUISINE_DESCRIPTION_Sandwiches  GRADE_num_high  \\\n",
       "0                        0.0                             0.0             1.0   \n",
       "1                        0.0                             0.0             1.0   \n",
       "2                        0.0                             0.0             1.0   \n",
       "3                        0.0                             0.0             1.0   \n",
       "4                        0.0                             1.0             1.0   \n",
       "\n",
       "   GRADE_num_low  \n",
       "0            0.0  \n",
       "1            0.0  \n",
       "2            0.0  \n",
       "3            0.0  \n",
       "4            0.0  \n",
       "\n",
       "[5 rows x 286 columns]"
      ]
     },
     "execution_count": 32,
     "metadata": {},
     "output_type": "execute_result"
    }
   ],
   "source": [
    "# Create a OneHotEncoder instance\n",
    "enc = OneHotEncoder(sparse=False)\n",
    "\n",
    "# Fit and transform the OneHotEncoder using the categorical variable list\n",
    "encode_df = pd.DataFrame(enc.fit_transform(df[df_cat]))\n",
    "\n",
    "# Add the encoded variable names to the DataFrame\n",
    "encode_df.columns = enc.get_feature_names(df_cat)\n",
    "encode_df.head()"
   ]
  },
  {
   "cell_type": "code",
   "execution_count": 33,
   "id": "dd35522a",
   "metadata": {},
   "outputs": [
    {
     "data": {
      "text/html": [
       "<div>\n",
       "<style scoped>\n",
       "    .dataframe tbody tr th:only-of-type {\n",
       "        vertical-align: middle;\n",
       "    }\n",
       "\n",
       "    .dataframe tbody tr th {\n",
       "        vertical-align: top;\n",
       "    }\n",
       "\n",
       "    .dataframe thead th {\n",
       "        text-align: right;\n",
       "    }\n",
       "</style>\n",
       "<table border=\"1\" class=\"dataframe\">\n",
       "  <thead>\n",
       "    <tr style=\"text-align: right;\">\n",
       "      <th></th>\n",
       "      <th>SCORE</th>\n",
       "      <th>DBA_16 HANDLES</th>\n",
       "      <th>DBA_AA CHINESE RESTAURANT</th>\n",
       "      <th>DBA_AL HORNO LEAN MEXICAN</th>\n",
       "      <th>DBA_AMAZE FUSION &amp; LOUNGE</th>\n",
       "      <th>DBA_AMC THEATRES</th>\n",
       "      <th>DBA_AMERICAN CUT</th>\n",
       "      <th>DBA_ANEJO TRIBECA</th>\n",
       "      <th>DBA_APPLEBEE'S</th>\n",
       "      <th>DBA_ASIAN 59</th>\n",
       "      <th>...</th>\n",
       "      <th>CUISINE_DESCRIPTION_Chinese</th>\n",
       "      <th>CUISINE_DESCRIPTION_Coffee/Tea</th>\n",
       "      <th>CUISINE_DESCRIPTION_Italian</th>\n",
       "      <th>CUISINE_DESCRIPTION_Japanese</th>\n",
       "      <th>CUISINE_DESCRIPTION_Latin American</th>\n",
       "      <th>CUISINE_DESCRIPTION_Other</th>\n",
       "      <th>CUISINE_DESCRIPTION_Pizza</th>\n",
       "      <th>CUISINE_DESCRIPTION_Sandwiches</th>\n",
       "      <th>GRADE_num_high</th>\n",
       "      <th>GRADE_num_low</th>\n",
       "    </tr>\n",
       "  </thead>\n",
       "  <tbody>\n",
       "    <tr>\n",
       "      <th>0</th>\n",
       "      <td>9</td>\n",
       "      <td>0.0</td>\n",
       "      <td>0.0</td>\n",
       "      <td>0.0</td>\n",
       "      <td>0.0</td>\n",
       "      <td>0.0</td>\n",
       "      <td>0.0</td>\n",
       "      <td>0.0</td>\n",
       "      <td>0.0</td>\n",
       "      <td>0.0</td>\n",
       "      <td>...</td>\n",
       "      <td>0.0</td>\n",
       "      <td>0.0</td>\n",
       "      <td>0.0</td>\n",
       "      <td>0.0</td>\n",
       "      <td>0.0</td>\n",
       "      <td>1.0</td>\n",
       "      <td>0.0</td>\n",
       "      <td>0.0</td>\n",
       "      <td>1.0</td>\n",
       "      <td>0.0</td>\n",
       "    </tr>\n",
       "    <tr>\n",
       "      <th>1</th>\n",
       "      <td>13</td>\n",
       "      <td>0.0</td>\n",
       "      <td>0.0</td>\n",
       "      <td>0.0</td>\n",
       "      <td>0.0</td>\n",
       "      <td>0.0</td>\n",
       "      <td>0.0</td>\n",
       "      <td>0.0</td>\n",
       "      <td>0.0</td>\n",
       "      <td>0.0</td>\n",
       "      <td>...</td>\n",
       "      <td>0.0</td>\n",
       "      <td>0.0</td>\n",
       "      <td>0.0</td>\n",
       "      <td>0.0</td>\n",
       "      <td>0.0</td>\n",
       "      <td>1.0</td>\n",
       "      <td>0.0</td>\n",
       "      <td>0.0</td>\n",
       "      <td>1.0</td>\n",
       "      <td>0.0</td>\n",
       "    </tr>\n",
       "    <tr>\n",
       "      <th>2</th>\n",
       "      <td>27</td>\n",
       "      <td>0.0</td>\n",
       "      <td>0.0</td>\n",
       "      <td>0.0</td>\n",
       "      <td>1.0</td>\n",
       "      <td>0.0</td>\n",
       "      <td>0.0</td>\n",
       "      <td>0.0</td>\n",
       "      <td>0.0</td>\n",
       "      <td>0.0</td>\n",
       "      <td>...</td>\n",
       "      <td>0.0</td>\n",
       "      <td>0.0</td>\n",
       "      <td>0.0</td>\n",
       "      <td>0.0</td>\n",
       "      <td>0.0</td>\n",
       "      <td>1.0</td>\n",
       "      <td>0.0</td>\n",
       "      <td>0.0</td>\n",
       "      <td>1.0</td>\n",
       "      <td>0.0</td>\n",
       "    </tr>\n",
       "    <tr>\n",
       "      <th>3</th>\n",
       "      <td>9</td>\n",
       "      <td>0.0</td>\n",
       "      <td>0.0</td>\n",
       "      <td>0.0</td>\n",
       "      <td>0.0</td>\n",
       "      <td>0.0</td>\n",
       "      <td>0.0</td>\n",
       "      <td>0.0</td>\n",
       "      <td>0.0</td>\n",
       "      <td>0.0</td>\n",
       "      <td>...</td>\n",
       "      <td>0.0</td>\n",
       "      <td>0.0</td>\n",
       "      <td>0.0</td>\n",
       "      <td>0.0</td>\n",
       "      <td>0.0</td>\n",
       "      <td>1.0</td>\n",
       "      <td>0.0</td>\n",
       "      <td>0.0</td>\n",
       "      <td>1.0</td>\n",
       "      <td>0.0</td>\n",
       "    </tr>\n",
       "    <tr>\n",
       "      <th>4</th>\n",
       "      <td>13</td>\n",
       "      <td>0.0</td>\n",
       "      <td>0.0</td>\n",
       "      <td>0.0</td>\n",
       "      <td>0.0</td>\n",
       "      <td>0.0</td>\n",
       "      <td>0.0</td>\n",
       "      <td>0.0</td>\n",
       "      <td>0.0</td>\n",
       "      <td>0.0</td>\n",
       "      <td>...</td>\n",
       "      <td>0.0</td>\n",
       "      <td>0.0</td>\n",
       "      <td>0.0</td>\n",
       "      <td>0.0</td>\n",
       "      <td>0.0</td>\n",
       "      <td>0.0</td>\n",
       "      <td>0.0</td>\n",
       "      <td>1.0</td>\n",
       "      <td>1.0</td>\n",
       "      <td>0.0</td>\n",
       "    </tr>\n",
       "  </tbody>\n",
       "</table>\n",
       "<p>5 rows × 287 columns</p>\n",
       "</div>"
      ],
      "text/plain": [
       "   SCORE  DBA_16 HANDLES  DBA_AA CHINESE RESTAURANT  \\\n",
       "0      9             0.0                        0.0   \n",
       "1     13             0.0                        0.0   \n",
       "2     27             0.0                        0.0   \n",
       "3      9             0.0                        0.0   \n",
       "4     13             0.0                        0.0   \n",
       "\n",
       "   DBA_AL HORNO LEAN MEXICAN  DBA_AMAZE FUSION & LOUNGE  DBA_AMC THEATRES  \\\n",
       "0                        0.0                        0.0               0.0   \n",
       "1                        0.0                        0.0               0.0   \n",
       "2                        0.0                        1.0               0.0   \n",
       "3                        0.0                        0.0               0.0   \n",
       "4                        0.0                        0.0               0.0   \n",
       "\n",
       "   DBA_AMERICAN CUT  DBA_ANEJO TRIBECA  DBA_APPLEBEE'S  DBA_ASIAN 59  ...  \\\n",
       "0               0.0                0.0             0.0           0.0  ...   \n",
       "1               0.0                0.0             0.0           0.0  ...   \n",
       "2               0.0                0.0             0.0           0.0  ...   \n",
       "3               0.0                0.0             0.0           0.0  ...   \n",
       "4               0.0                0.0             0.0           0.0  ...   \n",
       "\n",
       "   CUISINE_DESCRIPTION_Chinese  CUISINE_DESCRIPTION_Coffee/Tea  \\\n",
       "0                          0.0                             0.0   \n",
       "1                          0.0                             0.0   \n",
       "2                          0.0                             0.0   \n",
       "3                          0.0                             0.0   \n",
       "4                          0.0                             0.0   \n",
       "\n",
       "   CUISINE_DESCRIPTION_Italian  CUISINE_DESCRIPTION_Japanese  \\\n",
       "0                          0.0                           0.0   \n",
       "1                          0.0                           0.0   \n",
       "2                          0.0                           0.0   \n",
       "3                          0.0                           0.0   \n",
       "4                          0.0                           0.0   \n",
       "\n",
       "   CUISINE_DESCRIPTION_Latin American  CUISINE_DESCRIPTION_Other  \\\n",
       "0                                 0.0                        1.0   \n",
       "1                                 0.0                        1.0   \n",
       "2                                 0.0                        1.0   \n",
       "3                                 0.0                        1.0   \n",
       "4                                 0.0                        0.0   \n",
       "\n",
       "   CUISINE_DESCRIPTION_Pizza  CUISINE_DESCRIPTION_Sandwiches  GRADE_num_high  \\\n",
       "0                        0.0                             0.0             1.0   \n",
       "1                        0.0                             0.0             1.0   \n",
       "2                        0.0                             0.0             1.0   \n",
       "3                        0.0                             0.0             1.0   \n",
       "4                        0.0                             1.0             1.0   \n",
       "\n",
       "   GRADE_num_low  \n",
       "0            0.0  \n",
       "1            0.0  \n",
       "2            0.0  \n",
       "3            0.0  \n",
       "4            0.0  \n",
       "\n",
       "[5 rows x 287 columns]"
      ]
     },
     "execution_count": 33,
     "metadata": {},
     "output_type": "execute_result"
    }
   ],
   "source": [
    "# Merge one-hot encoded features and drop the originals\n",
    "df = df.merge(encode_df,left_index=True, right_index=True)\n",
    "df = df.drop(df_cat,1)\n",
    "df.head()"
   ]
  },
  {
   "cell_type": "markdown",
   "id": "03de063c",
   "metadata": {},
   "source": [
    "## Splitting the Data, and Standardizing the Numerical Variables"
   ]
  },
  {
   "cell_type": "code",
   "execution_count": 34,
   "id": "464ab95a",
   "metadata": {},
   "outputs": [],
   "source": [
    "# Remove GRADE_num target from features data\n",
    "y = df.GRADE_num_high\n",
    "X = df.drop(columns=[\"GRADE_num_high\",\"GRADE_num_low\"])\n",
    "\n",
    "# Split training/test datasets\n",
    "X_train, X_test, y_train, y_test = train_test_split(X, y, random_state=42, stratify=y)\n",
    "\n",
    "# Create a StandardScaler instance\n",
    "scaler = StandardScaler()\n",
    "\n",
    "# Fit the StandardScaler\n",
    "X_scaler = scaler.fit(X_train)\n",
    "\n",
    "# Scale the data\n",
    "X_train_scaled = X_scaler.transform(X_train)\n",
    "X_test_scaled = X_scaler.transform(X_test)"
   ]
  },
  {
   "cell_type": "markdown",
   "id": "d0cda3b9",
   "metadata": {},
   "source": [
    "# Resampling Models"
   ]
  },
  {
   "cell_type": "markdown",
   "id": "ac39bcfe",
   "metadata": {},
   "source": [
    "## Oversampling: Naive Random Oversampling "
   ]
  },
  {
   "cell_type": "code",
   "execution_count": 35,
   "id": "dbe0ef89",
   "metadata": {},
   "outputs": [
    {
     "data": {
      "text/plain": [
       "Counter({1.0: 5598, 0.0: 5598})"
      ]
     },
     "execution_count": 35,
     "metadata": {},
     "output_type": "execute_result"
    }
   ],
   "source": [
    "# Resample the training data with the RandomOversampler\n",
    "from imblearn.over_sampling import RandomOverSampler\n",
    "ros = RandomOverSampler(random_state=1)\n",
    "X_resampled, y_resampled = ros.fit_resample(X_train_scaled, y_train)\n",
    "\n",
    "Counter(y_resampled)"
   ]
  },
  {
   "cell_type": "code",
   "execution_count": 36,
   "id": "7b011fa2",
   "metadata": {},
   "outputs": [
    {
     "data": {
      "text/plain": [
       "(11196,)"
      ]
     },
     "execution_count": 36,
     "metadata": {},
     "output_type": "execute_result"
    }
   ],
   "source": [
    "y_resampled.shape"
   ]
  },
  {
   "cell_type": "code",
   "execution_count": 37,
   "id": "8e6c9d60",
   "metadata": {},
   "outputs": [
    {
     "data": {
      "text/plain": [
       "LogisticRegression(random_state=1)"
      ]
     },
     "execution_count": 37,
     "metadata": {},
     "output_type": "execute_result"
    }
   ],
   "source": [
    "# Train the Logistic Regression model using the resampled data\n",
    "from sklearn.linear_model import LogisticRegression\n",
    "\n",
    "model = LogisticRegression(solver='lbfgs', random_state=1)\n",
    "model.fit(X_resampled, y_resampled)"
   ]
  },
  {
   "cell_type": "code",
   "execution_count": 38,
   "id": "e9ce0b18",
   "metadata": {},
   "outputs": [
    {
     "data": {
      "text/plain": [
       "array([0., 1., 1., ..., 1., 0., 1.])"
      ]
     },
     "execution_count": 38,
     "metadata": {},
     "output_type": "execute_result"
    }
   ],
   "source": [
    "# Evaluate the model\n",
    "y_pred = model.predict(X_test_scaled)\n",
    "y_pred"
   ]
  },
  {
   "cell_type": "code",
   "execution_count": 39,
   "id": "ddc1ac8a",
   "metadata": {},
   "outputs": [
    {
     "name": "stdout",
     "output_type": "stream",
     "text": [
      " This model's predictive accuracy is: 0.671\n"
     ]
    }
   ],
   "source": [
    "# Calculated the balanced accuracy score\n",
    "from sklearn.metrics import balanced_accuracy_score\n",
    "acc_score = balanced_accuracy_score(y_test, y_pred)\n",
    "print(f\" This model's predictive accuracy is: {accuracy_score(y_test,y_pred):.3f}\")"
   ]
  },
  {
   "cell_type": "code",
   "execution_count": 40,
   "id": "75bcda9e",
   "metadata": {},
   "outputs": [
    {
     "data": {
      "text/plain": [
       "array([[  23,   30],\n",
       "       [ 601, 1266]])"
      ]
     },
     "execution_count": 40,
     "metadata": {},
     "output_type": "execute_result"
    }
   ],
   "source": [
    "# Display the confusion matrix\n",
    "from sklearn.metrics import confusion_matrix\n",
    "confusion_matrix(y_test, y_pred)"
   ]
  },
  {
   "cell_type": "code",
   "execution_count": 41,
   "id": "d942b9ae",
   "metadata": {},
   "outputs": [
    {
     "name": "stdout",
     "output_type": "stream",
     "text": [
      "                   pre       rec       spe        f1       geo       iba       sup\n",
      "\n",
      "        0.0       0.04      0.43      0.68      0.07      0.54      0.29        53\n",
      "        1.0       0.98      0.68      0.43      0.80      0.54      0.30      1867\n",
      "\n",
      "avg / total       0.95      0.67      0.44      0.78      0.54      0.30      1920\n",
      "\n"
     ]
    }
   ],
   "source": [
    "# Print the imbalanced classification report\n",
    "from imblearn.metrics import classification_report_imbalanced\n",
    "print(classification_report_imbalanced(y_test, y_pred))"
   ]
  },
  {
   "cell_type": "markdown",
   "id": "a127073b",
   "metadata": {},
   "source": [
    "## Oversampling: SMOTE Oversampling"
   ]
  },
  {
   "cell_type": "code",
   "execution_count": 42,
   "id": "5d371963",
   "metadata": {},
   "outputs": [
    {
     "data": {
      "text/plain": [
       "Counter({1.0: 5598, 0.0: 5598})"
      ]
     },
     "execution_count": 42,
     "metadata": {},
     "output_type": "execute_result"
    }
   ],
   "source": [
    "# Resample the training data with SMOTE\n",
    "from imblearn.over_sampling import SMOTE\n",
    "X_resampled, y_resampled = SMOTE(random_state=1, sampling_strategy='auto').fit_resample(\n",
    "    X_train_scaled, y_train\n",
    ")\n",
    "\n",
    "Counter(y_resampled)"
   ]
  },
  {
   "cell_type": "code",
   "execution_count": 43,
   "id": "2428815a",
   "metadata": {},
   "outputs": [
    {
     "data": {
      "text/plain": [
       "(11196,)"
      ]
     },
     "execution_count": 43,
     "metadata": {},
     "output_type": "execute_result"
    }
   ],
   "source": [
    "y_resampled.shape"
   ]
  },
  {
   "cell_type": "code",
   "execution_count": 44,
   "id": "a4bb0075",
   "metadata": {},
   "outputs": [
    {
     "data": {
      "text/plain": [
       "LogisticRegression(random_state=1)"
      ]
     },
     "execution_count": 44,
     "metadata": {},
     "output_type": "execute_result"
    }
   ],
   "source": [
    "# Train the Logistic Regression model using the resampled data\n",
    "model = LogisticRegression(solver='lbfgs', random_state=1)\n",
    "model.fit(X_resampled, y_resampled)"
   ]
  },
  {
   "cell_type": "code",
   "execution_count": 45,
   "id": "b8dcbae9",
   "metadata": {},
   "outputs": [
    {
     "data": {
      "text/plain": [
       "array([0., 1., 1., ..., 1., 0., 1.])"
      ]
     },
     "execution_count": 45,
     "metadata": {},
     "output_type": "execute_result"
    }
   ],
   "source": [
    "# Evaluate the model\n",
    "y_pred = model.predict(X_test_scaled)\n",
    "y_pred"
   ]
  },
  {
   "cell_type": "code",
   "execution_count": 46,
   "id": "745db727",
   "metadata": {},
   "outputs": [
    {
     "name": "stdout",
     "output_type": "stream",
     "text": [
      " This model's predictive accuracy is: 0.685\n"
     ]
    }
   ],
   "source": [
    "# Calculated the balanced accuracy score\n",
    "acc_score = balanced_accuracy_score(y_test, y_pred)\n",
    "print(f\" This model's predictive accuracy is: {accuracy_score(y_test,y_pred):.3f}\")"
   ]
  },
  {
   "cell_type": "code",
   "execution_count": 47,
   "id": "90b8add5",
   "metadata": {},
   "outputs": [
    {
     "data": {
      "text/plain": [
       "array([[  22,   31],\n",
       "       [ 573, 1294]])"
      ]
     },
     "execution_count": 47,
     "metadata": {},
     "output_type": "execute_result"
    }
   ],
   "source": [
    "# Display the confusion matrix\n",
    "confusion_matrix(y_test, y_pred)"
   ]
  },
  {
   "cell_type": "code",
   "execution_count": 48,
   "id": "cbca8322",
   "metadata": {},
   "outputs": [
    {
     "name": "stdout",
     "output_type": "stream",
     "text": [
      "                   pre       rec       spe        f1       geo       iba       sup\n",
      "\n",
      "        0.0       0.04      0.42      0.69      0.07      0.54      0.28        53\n",
      "        1.0       0.98      0.69      0.42      0.81      0.54      0.30      1867\n",
      "\n",
      "avg / total       0.95      0.69      0.42      0.79      0.54      0.30      1920\n",
      "\n"
     ]
    }
   ],
   "source": [
    "# Print the imbalanced classification report\n",
    "print(classification_report_imbalanced(y_test, y_pred))"
   ]
  },
  {
   "cell_type": "markdown",
   "id": "d24f01ff",
   "metadata": {},
   "source": [
    "## Undersampling: Cluster Centroids"
   ]
  },
  {
   "cell_type": "code",
   "execution_count": 49,
   "id": "117d372c",
   "metadata": {},
   "outputs": [
    {
     "data": {
      "text/plain": [
       "Counter({0.0: 159, 1.0: 159})"
      ]
     },
     "execution_count": 49,
     "metadata": {},
     "output_type": "execute_result"
    }
   ],
   "source": [
    "# Resample the data using the ClusterCentroids resampler\n",
    "# Warning: This is a large dataset, and this step may take some time to complete\n",
    "from imblearn.under_sampling import ClusterCentroids\n",
    "cc = ClusterCentroids(random_state=1)\n",
    "X_resampled, y_resampled = cc.fit_resample(X_train_scaled, y_train)\n",
    "Counter(y_resampled)"
   ]
  },
  {
   "cell_type": "code",
   "execution_count": 50,
   "id": "ec036909",
   "metadata": {},
   "outputs": [
    {
     "data": {
      "text/plain": [
       "(318,)"
      ]
     },
     "execution_count": 50,
     "metadata": {},
     "output_type": "execute_result"
    }
   ],
   "source": [
    "y_resampled.shape"
   ]
  },
  {
   "cell_type": "code",
   "execution_count": 51,
   "id": "8b0b8110",
   "metadata": {},
   "outputs": [
    {
     "data": {
      "text/plain": [
       "LogisticRegression(random_state=1)"
      ]
     },
     "execution_count": 51,
     "metadata": {},
     "output_type": "execute_result"
    }
   ],
   "source": [
    "# Train the Logistic Regression model using the resampled data\n",
    "from sklearn.linear_model import LogisticRegression\n",
    "model = LogisticRegression(solver='lbfgs', random_state=1)\n",
    "model.fit(X_resampled, y_resampled)"
   ]
  },
  {
   "cell_type": "code",
   "execution_count": 52,
   "id": "98d1e7fc",
   "metadata": {},
   "outputs": [
    {
     "data": {
      "text/plain": [
       "array([0., 1., 1., ..., 1., 0., 0.])"
      ]
     },
     "execution_count": 52,
     "metadata": {},
     "output_type": "execute_result"
    }
   ],
   "source": [
    "# Evaluate the model\n",
    "y_pred = model.predict(X_test_scaled)\n",
    "y_pred"
   ]
  },
  {
   "cell_type": "code",
   "execution_count": 53,
   "id": "d8930b93",
   "metadata": {},
   "outputs": [
    {
     "name": "stdout",
     "output_type": "stream",
     "text": [
      " This model's predictive accuracy is: 0.432\n"
     ]
    }
   ],
   "source": [
    "# Calculated the balanced accuracy score\n",
    "acc_score = balanced_accuracy_score(y_test, y_pred)\n",
    "print(f\" This model's predictive accuracy is: {accuracy_score(y_test,y_pred):.3f}\")"
   ]
  },
  {
   "cell_type": "code",
   "execution_count": 54,
   "id": "f1aa9c6f",
   "metadata": {},
   "outputs": [
    {
     "data": {
      "text/plain": [
       "array([[  34,   19],\n",
       "       [1071,  796]])"
      ]
     },
     "execution_count": 54,
     "metadata": {},
     "output_type": "execute_result"
    }
   ],
   "source": [
    "# Display the confusion matrix\n",
    "from sklearn.metrics import confusion_matrix\n",
    "confusion_matrix(y_test, y_pred)"
   ]
  },
  {
   "cell_type": "code",
   "execution_count": 55,
   "id": "598468f3",
   "metadata": {},
   "outputs": [
    {
     "name": "stdout",
     "output_type": "stream",
     "text": [
      "                   pre       rec       spe        f1       geo       iba       sup\n",
      "\n",
      "        0.0       0.03      0.64      0.43      0.06      0.52      0.28        53\n",
      "        1.0       0.98      0.43      0.64      0.59      0.52      0.27      1867\n",
      "\n",
      "avg / total       0.95      0.43      0.64      0.58      0.52      0.27      1920\n",
      "\n"
     ]
    }
   ],
   "source": [
    "# Print the imbalanced classification report\n",
    "from imblearn.metrics import classification_report_imbalanced\n",
    "print(classification_report_imbalanced(y_test, y_pred))"
   ]
  },
  {
   "cell_type": "markdown",
   "id": "33ec8d1d",
   "metadata": {},
   "source": [
    "## Combination (Over and Under) Sampling: SMOTEENN"
   ]
  },
  {
   "cell_type": "code",
   "execution_count": 56,
   "id": "3847b183",
   "metadata": {},
   "outputs": [
    {
     "data": {
      "text/plain": [
       "Counter({0.0: 5008, 1.0: 5043})"
      ]
     },
     "execution_count": 56,
     "metadata": {},
     "output_type": "execute_result"
    }
   ],
   "source": [
    "# Resample the training data with SMOTEENN\n",
    "# Warning: This is a large dataset, and this step may take some time to complete\n",
    "from imblearn.combine import SMOTEENN\n",
    "\n",
    "smote_enn = SMOTEENN(random_state=1)\n",
    "X_resampled, y_resampled = smote_enn.fit_resample(X_train_scaled, y_train)\n",
    "Counter(y_resampled)"
   ]
  },
  {
   "cell_type": "code",
   "execution_count": 57,
   "id": "087a53e6",
   "metadata": {},
   "outputs": [
    {
     "data": {
      "text/plain": [
       "(10051,)"
      ]
     },
     "execution_count": 57,
     "metadata": {},
     "output_type": "execute_result"
    }
   ],
   "source": [
    "y_resampled.shape"
   ]
  },
  {
   "cell_type": "code",
   "execution_count": 58,
   "id": "e4c78d92",
   "metadata": {},
   "outputs": [
    {
     "data": {
      "text/plain": [
       "LogisticRegression(random_state=1)"
      ]
     },
     "execution_count": 58,
     "metadata": {},
     "output_type": "execute_result"
    }
   ],
   "source": [
    "# Train the Logistic Regression model using the resampled data\n",
    "from sklearn.linear_model import LogisticRegression\n",
    "model = LogisticRegression(solver='lbfgs', random_state=1)\n",
    "model.fit(X_resampled, y_resampled)"
   ]
  },
  {
   "cell_type": "code",
   "execution_count": 59,
   "id": "9c75ca7e",
   "metadata": {},
   "outputs": [
    {
     "data": {
      "text/plain": [
       "array([0., 1., 1., ..., 1., 1., 1.])"
      ]
     },
     "execution_count": 59,
     "metadata": {},
     "output_type": "execute_result"
    }
   ],
   "source": [
    "# Evaluate the model\n",
    "y_pred = model.predict(X_test_scaled)\n",
    "y_pred"
   ]
  },
  {
   "cell_type": "code",
   "execution_count": 60,
   "id": "8f73f93c",
   "metadata": {},
   "outputs": [
    {
     "name": "stdout",
     "output_type": "stream",
     "text": [
      " This model's predictive accuracy is: 0.682\n"
     ]
    }
   ],
   "source": [
    "# Calculated the balanced accuracy score\n",
    "acc_score = balanced_accuracy_score(y_test, y_pred)\n",
    "print(f\" This model's predictive accuracy is: {accuracy_score(y_test,y_pred):.3f}\")"
   ]
  },
  {
   "cell_type": "code",
   "execution_count": 61,
   "id": "81ccc300",
   "metadata": {},
   "outputs": [
    {
     "data": {
      "text/plain": [
       "array([[  21,   32],\n",
       "       [ 578, 1289]])"
      ]
     },
     "execution_count": 61,
     "metadata": {},
     "output_type": "execute_result"
    }
   ],
   "source": [
    "# Display the confusion matrix\n",
    "from sklearn.metrics import confusion_matrix\n",
    "confusion_matrix(y_test, y_pred)"
   ]
  },
  {
   "cell_type": "code",
   "execution_count": 62,
   "id": "0378ad1f",
   "metadata": {},
   "outputs": [
    {
     "name": "stdout",
     "output_type": "stream",
     "text": [
      "                   pre       rec       spe        f1       geo       iba       sup\n",
      "\n",
      "        0.0       0.04      0.40      0.69      0.06      0.52      0.27        53\n",
      "        1.0       0.98      0.69      0.40      0.81      0.52      0.28      1867\n",
      "\n",
      "avg / total       0.95      0.68      0.40      0.79      0.52      0.28      1920\n",
      "\n"
     ]
    }
   ],
   "source": [
    "# Print the imbalanced classification report\n",
    "from imblearn.metrics import classification_report_imbalanced\n",
    "print(classification_report_imbalanced(y_test, y_pred))"
   ]
  },
  {
   "cell_type": "markdown",
   "id": "50ad3d3c",
   "metadata": {},
   "source": [
    "# Ensemble Learning Models"
   ]
  },
  {
   "cell_type": "markdown",
   "id": "4fe1d532",
   "metadata": {},
   "source": [
    "## Random Forest Classifier"
   ]
  },
  {
   "cell_type": "code",
   "execution_count": 63,
   "id": "f89278a5",
   "metadata": {},
   "outputs": [],
   "source": [
    "# Create a random forest classifier.\n",
    "from sklearn.ensemble import RandomForestClassifier\n",
    "rf_model = RandomForestClassifier(n_estimators=128, random_state=78)"
   ]
  },
  {
   "cell_type": "code",
   "execution_count": 64,
   "id": "465d59e9",
   "metadata": {},
   "outputs": [
    {
     "data": {
      "text/plain": [
       "Counter({1.0: 5598, 0.0: 159})"
      ]
     },
     "execution_count": 64,
     "metadata": {},
     "output_type": "execute_result"
    }
   ],
   "source": [
    "# Fitting the model\n",
    "rf_model = rf_model.fit(X_train_scaled, y_train)\n",
    "\n",
    "Counter(y_train)"
   ]
  },
  {
   "cell_type": "code",
   "execution_count": 65,
   "id": "6aa5806e",
   "metadata": {},
   "outputs": [
    {
     "data": {
      "text/plain": [
       "(5757,)"
      ]
     },
     "execution_count": 65,
     "metadata": {},
     "output_type": "execute_result"
    }
   ],
   "source": [
    "y_train.shape"
   ]
  },
  {
   "cell_type": "code",
   "execution_count": 66,
   "id": "6da66c26",
   "metadata": {},
   "outputs": [
    {
     "data": {
      "text/plain": [
       "array([1., 1., 1., ..., 1., 1., 1.])"
      ]
     },
     "execution_count": 66,
     "metadata": {},
     "output_type": "execute_result"
    }
   ],
   "source": [
    "# Evaluate the model\n",
    "y_pred = rf_model.predict(X_test_scaled)\n",
    "y_pred"
   ]
  },
  {
   "cell_type": "code",
   "execution_count": 67,
   "id": "eeda9fd6",
   "metadata": {},
   "outputs": [
    {
     "name": "stdout",
     "output_type": "stream",
     "text": [
      " This model's predictive accuracy is: 0.964\n"
     ]
    }
   ],
   "source": [
    "# Calculated the accuracy score\n",
    "acc_score = accuracy_score(y_test, y_pred)\n",
    "print(f\" This model's predictive accuracy is: {accuracy_score(y_test,y_pred):.3f}\")"
   ]
  },
  {
   "cell_type": "code",
   "execution_count": 68,
   "id": "d336e1b8",
   "metadata": {},
   "outputs": [
    {
     "name": "stdout",
     "output_type": "stream",
     "text": [
      "Confusion Matrix\n"
     ]
    },
    {
     "data": {
      "text/html": [
       "<div>\n",
       "<style scoped>\n",
       "    .dataframe tbody tr th:only-of-type {\n",
       "        vertical-align: middle;\n",
       "    }\n",
       "\n",
       "    .dataframe tbody tr th {\n",
       "        vertical-align: top;\n",
       "    }\n",
       "\n",
       "    .dataframe thead th {\n",
       "        text-align: right;\n",
       "    }\n",
       "</style>\n",
       "<table border=\"1\" class=\"dataframe\">\n",
       "  <thead>\n",
       "    <tr style=\"text-align: right;\">\n",
       "      <th></th>\n",
       "      <th>Predicted 0</th>\n",
       "      <th>Predicted 1</th>\n",
       "    </tr>\n",
       "  </thead>\n",
       "  <tbody>\n",
       "    <tr>\n",
       "      <th>Actual 0</th>\n",
       "      <td>2</td>\n",
       "      <td>51</td>\n",
       "    </tr>\n",
       "    <tr>\n",
       "      <th>Actual 1</th>\n",
       "      <td>18</td>\n",
       "      <td>1849</td>\n",
       "    </tr>\n",
       "  </tbody>\n",
       "</table>\n",
       "</div>"
      ],
      "text/plain": [
       "          Predicted 0  Predicted 1\n",
       "Actual 0            2           51\n",
       "Actual 1           18         1849"
      ]
     },
     "metadata": {},
     "output_type": "display_data"
    }
   ],
   "source": [
    "# Display the confusion matrix\n",
    "cm = confusion_matrix(y_test, y_pred)\n",
    "\n",
    "# Create a DataFrame from the confusion matrix.\n",
    "cm_df = pd.DataFrame(\n",
    "    cm, index=[\"Actual 0\", \"Actual 1\"], columns=[\"Predicted 0\", \"Predicted 1\"])\n",
    "\n",
    "print(\"Confusion Matrix\")\n",
    "display(cm_df)"
   ]
  },
  {
   "cell_type": "code",
   "execution_count": 69,
   "id": "5679faa6",
   "metadata": {},
   "outputs": [
    {
     "name": "stdout",
     "output_type": "stream",
     "text": [
      "Classification Report\n",
      "                   pre       rec       spe        f1       geo       iba       sup\n",
      "\n",
      "        0.0       0.10      0.04      0.99      0.05      0.19      0.03        53\n",
      "        1.0       0.97      0.99      0.04      0.98      0.19      0.04      1867\n",
      "\n",
      "avg / total       0.95      0.96      0.06      0.96      0.19      0.04      1920\n",
      "\n"
     ]
    }
   ],
   "source": [
    "# Print the imbalanced classification report\n",
    "print(\"Classification Report\")\n",
    "print(classification_report_imbalanced(y_test, y_pred))"
   ]
  },
  {
   "cell_type": "markdown",
   "id": "b432785f",
   "metadata": {},
   "source": [
    "## Balanced Random Forest Classifier"
   ]
  },
  {
   "cell_type": "code",
   "execution_count": 70,
   "id": "45428d82",
   "metadata": {},
   "outputs": [],
   "source": [
    "# Resample the training data with the BalancedRandomForestClassifier\n",
    "from imblearn.ensemble import BalancedRandomForestClassifier\n",
    "# Create a balanced random forest classifier:\n",
    "brf_model = BalancedRandomForestClassifier(n_estimators=100, random_state=1)"
   ]
  },
  {
   "cell_type": "code",
   "execution_count": 71,
   "id": "707a12b5",
   "metadata": {},
   "outputs": [
    {
     "data": {
      "text/plain": [
       "Counter({1.0: 5598, 0.0: 159})"
      ]
     },
     "execution_count": 71,
     "metadata": {},
     "output_type": "execute_result"
    }
   ],
   "source": [
    "# Fitting the model:\n",
    "brf_model = brf_model.fit(X_train_scaled, y_train)\n",
    "Counter(y_train)"
   ]
  },
  {
   "cell_type": "code",
   "execution_count": 72,
   "id": "314d13cb",
   "metadata": {},
   "outputs": [
    {
     "data": {
      "text/plain": [
       "(5757,)"
      ]
     },
     "execution_count": 72,
     "metadata": {},
     "output_type": "execute_result"
    }
   ],
   "source": [
    "y_train.shape"
   ]
  },
  {
   "cell_type": "code",
   "execution_count": 73,
   "id": "e920846f",
   "metadata": {},
   "outputs": [
    {
     "data": {
      "text/plain": [
       "array([0., 1., 0., ..., 1., 1., 1.])"
      ]
     },
     "execution_count": 73,
     "metadata": {},
     "output_type": "execute_result"
    }
   ],
   "source": [
    "# Making predictions using the testing data:\n",
    "y_pred = brf_model.predict(X_test_scaled)\n",
    "y_pred"
   ]
  },
  {
   "cell_type": "code",
   "execution_count": 74,
   "id": "26ab2ef3",
   "metadata": {},
   "outputs": [
    {
     "name": "stdout",
     "output_type": "stream",
     "text": [
      " This model's predictive accuracy is: 0.566\n"
     ]
    }
   ],
   "source": [
    "# Calculated the balanced accuracy score\n",
    "acc_score = balanced_accuracy_score(y_test, y_pred)\n",
    "print(f\" This model's predictive accuracy is: {accuracy_score(y_test,y_pred):.3f}\")"
   ]
  },
  {
   "cell_type": "code",
   "execution_count": 75,
   "id": "81ebfbc4",
   "metadata": {},
   "outputs": [
    {
     "name": "stdout",
     "output_type": "stream",
     "text": [
      "Confusion Matrix\n"
     ]
    },
    {
     "data": {
      "text/html": [
       "<div>\n",
       "<style scoped>\n",
       "    .dataframe tbody tr th:only-of-type {\n",
       "        vertical-align: middle;\n",
       "    }\n",
       "\n",
       "    .dataframe tbody tr th {\n",
       "        vertical-align: top;\n",
       "    }\n",
       "\n",
       "    .dataframe thead th {\n",
       "        text-align: right;\n",
       "    }\n",
       "</style>\n",
       "<table border=\"1\" class=\"dataframe\">\n",
       "  <thead>\n",
       "    <tr style=\"text-align: right;\">\n",
       "      <th></th>\n",
       "      <th>Predicted 0</th>\n",
       "      <th>Predicted 1</th>\n",
       "    </tr>\n",
       "  </thead>\n",
       "  <tbody>\n",
       "    <tr>\n",
       "      <th>Actual 0</th>\n",
       "      <td>26</td>\n",
       "      <td>27</td>\n",
       "    </tr>\n",
       "    <tr>\n",
       "      <th>Actual 1</th>\n",
       "      <td>807</td>\n",
       "      <td>1060</td>\n",
       "    </tr>\n",
       "  </tbody>\n",
       "</table>\n",
       "</div>"
      ],
      "text/plain": [
       "          Predicted 0  Predicted 1\n",
       "Actual 0           26           27\n",
       "Actual 1          807         1060"
      ]
     },
     "metadata": {},
     "output_type": "display_data"
    }
   ],
   "source": [
    "# Display the confusion matrix\n",
    "cm = confusion_matrix(y_test, y_pred)\n",
    "\n",
    "# Create a DataFrame from the confusion matrix.\n",
    "cm_df = pd.DataFrame(\n",
    "    cm, index=[\"Actual 0\", \"Actual 1\"], columns=[\"Predicted 0\", \"Predicted 1\"])\n",
    "\n",
    "print(\"Confusion Matrix\")\n",
    "display(cm_df)"
   ]
  },
  {
   "cell_type": "code",
   "execution_count": 76,
   "id": "e958a01f",
   "metadata": {},
   "outputs": [
    {
     "name": "stdout",
     "output_type": "stream",
     "text": [
      "Classification Report\n",
      "                   pre       rec       spe        f1       geo       iba       sup\n",
      "\n",
      "        0.0       0.03      0.49      0.57      0.06      0.53      0.28        53\n",
      "        1.0       0.98      0.57      0.49      0.72      0.53      0.28      1867\n",
      "\n",
      "avg / total       0.95      0.57      0.49      0.70      0.53      0.28      1920\n",
      "\n"
     ]
    }
   ],
   "source": [
    "# Print the imbalanced classification report\n",
    "print(\"Classification Report\")\n",
    "print(classification_report_imbalanced(y_test, y_pred))"
   ]
  },
  {
   "cell_type": "code",
   "execution_count": 77,
   "id": "2a3333e5",
   "metadata": {},
   "outputs": [
    {
     "data": {
      "text/plain": [
       "[(0.2290779931355462, 'SCORE'),\n",
       " (0.03805951632611484, 'CUISINE_DESCRIPTION_Other'),\n",
       " (0.03627589193390178, 'STREET_Other'),\n",
       " (0.03134733707199353, 'CUISINE_DESCRIPTION_American'),\n",
       " (0.026746157471168482, 'DBA_Other'),\n",
       " (0.025858314543812738, 'CUISINE_DESCRIPTION_Chinese'),\n",
       " (0.019145498202553183, 'CUISINE_DESCRIPTION_Coffee/Tea'),\n",
       " (0.01779789060571926, 'ZIPCODE_Other'),\n",
       " (0.014534538312114398, 'CUISINE_DESCRIPTION_Italian'),\n",
       " (0.014428100721301509, 'ZIPCODE_10013'),\n",
       " (0.013611085781790797, 'INCOME_LEVEL_low income'),\n",
       " (0.013329256323173692, 'CUISINE_DESCRIPTION_Japanese'),\n",
       " (0.012337871626943449, 'ZIPCODE_10452'),\n",
       " (0.012321108275308919, 'ZIPCODE_10022'),\n",
       " (0.01231196008627753, 'CUISINE_DESCRIPTION_Pizza'),\n",
       " (0.011974710550990746, 'STREET_1 AVENUE'),\n",
       " (0.011015627216434582, 'ZIPCODE_11355'),\n",
       " (0.01098841114788368, 'ZIPCODE_10024'),\n",
       " (0.01086522338702657, 'ZIPCODE_10021'),\n",
       " (0.010802271298986237, 'INCOME_LEVEL_high income'),\n",
       " (0.010695221469029698, 'CUISINE_DESCRIPTION_Latin American'),\n",
       " (0.01058481922580019, 'ZIPCODE_10017'),\n",
       " (0.009995710632682172, 'STREET_LEXINGTON AVENUE'),\n",
       " (0.009579599201561343, 'STREET_2 AVENUE'),\n",
       " (0.009263811024974193, 'BOROUGH_Manhattan'),\n",
       " (0.009039692286729203, 'BOROUGH_Bronx'),\n",
       " (0.008905373767541023, 'STREET_AMSTERDAM AVENUE'),\n",
       " (0.008828775914822135, 'BOROUGH_Queens'),\n",
       " (0.008788279124153843, 'STREET_3 AVENUE'),\n",
       " (0.008627236877556255, 'ZIPCODE_10065'),\n",
       " (0.008612136726732658, 'CUISINE_DESCRIPTION_Sandwiches'),\n",
       " (0.008585767118668005, 'STREET_YORK AVENUE'),\n",
       " (0.008387988523961373, 'STREET_JEROME AVENUE'),\n",
       " (0.008358721504111783, 'ZIPCODE_10023'),\n",
       " (0.008338127284337145, 'ZIPCODE_10028'),\n",
       " (0.007872011683328765, 'INCOME_LEVEL_medium income'),\n",
       " (0.007850702141945604, 'ZIPCODE_11238'),\n",
       " (0.007573534041926928, 'STREET_EAST   53 STREET'),\n",
       " (0.0073515803198235296, 'STREET_MULBERRY STREET'),\n",
       " (0.007338328584074555, 'ZIPCODE_10009'),\n",
       " (0.006491194590661806, 'STREET_BROADWAY'),\n",
       " (0.006339814659967508, 'ZIPCODE_11101'),\n",
       " (0.006288274300862002, 'ZIPCODE_11375'),\n",
       " (0.005933943766129077, 'STREET_COLUMBUS AVENUE'),\n",
       " (0.0052829910219032985, 'DBA_STARBUCKS'),\n",
       " (0.005027320668716696, 'STREET_MADISON AVENUE'),\n",
       " (0.004873562710296678, 'STREET_WEST BROADWAY'),\n",
       " (0.004711849231025477, 'STREET_FULTON STREET'),\n",
       " (0.004493436907917781, 'STREET_AVENUE A'),\n",
       " (0.0044634220339502565, 'STREET_CHURCH STREET'),\n",
       " (0.004415806071004797, 'STREET_EAST   44 STREET'),\n",
       " (0.004327424413934336, 'BOROUGH_Brooklyn'),\n",
       " (0.004194211548387385, 'STREET_EAST  170 STREET'),\n",
       " (0.004035204066431115, 'STREET_VANDERBILT AVENUE'),\n",
       " (0.003951362983233061, \"DBA_MCDONALD'S\"),\n",
       " (0.003881270625998904, 'STREET_EAST   58 STREET'),\n",
       " (0.0038710845912062336, 'STREET_EAST  138 STREET'),\n",
       " (0.0038153873870699173, 'STREET_KISSENA BOULEVARD'),\n",
       " (0.0036710836708019863, 'DBA_BUKA'),\n",
       " (0.0036564105157957695, 'DBA_JOE AND THE JUICE'),\n",
       " (0.0036161299283813835, 'STREET_MAIN ST'),\n",
       " (0.0035770566615538364, 'DBA_MASTER GRILL'),\n",
       " (0.00349036291709954, 'DBA_KENNEDY FRIED CHICKEN'),\n",
       " (0.003471542015672696, 'STREET_QUEENS BLVD'),\n",
       " (0.0034577835786940734, 'STREET_EAST  167 STREET'),\n",
       " (0.0033750805048996745, 'STREET_GRAND CONCOURSE'),\n",
       " (0.0032175800816841875, 'STREET_41ST AVE'),\n",
       " (0.003197353902593068, 'STREET_CANAL STREET'),\n",
       " (0.0031854015639108195, 'STREET_WEST   72 STREET'),\n",
       " (0.002981377459326085, 'STREET_EAST TREMONT AVENUE'),\n",
       " (0.0029616771443688656, 'STREET_WASHINGTON AVENUE'),\n",
       " (0.0028879405310910343, 'STREET_EAST  149 STREET'),\n",
       " (0.002867662032476167, 'STREET_FRANKLIN AVENUE'),\n",
       " (0.0027776642985599454, 'BOROUGH_Staten Island'),\n",
       " (0.002769945946449647, 'STREET_WEBSTER AVENUE'),\n",
       " (0.0026131042303863643, 'DBA_SUBWAY'),\n",
       " (0.002598410418061012, 'STREET_GREENWICH STREET'),\n",
       " (0.0025347088993316652, 'STREET_AVENUE B'),\n",
       " (0.0025017313555886376, 'STREET_MAIN STREET'),\n",
       " (0.0024057065860799225, 'STREET_MOTT STREET'),\n",
       " (0.0022582576055439614, 'STREET_CITY ISLAND AVENUE'),\n",
       " (0.0021876813151487855, 'DBA_JUICE PRESS @ EQUINOX'),\n",
       " (0.002068917859661277, 'STREET_SOUTHERN BOULEVARD'),\n",
       " (0.002007527349054231, 'STREET_GRAND STREET'),\n",
       " (0.0019543256534771485, 'STREET_KISSENA BLVD'),\n",
       " (0.0019418516294335004, 'STREET_EAST   42 STREET'),\n",
       " (0.0019311862184740436, 'DBA_MOTT HAVEN BAR & GRILL'),\n",
       " (0.0019244940351205296, 'DBA_AL HORNO LEAN MEXICAN'),\n",
       " (0.0018642136180037343, 'DBA_SOUTHSIDE CAFE (Produce Market)'),\n",
       " (0.0018597291239388653, 'DBA_BUTTERCUP BAKESHOP'),\n",
       " (0.0018153729996946812, 'STREET_EAST    7 STREET'),\n",
       " (0.0018080503448050247, 'STREET_WESTCHESTER AVENUE'),\n",
       " (0.0017439083982060755, 'STREET_QUEENS BOULEVARD'),\n",
       " (0.0016116692027892624, 'DBA_BREAD & BUTTER'),\n",
       " (0.0016070680187342632, 'DBA_JOE & THE JUICE'),\n",
       " (0.0016069005693379402, 'DBA_SEIS VECINOS RESTAURANT'),\n",
       " (0.0015934321614616343, 'DBA_TALLGRASS BURGER'),\n",
       " (0.0015064760742094967, 'STREET_AUSTIN STREET'),\n",
       " (0.0014534563952459754, 'DBA_GOOD HEALTH CAFE'),\n",
       " (0.0014455650757009145, 'STREET_METROPOLITAN AVENUE'),\n",
       " (0.0013733799322133522, 'DBA_AA CHINESE RESTAURANT'),\n",
       " (0.001370483916574175, 'DBA_BEIJING STYLE BARBEQUE'),\n",
       " (0.0013277138549733839, \"DBA_SALVO'S\"),\n",
       " (0.0013166677743622949, 'STREET_HUDSON STREET'),\n",
       " (0.001310966778981587, 'DBA_SUSHI REN'),\n",
       " (0.0012719408686084396, 'DBA_LAO CHAO BUNS'),\n",
       " (0.0012495056468717195, 'STREET_EAST   60 STREET'),\n",
       " (0.0012255534133097552, 'DBA_LA CASA del MARISC'),\n",
       " (0.0012213664356047385, 'DBA_TANOSHI TEI'),\n",
       " (0.0012062005142749886, 'DBA_AMAZE FUSION & LOUNGE'),\n",
       " (0.001172968089905943, 'DBA_CHIPOTLE MEXICAN GRILL'),\n",
       " (0.0011470004206444945, 'DBA_EL REY LATINO RESTAURANT'),\n",
       " (0.0011069490030352928, \"DBA_GINBO'S HAMBURGER HOUSE\"),\n",
       " (0.0010991446826555903, 'STREET_BROOME STREET'),\n",
       " (0.0010883055657737075, 'STREET_EAST   54 STREET'),\n",
       " (0.0010867471487662193, 'DBA_HADJA MARLEY RESTAURANT'),\n",
       " (0.0010469208982111494, 'STREET_EAST   52 STREET'),\n",
       " (0.000985707513419512, 'STREET_BAYARD STREET'),\n",
       " (0.000924731243979296, 'DBA_LITTLE CAESARS'),\n",
       " (0.0009038278112059476, 'DBA_TEN JIN XEING BEING RESTAURANT'),\n",
       " (0.0008998066436176052, 'DBA_POPEYES'),\n",
       " (0.0008981533814577978, 'STREET_BOWERY'),\n",
       " (0.0008387709072474364, 'STREET_EAST   45 STREET'),\n",
       " (0.0008229386118275424, 'DBA_PARTY WELL RESTAURANT & ORIENTAL BAKERY'),\n",
       " (0.0007862155425353572, 'DBA_SWEET CHICK'),\n",
       " (0.0007741555920230626, 'STREET_EAST   49 STREET'),\n",
       " (0.0007708954358959093, 'STREET_AVENUE C'),\n",
       " (0.0007666422956006064, \"DBA_DOMINO'S\"),\n",
       " (0.0007457710281997895, 'DBA_PEKING DUCK HOUSE'),\n",
       " (0.0007359135720721309, 'STREET_EAST   55 STREET'),\n",
       " (0.0007266499921261246, 'STREET_PARK AVENUE'),\n",
       " (0.0007128096126412377, 'DBA_MEZCLA DE SABORES RESTAURANT'),\n",
       " (0.0007093951083835568, \"DBA_LUKE'S LOBSTER\"),\n",
       " (0.0006779988358064797, 'DBA_TEXAS CHICKEN & BURGERS'),\n",
       " (0.0006237222994169864, 'DBA_PRET A MANGER'),\n",
       " (0.0006163467707978874, 'DBA_EL NUEVO ROBLE BILLIARDS'),\n",
       " (0.0006093019048209033, 'DBA_HUNDRED TASTE'),\n",
       " (0.0006079071073455816, 'DBA_JUST SALAD'),\n",
       " (0.0005913642637554158, \"DBA_LI'S GARDEN\"),\n",
       " (0.0005667428702746625, 'DBA_LADY M CONFECTIONS'),\n",
       " (0.0005636657723063028, 'DBA_EL CALDERO RESTAURANT SPORT BAR'),\n",
       " (0.0005586674394383605, 'DBA_CHIRPING CHICKEN'),\n",
       " (0.0005439116189112336, 'STREET_5 AVENUE'),\n",
       " (0.0005086773645802326, 'DBA_ROAST KITCHEN'),\n",
       " (0.0005051788178397223, 'DBA_DENG JI RESTAURANT'),\n",
       " (0.0005044103590588691, 'DBA_MAXIN BAKERY'),\n",
       " (0.00048142300861858005, \"DBA_DUNKIN'\"),\n",
       " (0.0004763357114038193, 'DBA_HE NAN CUISINE'),\n",
       " (0.00046773545427821687, \"DBA_MARIO'S PIZZA 2\"),\n",
       " (0.00046694859650876037, 'DBA_M & J HONG KONG STYLE'),\n",
       " (0.0004647250475881878, 'DBA_SHUN WON FLUSHING'),\n",
       " (0.0004391860682280313, 'DBA_HAINA RESTAURANT'),\n",
       " (0.0004219375726095277, 'DBA_PARADISE CAFE NY RESTAURANT'),\n",
       " (0.0004019652530435484, 'DBA_PHO SAIGON'),\n",
       " (0.0003993171171994929, 'DBA_PHO BEST'),\n",
       " (0.0003983351581944798, 'DBA_FAY DA BAKERY'),\n",
       " (0.0003978082664204434, 'DBA_MADISON CAFE'),\n",
       " (0.0003962218844257822, 'DBA_VAN LEEUWEN ICE CREAM'),\n",
       " (0.00038630923205417616, 'DBA_BURGER KING'),\n",
       " (0.00036808700852486936, 'DBA_LE BOTANISTE'),\n",
       " (0.00036585335334640435, 'DBA_LOVE GARDEN'),\n",
       " (0.0003647071195909957, 'DBA_PARIS BAGUETTE'),\n",
       " (0.00035708037716271996, 'DBA_SUSHI TIME'),\n",
       " (0.0003479345056921515, 'DBA_L.A. GOURMET'),\n",
       " (0.0003477028585536148, 'DBA_CRAVE FISH BAR'),\n",
       " (0.00034426538898343206, \"DBA_TINA'S CUBAN CUISINE RESTAURANT\"),\n",
       " (0.000325286166145764, 'DBA_GREGORYS COFFEE'),\n",
       " (0.00032286289882529575, 'DBA_HOMEMADE TAQUERIA'),\n",
       " (0.0003152073397853134, 'DBA_SENN THAI COMFORT FOOD'),\n",
       " (0.0003087578217379123, 'DBA_LENWICH'),\n",
       " (0.00030600454949007434, 'DBA_KUNG FU XIAO LONG BAO'),\n",
       " (0.00028881149190318115, 'DBA_MICHELY DELI & FOOD MARKET'),\n",
       " (0.0002830035956718771, 'DBA_OM INDIAN RESTAURANT'),\n",
       " (0.00028036308760951865, 'DBA_GONG CHA'),\n",
       " (0.00027863471657217246, 'DBA_SHAKE SHACK'),\n",
       " (0.00027797978045887383, 'DBA_JUPIOCA'),\n",
       " (0.0002756099182446889, 'DBA_JEF CHINESE'),\n",
       " (0.00027030565697639997, 'DBA_SPICE'),\n",
       " (0.00026692210493208576, 'DBA_FOO HING KITCHEN'),\n",
       " (0.0002656862188510562, 'DBA_HALE & HEARTY SOUP'),\n",
       " (0.0002593500339475022, 'DBA_MILE 17'),\n",
       " (0.0002453964241716771, 'DBA_CHECKERS'),\n",
       " (0.00024358627095178852, 'DBA_VIN SUR VINGT'),\n",
       " (0.00024357174041155148, 'DBA_TACO BELL'),\n",
       " (0.0002404910333110241, 'DBA_PICK A BAGEL'),\n",
       " (0.00023980060759219853, 'DBA_DISHES'),\n",
       " (0.00022388760137949956, 'DBA_STARBUCKS COFFEE'),\n",
       " (0.00021796850656034667, 'DBA_ANEJO TRIBECA'),\n",
       " (0.0002171341022008356, 'DBA_VOTE FOR PEDRO'),\n",
       " (0.0002156320306318149, \"DBA_WENDY'S\"),\n",
       " (0.00021559233098235938, 'DBA_FLOWER BROOK MIFEN HOUSE'),\n",
       " (0.0001961507791037041, 'DBA_CROWN FRIED CHICKEN'),\n",
       " (0.00019233995723156336, 'DBA_CHINA KING OGDEN RESTAURANT'),\n",
       " (0.00019152481644730952, 'DBA_FUJI JAPANESE CUISINE'),\n",
       " (0.00018788976085813797, 'DBA_LE PAIN QUOTIDIEN'),\n",
       " (0.00018693349194703405, 'DBA_GOURMET BAGEL'),\n",
       " (0.00018556599561622936, \"DBA_SAMMY'S ORIGINAL SHRIMP BOX\"),\n",
       " (0.00017711670159055535, 'DBA_COCO FRESH TEA & JUICE'),\n",
       " (0.00016957530783410002, 'DBA_CAFE FRESCO'),\n",
       " (0.00016269381515717296, 'DBA_PHO BANG RESTAURANT'),\n",
       " (0.000162150883184317, \"DBA_MEL'S BURGER\"),\n",
       " (0.0001541789342574387, 'DBA_VIVE LA CREPE'),\n",
       " (0.0001524342987238985, 'DBA_AMERICAN CUT'),\n",
       " (0.0001483343443289489, 'DBA_JUICE GENERATION'),\n",
       " (0.0001417318017510216, 'DBA_AMC THEATRES'),\n",
       " (0.00014161319232697966, \"DBA_CIRO'S PIZZA\"),\n",
       " (0.00013410041526570977, 'DBA_KAVASUTRA'),\n",
       " (0.0001337704152697808, 'DBA_TOASTIES'),\n",
       " (0.00013149986407211535, \"DBA_SHANE'S CAFE\"),\n",
       " (0.00013067034832985242, 'DBA_BLUESTONE LANE'),\n",
       " (0.0001250943181871515, 'DBA_RETRO FITNESS'),\n",
       " (0.00012366358733087972, 'DBA_DIG INN'),\n",
       " (0.00012010305877843791, 'DBA_MULBERRY & VINE'),\n",
       " (0.00011944854729492453, 'DBA_CALEXICO'),\n",
       " (0.00010794167515019527, \"DBA_THE ORIGINAL VINCENT'S ESTABLISH 1904\"),\n",
       " (0.00010678433636656082, 'DBA_PEAK THAI'),\n",
       " (0.00010659117690829823, 'DBA_WESTVILLE'),\n",
       " (0.00010302705155440465, 'DBA_INSOMNIA COOKIES'),\n",
       " (9.922384755767226e-05, 'DBA_16 HANDLES'),\n",
       " (9.773776067388298e-05, 'DBA_US KENNEDY FRIED CHICKEN'),\n",
       " (9.725991002636443e-05, 'DBA_CARIDAD RESTAURANT'),\n",
       " (9.438057453000552e-05, \"DBA_GREGORY'S COFFEE\"),\n",
       " (9.035964844982054e-05, 'DBA_PINKBERRY'),\n",
       " (8.770201973383449e-05, 'DBA_MAMAN'),\n",
       " (8.233574423473122e-05, 'DBA_El Barrio Burritos'),\n",
       " (8.148950795894915e-05, 'DBA_ASIAN 59'),\n",
       " (8.087798161372657e-05, 'DBA_THE NATIONAL'),\n",
       " (8.069064411276969e-05, 'DBA_CINEMART CINEMAS'),\n",
       " (8.067825754448264e-05, 'DBA_EL VALLE RESTAURANT'),\n",
       " (7.734719570811592e-05, 'DBA_TEPANGOS PIZZA & MEXICAN FOOD'),\n",
       " (7.38544414145785e-05, 'DBA_ESS-A-BAGEL'),\n",
       " (7.361418746170343e-05, 'DBA_THE SMITH'),\n",
       " (7.32354348196895e-05, \"DBA_CHOP'T\"),\n",
       " (7.168947307792227e-05, 'DBA_LATIN BITES'),\n",
       " (6.700556817940267e-05, 'DBA_EL PORTON BAR & MEXICAN RESTAURANT'),\n",
       " (6.696033711535643e-05, 'DBA_BOSTON MARKET'),\n",
       " (6.618491816380558e-05, \"DBA_WOLFGANG'S STEAKHOUSE\"),\n",
       " (6.614154653875845e-05, 'DBA_THE MILL'),\n",
       " (6.574672093687483e-05, \"DBA_PENG'S NOODLE FOLK\"),\n",
       " (6.478425620339813e-05, 'DBA_CAFFE BENE'),\n",
       " (5.909079311720224e-05, \"DBA_ZUCKER'S BAGELS AND SMOKED FISH\"),\n",
       " (5.003209230285517e-05, 'DBA_SANDWICHERIE OF NEW YORK'),\n",
       " (4.713889870517225e-05, 'DBA_POTBELLY SANDWICH WORKS'),\n",
       " (4.299239943724572e-05, 'DBA_DELUXE GREEN BO'),\n",
       " (4.164962828373881e-05, 'DBA_VERITABLE'),\n",
       " (4.0717475467070775e-05, 'DBA_IL VIOLINO'),\n",
       " (3.26248664875701e-05, \"DBA_SARABETH'S\"),\n",
       " (3.2336464572734906e-05, 'DBA_THE TAP HOUSE'),\n",
       " (3.206355522357858e-05, \"DBA_PATSY'S PIZZERIA\"),\n",
       " (3.0023935643716293e-05, 'DBA_SWEETGREEN'),\n",
       " (2.9228524632586078e-05, 'DBA_JOE COFFEE COMPANY'),\n",
       " (2.767540988852965e-05, 'DBA_PANERA BREAD'),\n",
       " (2.43843888063369e-05, 'DBA_KAFFE 1668'),\n",
       " (2.2261281613784236e-05, 'DBA_BLUE BOTTLE COFFEE'),\n",
       " (2.2193880320547343e-05, 'DBA_NINTH STREET ESPRESSO'),\n",
       " (1.8715171132731327e-05, 'DBA_TACO VELOZ VIP'),\n",
       " (1.5758313848525138e-05, \"DBA_APPLEBEE'S\"),\n",
       " (1.492365194953513e-05, 'DBA_BROOKLYN DIAMOND COFFEE'),\n",
       " (1.3283124792451185e-05, 'DBA_TACO TODAY'),\n",
       " (1.0317714961407677e-05, \"DBA_SABA'S PIZZA\"),\n",
       " (8.649423524082004e-06, 'DBA_MAGNOLIA BAKERY'),\n",
       " (6.776973633736518e-06, \"DBA_LORENZO & MARIA'S KITCHEN\"),\n",
       " (6.55085253783733e-06, 'DBA_BRAVO PIZZA'),\n",
       " (4.20351350279576e-06, 'DBA_LITTLE ITALY PIZZA'),\n",
       " (8.18199220703777e-07, 'DBA_THE LITTLE BEET'),\n",
       " (0.0, 'DBA_WEATHER UP'),\n",
       " (0.0, 'DBA_VIVI BUBBLE TEA'),\n",
       " (0.0, 'DBA_THE GREAT NORTHERN DELI AND DANISH DOGS'),\n",
       " (0.0, 'DBA_SUSHI X'),\n",
       " (0.0, 'DBA_PASTELES CAPY'),\n",
       " (0.0, 'DBA_ONE AND ONE'),\n",
       " (0.0, 'DBA_NOMO SOHO'),\n",
       " (0.0, 'DBA_NEW CHINATOWN RESTAURANT'),\n",
       " (0.0, 'DBA_MIGHTY BOWL'),\n",
       " (0.0, 'DBA_LUCKY STRIKE'),\n",
       " (0.0, 'DBA_LEVAIN BAKERY'),\n",
       " (0.0, 'DBA_KIKOO SUSHI'),\n",
       " (0.0, 'DBA_JACQUES TORRES ICE CREAM'),\n",
       " (0.0, 'DBA_HONG KONG CAFE CHINESE RESTAURANT'),\n",
       " (0.0, 'DBA_HAPPY GARDEN'),\n",
       " (0.0, 'DBA_GO GO CURRY'),\n",
       " (0.0, \"DBA_ELI'S ESSENTIALS\"),\n",
       " (0.0, 'DBA_DUNKIN'),\n",
       " (0.0, 'DBA_BOULE & CHERIE'),\n",
       " (0.0, 'DBA_BAREBURGER')]"
      ]
     },
     "execution_count": 77,
     "metadata": {},
     "output_type": "execute_result"
    }
   ],
   "source": [
    "# List the features sorted in descending order by feature importance\n",
    "# Calculate feature importance in the Balanced Random Forest model.\n",
    "importances = brf_model.feature_importances_\n",
    "importances\n",
    "\n",
    "# We can sort the features by their importance.\n",
    "sorted(zip(brf_model.feature_importances_, X.columns), reverse=True)"
   ]
  },
  {
   "cell_type": "markdown",
   "id": "bde36512",
   "metadata": {},
   "source": [
    "## Easy Ensemble AdaBoost Classifier"
   ]
  },
  {
   "cell_type": "code",
   "execution_count": 78,
   "id": "68c5a5b5",
   "metadata": {},
   "outputs": [],
   "source": [
    "# Train the EasyEnsembleClassifier\n",
    "# Create a balanced random forest classifier:\n",
    "from imblearn.ensemble import EasyEnsembleClassifier\n",
    "\n",
    "ee_model = EasyEnsembleClassifier(n_estimators=100, random_state=1)"
   ]
  },
  {
   "cell_type": "code",
   "execution_count": 79,
   "id": "d6fc4389",
   "metadata": {},
   "outputs": [
    {
     "data": {
      "text/plain": [
       "Counter({1.0: 5598, 0.0: 159})"
      ]
     },
     "execution_count": 79,
     "metadata": {},
     "output_type": "execute_result"
    }
   ],
   "source": [
    "# Fitting the model:\n",
    "ee_model = ee_model.fit(X_train_scaled, y_train)\n",
    "Counter(y_train)"
   ]
  },
  {
   "cell_type": "code",
   "execution_count": 80,
   "id": "45b668a4",
   "metadata": {},
   "outputs": [
    {
     "data": {
      "text/plain": [
       "(5757,)"
      ]
     },
     "execution_count": 80,
     "metadata": {},
     "output_type": "execute_result"
    }
   ],
   "source": [
    "y_train.shape"
   ]
  },
  {
   "cell_type": "code",
   "execution_count": 81,
   "id": "58cf6c71",
   "metadata": {},
   "outputs": [
    {
     "data": {
      "text/plain": [
       "array([0., 1., 1., ..., 1., 1., 1.])"
      ]
     },
     "execution_count": 81,
     "metadata": {},
     "output_type": "execute_result"
    }
   ],
   "source": [
    "# Making predictions using the testing data:\n",
    "y_pred = ee_model.predict(X_test_scaled)\n",
    "y_pred"
   ]
  },
  {
   "cell_type": "code",
   "execution_count": 82,
   "id": "c10add16",
   "metadata": {},
   "outputs": [
    {
     "name": "stdout",
     "output_type": "stream",
     "text": [
      " This model's predictive accuracy is: 0.547\n"
     ]
    }
   ],
   "source": [
    "# Calculated the balanced accuracy score\n",
    "acc_score = balanced_accuracy_score(y_test, y_pred)\n",
    "print(f\" This model's predictive accuracy is: {accuracy_score(y_test,y_pred):.3f}\")"
   ]
  },
  {
   "cell_type": "code",
   "execution_count": 83,
   "id": "884467d4",
   "metadata": {},
   "outputs": [
    {
     "name": "stdout",
     "output_type": "stream",
     "text": [
      "Confusion Matrix\n"
     ]
    },
    {
     "data": {
      "text/html": [
       "<div>\n",
       "<style scoped>\n",
       "    .dataframe tbody tr th:only-of-type {\n",
       "        vertical-align: middle;\n",
       "    }\n",
       "\n",
       "    .dataframe tbody tr th {\n",
       "        vertical-align: top;\n",
       "    }\n",
       "\n",
       "    .dataframe thead th {\n",
       "        text-align: right;\n",
       "    }\n",
       "</style>\n",
       "<table border=\"1\" class=\"dataframe\">\n",
       "  <thead>\n",
       "    <tr style=\"text-align: right;\">\n",
       "      <th></th>\n",
       "      <th>Predicted 0</th>\n",
       "      <th>Predicted 1</th>\n",
       "    </tr>\n",
       "  </thead>\n",
       "  <tbody>\n",
       "    <tr>\n",
       "      <th>Actual 0</th>\n",
       "      <td>35</td>\n",
       "      <td>18</td>\n",
       "    </tr>\n",
       "    <tr>\n",
       "      <th>Actual 1</th>\n",
       "      <td>852</td>\n",
       "      <td>1015</td>\n",
       "    </tr>\n",
       "  </tbody>\n",
       "</table>\n",
       "</div>"
      ],
      "text/plain": [
       "          Predicted 0  Predicted 1\n",
       "Actual 0           35           18\n",
       "Actual 1          852         1015"
      ]
     },
     "metadata": {},
     "output_type": "display_data"
    }
   ],
   "source": [
    "# Display the confusion matrix\n",
    "cm = confusion_matrix(y_test, y_pred)\n",
    "\n",
    "# Create a DataFrame from the confusion matrix.\n",
    "cm_df = pd.DataFrame(\n",
    "    cm, index=[\"Actual 0\", \"Actual 1\"], columns=[\"Predicted 0\", \"Predicted 1\"])\n",
    "\n",
    "print(\"Confusion Matrix\")\n",
    "display(cm_df)"
   ]
  },
  {
   "cell_type": "code",
   "execution_count": 84,
   "id": "bac5d6c4",
   "metadata": {},
   "outputs": [
    {
     "name": "stdout",
     "output_type": "stream",
     "text": [
      "Classification Report\n",
      "                   pre       rec       spe        f1       geo       iba       sup\n",
      "\n",
      "        0.0       0.04      0.66      0.54      0.07      0.60      0.36        53\n",
      "        1.0       0.98      0.54      0.66      0.70      0.60      0.35      1867\n",
      "\n",
      "avg / total       0.96      0.55      0.66      0.68      0.60      0.36      1920\n",
      "\n"
     ]
    }
   ],
   "source": [
    "# Print the imbalanced classification report\n",
    "print(\"Classification Report\")\n",
    "print(classification_report_imbalanced(y_test, y_pred))"
   ]
  },
  {
   "cell_type": "code",
   "execution_count": null,
   "id": "a71bb20a",
   "metadata": {},
   "outputs": [],
   "source": []
  }
 ],
 "metadata": {
  "kernelspec": {
   "display_name": "mlenv",
   "language": "python",
   "name": "mlenv"
  },
  "language_info": {
   "codemirror_mode": {
    "name": "ipython",
    "version": 3
   },
   "file_extension": ".py",
   "mimetype": "text/x-python",
   "name": "python",
   "nbconvert_exporter": "python",
   "pygments_lexer": "ipython3",
   "version": "3.7.11"
  }
 },
 "nbformat": 4,
 "nbformat_minor": 5
}
