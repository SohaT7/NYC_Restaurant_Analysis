{
 "cells": [
  {
   "cell_type": "code",
   "execution_count": 1,
   "id": "3067f179",
   "metadata": {},
   "outputs": [],
   "source": [
    "import warnings\n",
    "warnings.filterwarnings('ignore')"
   ]
  },
  {
   "cell_type": "code",
   "execution_count": 2,
   "id": "0af54476",
   "metadata": {},
   "outputs": [],
   "source": [
    "# Import our dependencies\n",
    "import pandas as pd\n",
    "import numpy as np\n",
    "from pathlib import Path\n",
    "from collections import Counter\n",
    "\n",
    "from sklearn.preprocessing import OneHotEncoder\n",
    "from sklearn.preprocessing import StandardScaler\n",
    "from sklearn.model_selection import train_test_split\n",
    "\n",
    "from sklearn.metrics import accuracy_score\n",
    "from sklearn.metrics import balanced_accuracy_score\n",
    "from sklearn.metrics import confusion_matrix\n",
    "from imblearn.metrics import classification_report_imbalanced"
   ]
  },
  {
   "cell_type": "code",
   "execution_count": 3,
   "id": "1810ca2d",
   "metadata": {},
   "outputs": [
    {
     "data": {
      "text/html": [
       "<div>\n",
       "<style scoped>\n",
       "    .dataframe tbody tr th:only-of-type {\n",
       "        vertical-align: middle;\n",
       "    }\n",
       "\n",
       "    .dataframe tbody tr th {\n",
       "        vertical-align: top;\n",
       "    }\n",
       "\n",
       "    .dataframe thead th {\n",
       "        text-align: right;\n",
       "    }\n",
       "</style>\n",
       "<table border=\"1\" class=\"dataframe\">\n",
       "  <thead>\n",
       "    <tr style=\"text-align: right;\">\n",
       "      <th></th>\n",
       "      <th>DBA</th>\n",
       "      <th>STREET</th>\n",
       "      <th>INCOME_LEVEL</th>\n",
       "      <th>BOROUGH</th>\n",
       "      <th>ZIPCODE</th>\n",
       "      <th>CUISINE_DESCRIPTION</th>\n",
       "      <th>SCORE</th>\n",
       "      <th>GRADE</th>\n",
       "    </tr>\n",
       "  </thead>\n",
       "  <tbody>\n",
       "    <tr>\n",
       "      <th>0</th>\n",
       "      <td>PATHOS</td>\n",
       "      <td>1 AVENUE</td>\n",
       "      <td>high income</td>\n",
       "      <td>Manhattan</td>\n",
       "      <td>10022</td>\n",
       "      <td>Mediterranean</td>\n",
       "      <td>9</td>\n",
       "      <td>A</td>\n",
       "    </tr>\n",
       "    <tr>\n",
       "      <th>1</th>\n",
       "      <td>THE LITTLE BEET</td>\n",
       "      <td>PARK AVENUE</td>\n",
       "      <td>high income</td>\n",
       "      <td>Manhattan</td>\n",
       "      <td>10017</td>\n",
       "      <td>Salads</td>\n",
       "      <td>13</td>\n",
       "      <td>A</td>\n",
       "    </tr>\n",
       "    <tr>\n",
       "      <th>2</th>\n",
       "      <td>AMAZE FUSION &amp; LOUNGE</td>\n",
       "      <td>3 AVENUE</td>\n",
       "      <td>high income</td>\n",
       "      <td>Manhattan</td>\n",
       "      <td>10017</td>\n",
       "      <td>Asian/Asian Fusion</td>\n",
       "      <td>27</td>\n",
       "      <td>B</td>\n",
       "    </tr>\n",
       "    <tr>\n",
       "      <th>3</th>\n",
       "      <td>NOURISH THAI</td>\n",
       "      <td>VANDERBILT AVENUE</td>\n",
       "      <td>medium income</td>\n",
       "      <td>Brooklyn</td>\n",
       "      <td>11238</td>\n",
       "      <td>Thai</td>\n",
       "      <td>9</td>\n",
       "      <td>A</td>\n",
       "    </tr>\n",
       "    <tr>\n",
       "      <th>4</th>\n",
       "      <td>ESSEN</td>\n",
       "      <td>MADISON AVENUE</td>\n",
       "      <td>high income</td>\n",
       "      <td>Manhattan</td>\n",
       "      <td>10017</td>\n",
       "      <td>Sandwiches</td>\n",
       "      <td>13</td>\n",
       "      <td>A</td>\n",
       "    </tr>\n",
       "  </tbody>\n",
       "</table>\n",
       "</div>"
      ],
      "text/plain": [
       "                     DBA             STREET   INCOME_LEVEL    BOROUGH  \\\n",
       "0                 PATHOS           1 AVENUE    high income  Manhattan   \n",
       "1        THE LITTLE BEET        PARK AVENUE    high income  Manhattan   \n",
       "2  AMAZE FUSION & LOUNGE           3 AVENUE    high income  Manhattan   \n",
       "3           NOURISH THAI  VANDERBILT AVENUE  medium income   Brooklyn   \n",
       "4                  ESSEN     MADISON AVENUE    high income  Manhattan   \n",
       "\n",
       "   ZIPCODE CUISINE_DESCRIPTION  SCORE GRADE  \n",
       "0    10022       Mediterranean      9     A  \n",
       "1    10017              Salads     13     A  \n",
       "2    10017  Asian/Asian Fusion     27     B  \n",
       "3    11238                Thai      9     A  \n",
       "4    10017          Sandwiches     13     A  "
      ]
     },
     "execution_count": 3,
     "metadata": {},
     "output_type": "execute_result"
    }
   ],
   "source": [
    "# Import our input dataset\n",
    "\n",
    "# Load the file\n",
    "file_path = Path('FINAL_NYC_restaurants_full_database.csv')\n",
    "# Read into a dataFrame\n",
    "df = pd.read_csv(file_path)\n",
    "# Show dataFrame\n",
    "df.head()"
   ]
  },
  {
   "cell_type": "code",
   "execution_count": 4,
   "id": "6cf4d9f7",
   "metadata": {},
   "outputs": [],
   "source": [
    "df = df.drop(['DBA', 'STREET', 'BOROUGH', 'SCORE'], axis=1)"
   ]
  },
  {
   "cell_type": "code",
   "execution_count": 5,
   "id": "c4cd1571",
   "metadata": {},
   "outputs": [
    {
     "data": {
      "text/html": [
       "<div>\n",
       "<style scoped>\n",
       "    .dataframe tbody tr th:only-of-type {\n",
       "        vertical-align: middle;\n",
       "    }\n",
       "\n",
       "    .dataframe tbody tr th {\n",
       "        vertical-align: top;\n",
       "    }\n",
       "\n",
       "    .dataframe thead th {\n",
       "        text-align: right;\n",
       "    }\n",
       "</style>\n",
       "<table border=\"1\" class=\"dataframe\">\n",
       "  <thead>\n",
       "    <tr style=\"text-align: right;\">\n",
       "      <th></th>\n",
       "      <th>INCOME_LEVEL</th>\n",
       "      <th>ZIPCODE</th>\n",
       "      <th>CUISINE_DESCRIPTION</th>\n",
       "      <th>GRADE</th>\n",
       "    </tr>\n",
       "  </thead>\n",
       "  <tbody>\n",
       "    <tr>\n",
       "      <th>0</th>\n",
       "      <td>high income</td>\n",
       "      <td>10022</td>\n",
       "      <td>Mediterranean</td>\n",
       "      <td>A</td>\n",
       "    </tr>\n",
       "    <tr>\n",
       "      <th>1</th>\n",
       "      <td>high income</td>\n",
       "      <td>10017</td>\n",
       "      <td>Salads</td>\n",
       "      <td>A</td>\n",
       "    </tr>\n",
       "    <tr>\n",
       "      <th>2</th>\n",
       "      <td>high income</td>\n",
       "      <td>10017</td>\n",
       "      <td>Asian/Asian Fusion</td>\n",
       "      <td>B</td>\n",
       "    </tr>\n",
       "    <tr>\n",
       "      <th>3</th>\n",
       "      <td>medium income</td>\n",
       "      <td>11238</td>\n",
       "      <td>Thai</td>\n",
       "      <td>A</td>\n",
       "    </tr>\n",
       "    <tr>\n",
       "      <th>4</th>\n",
       "      <td>high income</td>\n",
       "      <td>10017</td>\n",
       "      <td>Sandwiches</td>\n",
       "      <td>A</td>\n",
       "    </tr>\n",
       "  </tbody>\n",
       "</table>\n",
       "</div>"
      ],
      "text/plain": [
       "    INCOME_LEVEL  ZIPCODE CUISINE_DESCRIPTION GRADE\n",
       "0    high income    10022       Mediterranean     A\n",
       "1    high income    10017              Salads     A\n",
       "2    high income    10017  Asian/Asian Fusion     B\n",
       "3  medium income    11238                Thai     A\n",
       "4    high income    10017          Sandwiches     A"
      ]
     },
     "execution_count": 5,
     "metadata": {},
     "output_type": "execute_result"
    }
   ],
   "source": [
    "df.head()"
   ]
  },
  {
   "cell_type": "code",
   "execution_count": 6,
   "id": "78d1a7cd",
   "metadata": {},
   "outputs": [
    {
     "name": "stdout",
     "output_type": "stream",
     "text": [
      "INCOME_LEVEL           object\n",
      "ZIPCODE                 int64\n",
      "CUISINE_DESCRIPTION    object\n",
      "GRADE                  object\n",
      "dtype: object\n"
     ]
    }
   ],
   "source": [
    "print(df.dtypes)"
   ]
  },
  {
   "cell_type": "code",
   "execution_count": 7,
   "id": "36ed6286",
   "metadata": {},
   "outputs": [
    {
     "name": "stdout",
     "output_type": "stream",
     "text": [
      "INCOME_LEVEL           object\n",
      "ZIPCODE                object\n",
      "CUISINE_DESCRIPTION    object\n",
      "GRADE                  object\n",
      "dtype: object\n"
     ]
    }
   ],
   "source": [
    "# Convert column for ZIPCODE from data type 'int' to str':\n",
    "df['ZIPCODE'] = df['ZIPCODE'].astype(str)\n",
    "\n",
    "print(df.dtypes)"
   ]
  },
  {
   "cell_type": "code",
   "execution_count": 8,
   "id": "0794851b",
   "metadata": {},
   "outputs": [
    {
     "data": {
      "text/plain": [
       "A    7033\n",
       "B     691\n",
       "C     222\n",
       "P     138\n",
       "Z      90\n",
       "N      50\n",
       "Name: GRADE, dtype: int64"
      ]
     },
     "execution_count": 8,
     "metadata": {},
     "output_type": "execute_result"
    }
   ],
   "source": [
    "# Determine different grades under 'GRADE' column\n",
    "df['GRADE'].value_counts()"
   ]
  },
  {
   "cell_type": "code",
   "execution_count": 9,
   "id": "dfc8f368",
   "metadata": {},
   "outputs": [],
   "source": [
    "# Drop the grades 'N', 'P', and 'Z'\n",
    "df.drop(df[(df['GRADE'] == 'N') | (df['GRADE'] == 'P') | (df['GRADE'] == 'Z')].index, inplace = True)"
   ]
  },
  {
   "cell_type": "code",
   "execution_count": 10,
   "id": "5f708a08",
   "metadata": {},
   "outputs": [
    {
     "data": {
      "text/plain": [
       "A    7033\n",
       "B     691\n",
       "C     222\n",
       "Name: GRADE, dtype: int64"
      ]
     },
     "execution_count": 10,
     "metadata": {},
     "output_type": "execute_result"
    }
   ],
   "source": [
    "# Determine different grades under 'GRADE' column\n",
    "df['GRADE'].value_counts()"
   ]
  },
  {
   "cell_type": "markdown",
   "id": "cdc894ed",
   "metadata": {},
   "source": [
    "# Preprocessing"
   ]
  },
  {
   "cell_type": "markdown",
   "id": "09243dbb",
   "metadata": {},
   "source": [
    "## Normalizing the Categorical Variables"
   ]
  },
  {
   "cell_type": "code",
   "execution_count": 11,
   "id": "95aa9c25",
   "metadata": {},
   "outputs": [
    {
     "data": {
      "text/plain": [
       "INCOME_LEVEL            3\n",
       "ZIPCODE                78\n",
       "CUISINE_DESCRIPTION    69\n",
       "GRADE                   3\n",
       "dtype: int64"
      ]
     },
     "execution_count": 11,
     "metadata": {},
     "output_type": "execute_result"
    }
   ],
   "source": [
    "# # Generate our categorical variable list\n",
    "df_cat = df.dtypes[df.dtypes == \"object\"].index.tolist()\n",
    "\n",
    "# Check the number of unique values in each column\n",
    "df[df_cat].nunique()"
   ]
  },
  {
   "cell_type": "code",
   "execution_count": 12,
   "id": "e92da529",
   "metadata": {},
   "outputs": [
    {
     "name": "stdout",
     "output_type": "stream",
     "text": [
      "10013    810\n",
      "10022    773\n",
      "10017    564\n",
      "10009    474\n",
      "11238    419\n",
      "        ... \n",
      "11233      2\n",
      "11435      2\n",
      "11206      1\n",
      "10473      1\n",
      "11208      1\n",
      "Name: ZIPCODE, Length: 78, dtype: int64\n"
     ]
    }
   ],
   "source": [
    "ZIPCODE_counts = df.ZIPCODE.value_counts()\n",
    "print(ZIPCODE_counts)"
   ]
  },
  {
   "cell_type": "code",
   "execution_count": 13,
   "id": "f0a0cd4d",
   "metadata": {},
   "outputs": [
    {
     "name": "stdout",
     "output_type": "stream",
     "text": [
      "American            1732\n",
      "Coffee/Tea           692\n",
      "Chinese              682\n",
      "Italian              536\n",
      "Pizza                407\n",
      "                    ... \n",
      "Portuguese             2\n",
      "Cajun                  1\n",
      "Russian                1\n",
      "Hotdogs/Pretzels       1\n",
      "Lebanese               1\n",
      "Name: CUISINE_DESCRIPTION, Length: 69, dtype: int64\n"
     ]
    }
   ],
   "source": [
    "CUISINE_DESCRIPTION_counts = df.CUISINE_DESCRIPTION.value_counts()\n",
    "print(CUISINE_DESCRIPTION_counts)"
   ]
  },
  {
   "cell_type": "code",
   "execution_count": 14,
   "id": "e0cae05f",
   "metadata": {},
   "outputs": [
    {
     "data": {
      "text/plain": [
       "<AxesSubplot:ylabel='Density'>"
      ]
     },
     "execution_count": 14,
     "metadata": {},
     "output_type": "execute_result"
    },
    {
     "data": {
      "image/png": "[encoded data removed]",
      "text/plain": [
       "<Figure size 432x288 with 1 Axes>"
      ]
     },
     "metadata": {
      "needs_background": "light"
     },
     "output_type": "display_data"
    }
   ],
   "source": [
    "# Visualize the value counts\n",
    "ZIPCODE_counts.plot.density()"
   ]
  },
  {
   "cell_type": "code",
   "execution_count": 15,
   "id": "f7c40810",
   "metadata": {},
   "outputs": [
    {
     "data": {
      "text/plain": [
       "Other    2161\n",
       "10013     810\n",
       "10022     773\n",
       "10017     564\n",
       "10009     474\n",
       "11238     419\n",
       "11101     372\n",
       "10028     344\n",
       "10023     321\n",
       "11375     315\n",
       "10021     315\n",
       "11355     311\n",
       "10024     284\n",
       "10065     280\n",
       "10452     203\n",
       "Name: ZIPCODE, dtype: int64"
      ]
     },
     "execution_count": 15,
     "metadata": {},
     "output_type": "execute_result"
    }
   ],
   "source": [
    "# Determine which values to replace\n",
    "replace_ZIPCODE = list(ZIPCODE_counts[ZIPCODE_counts < 200].index)\n",
    "\n",
    "# Replace in DataFrame\n",
    "for ZIPCODE in replace_ZIPCODE:\n",
    "    df.ZIPCODE = df.ZIPCODE.replace(ZIPCODE,\"Other\")\n",
    "\n",
    "\n",
    "# Check to make sure binning was successful\n",
    "df.ZIPCODE.value_counts()"
   ]
  },
  {
   "cell_type": "code",
   "execution_count": 16,
   "id": "b9991e07",
   "metadata": {},
   "outputs": [
    {
     "data": {
      "text/plain": [
       "<AxesSubplot:ylabel='Density'>"
      ]
     },
     "execution_count": 16,
     "metadata": {},
     "output_type": "execute_result"
    },
    {
     "data": {
      "image/png": "[encoded data removed]",
      "text/plain": [
       "<Figure size 432x288 with 1 Axes>"
      ]
     },
     "metadata": {
      "needs_background": "light"
     },
     "output_type": "display_data"
    }
   ],
   "source": [
    "# Visualize the new value counts\n",
    "ZIPCODE_counts_new = df.ZIPCODE.value_counts()\n",
    "ZIPCODE_counts_new.plot.density()"
   ]
  },
  {
   "cell_type": "code",
   "execution_count": 17,
   "id": "aa6f7d5d",
   "metadata": {},
   "outputs": [
    {
     "data": {
      "text/plain": [
       "<AxesSubplot:ylabel='Density'>"
      ]
     },
     "execution_count": 17,
     "metadata": {},
     "output_type": "execute_result"
    },
    {
     "data": {
      "image/png": "[encoded data removed]",
      "text/plain": [
       "<Figure size 432x288 with 1 Axes>"
      ]
     },
     "metadata": {
      "needs_background": "light"
     },
     "output_type": "display_data"
    }
   ],
   "source": [
    "# Visualize the value counts\n",
    "CUISINE_DESCRIPTION_counts.plot.density()"
   ]
  },
  {
   "cell_type": "code",
   "execution_count": 18,
   "id": "8df27e29",
   "metadata": {},
   "outputs": [
    {
     "data": {
      "text/plain": [
       "Other             2997\n",
       "American          1732\n",
       "Coffee/Tea         692\n",
       "Chinese            682\n",
       "Italian            536\n",
       "Pizza              407\n",
       "Japanese           360\n",
       "Sandwiches         275\n",
       "Latin American     265\n",
       "Name: CUISINE_DESCRIPTION, dtype: int64"
      ]
     },
     "execution_count": 18,
     "metadata": {},
     "output_type": "execute_result"
    }
   ],
   "source": [
    "# Determine which values to replace\n",
    "replace_CUISINE_DESCRIPTION = list(CUISINE_DESCRIPTION_counts[CUISINE_DESCRIPTION_counts < 250].index)\n",
    "\n",
    "# Replace in DataFrame\n",
    "for CUISINE_DESCRIPTION in replace_CUISINE_DESCRIPTION:\n",
    "    df.CUISINE_DESCRIPTION = df.CUISINE_DESCRIPTION.replace(CUISINE_DESCRIPTION,\"Other\")\n",
    "\n",
    "\n",
    "# Check to make sure binning was successful\n",
    "df.CUISINE_DESCRIPTION.value_counts()"
   ]
  },
  {
   "cell_type": "code",
   "execution_count": 19,
   "id": "13b490c6",
   "metadata": {},
   "outputs": [
    {
     "data": {
      "text/plain": [
       "<AxesSubplot:ylabel='Density'>"
      ]
     },
     "execution_count": 19,
     "metadata": {},
     "output_type": "execute_result"
    },
    {
     "data": {
      "image/png": "[encoded data removed]",
      "text/plain": [
       "<Figure size 432x288 with 1 Axes>"
      ]
     },
     "metadata": {
      "needs_background": "light"
     },
     "output_type": "display_data"
    }
   ],
   "source": [
    "# Visualize the new value counts\n",
    "CUISINE_DESCRIPTION_counts_new = df.CUISINE_DESCRIPTION.value_counts()\n",
    "CUISINE_DESCRIPTION_counts_new.plot.density()"
   ]
  },
  {
   "cell_type": "code",
   "execution_count": 20,
   "id": "10179395",
   "metadata": {},
   "outputs": [
    {
     "data": {
      "text/plain": [
       "INCOME_LEVEL            3\n",
       "ZIPCODE                15\n",
       "CUISINE_DESCRIPTION     9\n",
       "GRADE                   3\n",
       "dtype: int64"
      ]
     },
     "execution_count": 20,
     "metadata": {},
     "output_type": "execute_result"
    }
   ],
   "source": [
    "# # Generate our categorical variable list\n",
    "df_cat = df.dtypes[df.dtypes == \"object\"].index.tolist()\n",
    "\n",
    "# Check the number of unique values in each column\n",
    "df[df_cat].nunique()"
   ]
  },
  {
   "cell_type": "markdown",
   "id": "b90a91c6",
   "metadata": {},
   "source": [
    "## Encoding the Variables"
   ]
  },
  {
   "cell_type": "markdown",
   "id": "f4492805",
   "metadata": {},
   "source": [
    "### Encoding the variable 'GRADE'"
   ]
  },
  {
   "cell_type": "code",
   "execution_count": 21,
   "id": "f93fa640",
   "metadata": {},
   "outputs": [
    {
     "data": {
      "text/html": [
       "<div>\n",
       "<style scoped>\n",
       "    .dataframe tbody tr th:only-of-type {\n",
       "        vertical-align: middle;\n",
       "    }\n",
       "\n",
       "    .dataframe tbody tr th {\n",
       "        vertical-align: top;\n",
       "    }\n",
       "\n",
       "    .dataframe thead th {\n",
       "        text-align: right;\n",
       "    }\n",
       "</style>\n",
       "<table border=\"1\" class=\"dataframe\">\n",
       "  <thead>\n",
       "    <tr style=\"text-align: right;\">\n",
       "      <th></th>\n",
       "      <th>INCOME_LEVEL</th>\n",
       "      <th>ZIPCODE</th>\n",
       "      <th>CUISINE_DESCRIPTION</th>\n",
       "      <th>GRADE</th>\n",
       "      <th>Grade</th>\n",
       "    </tr>\n",
       "  </thead>\n",
       "  <tbody>\n",
       "    <tr>\n",
       "      <th>0</th>\n",
       "      <td>high income</td>\n",
       "      <td>10022</td>\n",
       "      <td>Other</td>\n",
       "      <td>A</td>\n",
       "      <td>0</td>\n",
       "    </tr>\n",
       "    <tr>\n",
       "      <th>1</th>\n",
       "      <td>high income</td>\n",
       "      <td>10017</td>\n",
       "      <td>Other</td>\n",
       "      <td>A</td>\n",
       "      <td>0</td>\n",
       "    </tr>\n",
       "    <tr>\n",
       "      <th>2</th>\n",
       "      <td>high income</td>\n",
       "      <td>10017</td>\n",
       "      <td>Other</td>\n",
       "      <td>B</td>\n",
       "      <td>1</td>\n",
       "    </tr>\n",
       "    <tr>\n",
       "      <th>3</th>\n",
       "      <td>medium income</td>\n",
       "      <td>11238</td>\n",
       "      <td>Other</td>\n",
       "      <td>A</td>\n",
       "      <td>0</td>\n",
       "    </tr>\n",
       "    <tr>\n",
       "      <th>4</th>\n",
       "      <td>high income</td>\n",
       "      <td>10017</td>\n",
       "      <td>Sandwiches</td>\n",
       "      <td>A</td>\n",
       "      <td>0</td>\n",
       "    </tr>\n",
       "  </tbody>\n",
       "</table>\n",
       "</div>"
      ],
      "text/plain": [
       "    INCOME_LEVEL ZIPCODE CUISINE_DESCRIPTION GRADE  Grade\n",
       "0    high income   10022               Other     A      0\n",
       "1    high income   10017               Other     A      0\n",
       "2    high income   10017               Other     B      1\n",
       "3  medium income   11238               Other     A      0\n",
       "4    high income   10017          Sandwiches     A      0"
      ]
     },
     "execution_count": 21,
     "metadata": {},
     "output_type": "execute_result"
    }
   ],
   "source": [
    "# Creating a 'high' and 'low' grade\n",
    "\n",
    "# Creating an instance of label encoder\n",
    "from sklearn.preprocessing import LabelEncoder\n",
    "\n",
    "label_encoder = LabelEncoder()\n",
    "df[\"Grade\"] = label_encoder.fit_transform(df[\"GRADE\"])\n",
    "df.head()"
   ]
  },
  {
   "cell_type": "code",
   "execution_count": 22,
   "id": "3258a8ac",
   "metadata": {},
   "outputs": [],
   "source": [
    "# Grade dictionary\n",
    "## The dictionary creates two categories for grades: \"high\" and \"low\".\n",
    "## \"high\" grade has been made to replace grades A and B, \n",
    "## whereas \"low\" grade has been made to replace all grades lower than A and B.\n",
    "\n",
    "GRADE_num = {\n",
    "    \"A\": \"high\",\n",
    "    \"B\": \"high\",\n",
    "    \"C\": \"low\",\n",
    "}"
   ]
  },
  {
   "cell_type": "code",
   "execution_count": 23,
   "id": "b2671c28",
   "metadata": {},
   "outputs": [
    {
     "data": {
      "text/html": [
       "<div>\n",
       "<style scoped>\n",
       "    .dataframe tbody tr th:only-of-type {\n",
       "        vertical-align: middle;\n",
       "    }\n",
       "\n",
       "    .dataframe tbody tr th {\n",
       "        vertical-align: top;\n",
       "    }\n",
       "\n",
       "    .dataframe thead th {\n",
       "        text-align: right;\n",
       "    }\n",
       "</style>\n",
       "<table border=\"1\" class=\"dataframe\">\n",
       "  <thead>\n",
       "    <tr style=\"text-align: right;\">\n",
       "      <th></th>\n",
       "      <th>INCOME_LEVEL</th>\n",
       "      <th>ZIPCODE</th>\n",
       "      <th>CUISINE_DESCRIPTION</th>\n",
       "      <th>GRADE</th>\n",
       "      <th>Grade</th>\n",
       "      <th>GRADE_num</th>\n",
       "    </tr>\n",
       "  </thead>\n",
       "  <tbody>\n",
       "    <tr>\n",
       "      <th>0</th>\n",
       "      <td>high income</td>\n",
       "      <td>10022</td>\n",
       "      <td>Other</td>\n",
       "      <td>A</td>\n",
       "      <td>0</td>\n",
       "      <td>high</td>\n",
       "    </tr>\n",
       "    <tr>\n",
       "      <th>1</th>\n",
       "      <td>high income</td>\n",
       "      <td>10017</td>\n",
       "      <td>Other</td>\n",
       "      <td>A</td>\n",
       "      <td>0</td>\n",
       "      <td>high</td>\n",
       "    </tr>\n",
       "    <tr>\n",
       "      <th>2</th>\n",
       "      <td>high income</td>\n",
       "      <td>10017</td>\n",
       "      <td>Other</td>\n",
       "      <td>B</td>\n",
       "      <td>1</td>\n",
       "      <td>high</td>\n",
       "    </tr>\n",
       "    <tr>\n",
       "      <th>3</th>\n",
       "      <td>medium income</td>\n",
       "      <td>11238</td>\n",
       "      <td>Other</td>\n",
       "      <td>A</td>\n",
       "      <td>0</td>\n",
       "      <td>high</td>\n",
       "    </tr>\n",
       "    <tr>\n",
       "      <th>4</th>\n",
       "      <td>high income</td>\n",
       "      <td>10017</td>\n",
       "      <td>Sandwiches</td>\n",
       "      <td>A</td>\n",
       "      <td>0</td>\n",
       "      <td>high</td>\n",
       "    </tr>\n",
       "  </tbody>\n",
       "</table>\n",
       "</div>"
      ],
      "text/plain": [
       "    INCOME_LEVEL ZIPCODE CUISINE_DESCRIPTION GRADE  Grade GRADE_num\n",
       "0    high income   10022               Other     A      0      high\n",
       "1    high income   10017               Other     A      0      high\n",
       "2    high income   10017               Other     B      1      high\n",
       "3  medium income   11238               Other     A      0      high\n",
       "4    high income   10017          Sandwiches     A      0      high"
      ]
     },
     "execution_count": 23,
     "metadata": {},
     "output_type": "execute_result"
    }
   ],
   "source": [
    "# Grades encoded using the dictionary values\n",
    "df[\"GRADE_num\"] = df[\"GRADE\"].apply(lambda x: GRADE_num[x])\n",
    "df.head()"
   ]
  },
  {
   "cell_type": "code",
   "execution_count": 24,
   "id": "b0190014",
   "metadata": {},
   "outputs": [
    {
     "data": {
      "text/html": [
       "<div>\n",
       "<style scoped>\n",
       "    .dataframe tbody tr th:only-of-type {\n",
       "        vertical-align: middle;\n",
       "    }\n",
       "\n",
       "    .dataframe tbody tr th {\n",
       "        vertical-align: top;\n",
       "    }\n",
       "\n",
       "    .dataframe thead th {\n",
       "        text-align: right;\n",
       "    }\n",
       "</style>\n",
       "<table border=\"1\" class=\"dataframe\">\n",
       "  <thead>\n",
       "    <tr style=\"text-align: right;\">\n",
       "      <th></th>\n",
       "      <th>INCOME_LEVEL</th>\n",
       "      <th>ZIPCODE</th>\n",
       "      <th>CUISINE_DESCRIPTION</th>\n",
       "      <th>GRADE_num</th>\n",
       "    </tr>\n",
       "  </thead>\n",
       "  <tbody>\n",
       "    <tr>\n",
       "      <th>0</th>\n",
       "      <td>high income</td>\n",
       "      <td>10022</td>\n",
       "      <td>Other</td>\n",
       "      <td>high</td>\n",
       "    </tr>\n",
       "    <tr>\n",
       "      <th>1</th>\n",
       "      <td>high income</td>\n",
       "      <td>10017</td>\n",
       "      <td>Other</td>\n",
       "      <td>high</td>\n",
       "    </tr>\n",
       "    <tr>\n",
       "      <th>2</th>\n",
       "      <td>high income</td>\n",
       "      <td>10017</td>\n",
       "      <td>Other</td>\n",
       "      <td>high</td>\n",
       "    </tr>\n",
       "    <tr>\n",
       "      <th>3</th>\n",
       "      <td>medium income</td>\n",
       "      <td>11238</td>\n",
       "      <td>Other</td>\n",
       "      <td>high</td>\n",
       "    </tr>\n",
       "    <tr>\n",
       "      <th>4</th>\n",
       "      <td>high income</td>\n",
       "      <td>10017</td>\n",
       "      <td>Sandwiches</td>\n",
       "      <td>high</td>\n",
       "    </tr>\n",
       "  </tbody>\n",
       "</table>\n",
       "</div>"
      ],
      "text/plain": [
       "    INCOME_LEVEL ZIPCODE CUISINE_DESCRIPTION GRADE_num\n",
       "0    high income   10022               Other      high\n",
       "1    high income   10017               Other      high\n",
       "2    high income   10017               Other      high\n",
       "3  medium income   11238               Other      high\n",
       "4    high income   10017          Sandwiches      high"
      ]
     },
     "execution_count": 24,
     "metadata": {},
     "output_type": "execute_result"
    }
   ],
   "source": [
    "# Drop the GRADE and Grade columns\n",
    "df = df.drop([\"GRADE\", \"Grade\"], axis=1)\n",
    "df.head()"
   ]
  },
  {
   "cell_type": "code",
   "execution_count": 25,
   "id": "d0aca75c",
   "metadata": {},
   "outputs": [
    {
     "data": {
      "text/plain": [
       "INCOME_LEVEL            3\n",
       "ZIPCODE                15\n",
       "CUISINE_DESCRIPTION     9\n",
       "GRADE_num               2\n",
       "dtype: int64"
      ]
     },
     "execution_count": 25,
     "metadata": {},
     "output_type": "execute_result"
    }
   ],
   "source": [
    "# # Generate our categorical variable list again\n",
    "df_cat = df.dtypes[df.dtypes == \"object\"].index.tolist()\n",
    "\n",
    "# Check the number of unique values in each column again\n",
    "df[df_cat].nunique()"
   ]
  },
  {
   "cell_type": "code",
   "execution_count": 26,
   "id": "b51f5925",
   "metadata": {},
   "outputs": [
    {
     "name": "stdout",
     "output_type": "stream",
     "text": [
      "high    7724\n",
      "low      222\n",
      "Name: GRADE_num, dtype: int64\n"
     ]
    }
   ],
   "source": [
    "GRADE_num_counts = df.GRADE_num.value_counts()\n",
    "print(GRADE_num_counts)"
   ]
  },
  {
   "cell_type": "markdown",
   "id": "57ea1c00",
   "metadata": {},
   "source": [
    "### Encoding the Categorical Variables"
   ]
  },
  {
   "cell_type": "code",
   "execution_count": 27,
   "id": "a31cfe6f",
   "metadata": {},
   "outputs": [
    {
     "data": {
      "text/html": [
       "<div>\n",
       "<style scoped>\n",
       "    .dataframe tbody tr th:only-of-type {\n",
       "        vertical-align: middle;\n",
       "    }\n",
       "\n",
       "    .dataframe tbody tr th {\n",
       "        vertical-align: top;\n",
       "    }\n",
       "\n",
       "    .dataframe thead th {\n",
       "        text-align: right;\n",
       "    }\n",
       "</style>\n",
       "<table border=\"1\" class=\"dataframe\">\n",
       "  <thead>\n",
       "    <tr style=\"text-align: right;\">\n",
       "      <th></th>\n",
       "      <th>INCOME_LEVEL_high income</th>\n",
       "      <th>INCOME_LEVEL_low income</th>\n",
       "      <th>INCOME_LEVEL_medium income</th>\n",
       "      <th>ZIPCODE_10009</th>\n",
       "      <th>ZIPCODE_10013</th>\n",
       "      <th>ZIPCODE_10017</th>\n",
       "      <th>ZIPCODE_10021</th>\n",
       "      <th>ZIPCODE_10022</th>\n",
       "      <th>ZIPCODE_10023</th>\n",
       "      <th>ZIPCODE_10024</th>\n",
       "      <th>...</th>\n",
       "      <th>CUISINE_DESCRIPTION_Chinese</th>\n",
       "      <th>CUISINE_DESCRIPTION_Coffee/Tea</th>\n",
       "      <th>CUISINE_DESCRIPTION_Italian</th>\n",
       "      <th>CUISINE_DESCRIPTION_Japanese</th>\n",
       "      <th>CUISINE_DESCRIPTION_Latin American</th>\n",
       "      <th>CUISINE_DESCRIPTION_Other</th>\n",
       "      <th>CUISINE_DESCRIPTION_Pizza</th>\n",
       "      <th>CUISINE_DESCRIPTION_Sandwiches</th>\n",
       "      <th>GRADE_num_high</th>\n",
       "      <th>GRADE_num_low</th>\n",
       "    </tr>\n",
       "  </thead>\n",
       "  <tbody>\n",
       "    <tr>\n",
       "      <th>0</th>\n",
       "      <td>1.0</td>\n",
       "      <td>0.0</td>\n",
       "      <td>0.0</td>\n",
       "      <td>0.0</td>\n",
       "      <td>0.0</td>\n",
       "      <td>0.0</td>\n",
       "      <td>0.0</td>\n",
       "      <td>1.0</td>\n",
       "      <td>0.0</td>\n",
       "      <td>0.0</td>\n",
       "      <td>...</td>\n",
       "      <td>0.0</td>\n",
       "      <td>0.0</td>\n",
       "      <td>0.0</td>\n",
       "      <td>0.0</td>\n",
       "      <td>0.0</td>\n",
       "      <td>1.0</td>\n",
       "      <td>0.0</td>\n",
       "      <td>0.0</td>\n",
       "      <td>1.0</td>\n",
       "      <td>0.0</td>\n",
       "    </tr>\n",
       "    <tr>\n",
       "      <th>1</th>\n",
       "      <td>1.0</td>\n",
       "      <td>0.0</td>\n",
       "      <td>0.0</td>\n",
       "      <td>0.0</td>\n",
       "      <td>0.0</td>\n",
       "      <td>1.0</td>\n",
       "      <td>0.0</td>\n",
       "      <td>0.0</td>\n",
       "      <td>0.0</td>\n",
       "      <td>0.0</td>\n",
       "      <td>...</td>\n",
       "      <td>0.0</td>\n",
       "      <td>0.0</td>\n",
       "      <td>0.0</td>\n",
       "      <td>0.0</td>\n",
       "      <td>0.0</td>\n",
       "      <td>1.0</td>\n",
       "      <td>0.0</td>\n",
       "      <td>0.0</td>\n",
       "      <td>1.0</td>\n",
       "      <td>0.0</td>\n",
       "    </tr>\n",
       "    <tr>\n",
       "      <th>2</th>\n",
       "      <td>1.0</td>\n",
       "      <td>0.0</td>\n",
       "      <td>0.0</td>\n",
       "      <td>0.0</td>\n",
       "      <td>0.0</td>\n",
       "      <td>1.0</td>\n",
       "      <td>0.0</td>\n",
       "      <td>0.0</td>\n",
       "      <td>0.0</td>\n",
       "      <td>0.0</td>\n",
       "      <td>...</td>\n",
       "      <td>0.0</td>\n",
       "      <td>0.0</td>\n",
       "      <td>0.0</td>\n",
       "      <td>0.0</td>\n",
       "      <td>0.0</td>\n",
       "      <td>1.0</td>\n",
       "      <td>0.0</td>\n",
       "      <td>0.0</td>\n",
       "      <td>1.0</td>\n",
       "      <td>0.0</td>\n",
       "    </tr>\n",
       "    <tr>\n",
       "      <th>3</th>\n",
       "      <td>0.0</td>\n",
       "      <td>0.0</td>\n",
       "      <td>1.0</td>\n",
       "      <td>0.0</td>\n",
       "      <td>0.0</td>\n",
       "      <td>0.0</td>\n",
       "      <td>0.0</td>\n",
       "      <td>0.0</td>\n",
       "      <td>0.0</td>\n",
       "      <td>0.0</td>\n",
       "      <td>...</td>\n",
       "      <td>0.0</td>\n",
       "      <td>0.0</td>\n",
       "      <td>0.0</td>\n",
       "      <td>0.0</td>\n",
       "      <td>0.0</td>\n",
       "      <td>1.0</td>\n",
       "      <td>0.0</td>\n",
       "      <td>0.0</td>\n",
       "      <td>1.0</td>\n",
       "      <td>0.0</td>\n",
       "    </tr>\n",
       "    <tr>\n",
       "      <th>4</th>\n",
       "      <td>1.0</td>\n",
       "      <td>0.0</td>\n",
       "      <td>0.0</td>\n",
       "      <td>0.0</td>\n",
       "      <td>0.0</td>\n",
       "      <td>1.0</td>\n",
       "      <td>0.0</td>\n",
       "      <td>0.0</td>\n",
       "      <td>0.0</td>\n",
       "      <td>0.0</td>\n",
       "      <td>...</td>\n",
       "      <td>0.0</td>\n",
       "      <td>0.0</td>\n",
       "      <td>0.0</td>\n",
       "      <td>0.0</td>\n",
       "      <td>0.0</td>\n",
       "      <td>0.0</td>\n",
       "      <td>0.0</td>\n",
       "      <td>1.0</td>\n",
       "      <td>1.0</td>\n",
       "      <td>0.0</td>\n",
       "    </tr>\n",
       "  </tbody>\n",
       "</table>\n",
       "<p>5 rows × 29 columns</p>\n",
       "</div>"
      ],
      "text/plain": [
       "   INCOME_LEVEL_high income  INCOME_LEVEL_low income  \\\n",
       "0                       1.0                      0.0   \n",
       "1                       1.0                      0.0   \n",
       "2                       1.0                      0.0   \n",
       "3                       0.0                      0.0   \n",
       "4                       1.0                      0.0   \n",
       "\n",
       "   INCOME_LEVEL_medium income  ZIPCODE_10009  ZIPCODE_10013  ZIPCODE_10017  \\\n",
       "0                         0.0            0.0            0.0            0.0   \n",
       "1                         0.0            0.0            0.0            1.0   \n",
       "2                         0.0            0.0            0.0            1.0   \n",
       "3                         1.0            0.0            0.0            0.0   \n",
       "4                         0.0            0.0            0.0            1.0   \n",
       "\n",
       "   ZIPCODE_10021  ZIPCODE_10022  ZIPCODE_10023  ZIPCODE_10024  ...  \\\n",
       "0            0.0            1.0            0.0            0.0  ...   \n",
       "1            0.0            0.0            0.0            0.0  ...   \n",
       "2            0.0            0.0            0.0            0.0  ...   \n",
       "3            0.0            0.0            0.0            0.0  ...   \n",
       "4            0.0            0.0            0.0            0.0  ...   \n",
       "\n",
       "   CUISINE_DESCRIPTION_Chinese  CUISINE_DESCRIPTION_Coffee/Tea  \\\n",
       "0                          0.0                             0.0   \n",
       "1                          0.0                             0.0   \n",
       "2                          0.0                             0.0   \n",
       "3                          0.0                             0.0   \n",
       "4                          0.0                             0.0   \n",
       "\n",
       "   CUISINE_DESCRIPTION_Italian  CUISINE_DESCRIPTION_Japanese  \\\n",
       "0                          0.0                           0.0   \n",
       "1                          0.0                           0.0   \n",
       "2                          0.0                           0.0   \n",
       "3                          0.0                           0.0   \n",
       "4                          0.0                           0.0   \n",
       "\n",
       "   CUISINE_DESCRIPTION_Latin American  CUISINE_DESCRIPTION_Other  \\\n",
       "0                                 0.0                        1.0   \n",
       "1                                 0.0                        1.0   \n",
       "2                                 0.0                        1.0   \n",
       "3                                 0.0                        1.0   \n",
       "4                                 0.0                        0.0   \n",
       "\n",
       "   CUISINE_DESCRIPTION_Pizza  CUISINE_DESCRIPTION_Sandwiches  GRADE_num_high  \\\n",
       "0                        0.0                             0.0             1.0   \n",
       "1                        0.0                             0.0             1.0   \n",
       "2                        0.0                             0.0             1.0   \n",
       "3                        0.0                             0.0             1.0   \n",
       "4                        0.0                             1.0             1.0   \n",
       "\n",
       "   GRADE_num_low  \n",
       "0            0.0  \n",
       "1            0.0  \n",
       "2            0.0  \n",
       "3            0.0  \n",
       "4            0.0  \n",
       "\n",
       "[5 rows x 29 columns]"
      ]
     },
     "execution_count": 27,
     "metadata": {},
     "output_type": "execute_result"
    }
   ],
   "source": [
    "# Create a OneHotEncoder instance\n",
    "enc = OneHotEncoder(sparse=False)\n",
    "\n",
    "# Fit and transform the OneHotEncoder using the categorical variable list\n",
    "encode_df = pd.DataFrame(enc.fit_transform(df[df_cat]))\n",
    "\n",
    "# Add the encoded variable names to the DataFrame\n",
    "encode_df.columns = enc.get_feature_names(df_cat)\n",
    "encode_df.head()"
   ]
  },
  {
   "cell_type": "code",
   "execution_count": 28,
   "id": "dd35522a",
   "metadata": {},
   "outputs": [
    {
     "data": {
      "text/html": [
       "<div>\n",
       "<style scoped>\n",
       "    .dataframe tbody tr th:only-of-type {\n",
       "        vertical-align: middle;\n",
       "    }\n",
       "\n",
       "    .dataframe tbody tr th {\n",
       "        vertical-align: top;\n",
       "    }\n",
       "\n",
       "    .dataframe thead th {\n",
       "        text-align: right;\n",
       "    }\n",
       "</style>\n",
       "<table border=\"1\" class=\"dataframe\">\n",
       "  <thead>\n",
       "    <tr style=\"text-align: right;\">\n",
       "      <th></th>\n",
       "      <th>INCOME_LEVEL_high income</th>\n",
       "      <th>INCOME_LEVEL_low income</th>\n",
       "      <th>INCOME_LEVEL_medium income</th>\n",
       "      <th>ZIPCODE_10009</th>\n",
       "      <th>ZIPCODE_10013</th>\n",
       "      <th>ZIPCODE_10017</th>\n",
       "      <th>ZIPCODE_10021</th>\n",
       "      <th>ZIPCODE_10022</th>\n",
       "      <th>ZIPCODE_10023</th>\n",
       "      <th>ZIPCODE_10024</th>\n",
       "      <th>...</th>\n",
       "      <th>CUISINE_DESCRIPTION_Chinese</th>\n",
       "      <th>CUISINE_DESCRIPTION_Coffee/Tea</th>\n",
       "      <th>CUISINE_DESCRIPTION_Italian</th>\n",
       "      <th>CUISINE_DESCRIPTION_Japanese</th>\n",
       "      <th>CUISINE_DESCRIPTION_Latin American</th>\n",
       "      <th>CUISINE_DESCRIPTION_Other</th>\n",
       "      <th>CUISINE_DESCRIPTION_Pizza</th>\n",
       "      <th>CUISINE_DESCRIPTION_Sandwiches</th>\n",
       "      <th>GRADE_num_high</th>\n",
       "      <th>GRADE_num_low</th>\n",
       "    </tr>\n",
       "  </thead>\n",
       "  <tbody>\n",
       "    <tr>\n",
       "      <th>0</th>\n",
       "      <td>1.0</td>\n",
       "      <td>0.0</td>\n",
       "      <td>0.0</td>\n",
       "      <td>0.0</td>\n",
       "      <td>0.0</td>\n",
       "      <td>0.0</td>\n",
       "      <td>0.0</td>\n",
       "      <td>1.0</td>\n",
       "      <td>0.0</td>\n",
       "      <td>0.0</td>\n",
       "      <td>...</td>\n",
       "      <td>0.0</td>\n",
       "      <td>0.0</td>\n",
       "      <td>0.0</td>\n",
       "      <td>0.0</td>\n",
       "      <td>0.0</td>\n",
       "      <td>1.0</td>\n",
       "      <td>0.0</td>\n",
       "      <td>0.0</td>\n",
       "      <td>1.0</td>\n",
       "      <td>0.0</td>\n",
       "    </tr>\n",
       "    <tr>\n",
       "      <th>1</th>\n",
       "      <td>1.0</td>\n",
       "      <td>0.0</td>\n",
       "      <td>0.0</td>\n",
       "      <td>0.0</td>\n",
       "      <td>0.0</td>\n",
       "      <td>1.0</td>\n",
       "      <td>0.0</td>\n",
       "      <td>0.0</td>\n",
       "      <td>0.0</td>\n",
       "      <td>0.0</td>\n",
       "      <td>...</td>\n",
       "      <td>0.0</td>\n",
       "      <td>0.0</td>\n",
       "      <td>0.0</td>\n",
       "      <td>0.0</td>\n",
       "      <td>0.0</td>\n",
       "      <td>1.0</td>\n",
       "      <td>0.0</td>\n",
       "      <td>0.0</td>\n",
       "      <td>1.0</td>\n",
       "      <td>0.0</td>\n",
       "    </tr>\n",
       "    <tr>\n",
       "      <th>2</th>\n",
       "      <td>1.0</td>\n",
       "      <td>0.0</td>\n",
       "      <td>0.0</td>\n",
       "      <td>0.0</td>\n",
       "      <td>0.0</td>\n",
       "      <td>1.0</td>\n",
       "      <td>0.0</td>\n",
       "      <td>0.0</td>\n",
       "      <td>0.0</td>\n",
       "      <td>0.0</td>\n",
       "      <td>...</td>\n",
       "      <td>0.0</td>\n",
       "      <td>0.0</td>\n",
       "      <td>0.0</td>\n",
       "      <td>0.0</td>\n",
       "      <td>0.0</td>\n",
       "      <td>1.0</td>\n",
       "      <td>0.0</td>\n",
       "      <td>0.0</td>\n",
       "      <td>1.0</td>\n",
       "      <td>0.0</td>\n",
       "    </tr>\n",
       "    <tr>\n",
       "      <th>3</th>\n",
       "      <td>0.0</td>\n",
       "      <td>0.0</td>\n",
       "      <td>1.0</td>\n",
       "      <td>0.0</td>\n",
       "      <td>0.0</td>\n",
       "      <td>0.0</td>\n",
       "      <td>0.0</td>\n",
       "      <td>0.0</td>\n",
       "      <td>0.0</td>\n",
       "      <td>0.0</td>\n",
       "      <td>...</td>\n",
       "      <td>0.0</td>\n",
       "      <td>0.0</td>\n",
       "      <td>0.0</td>\n",
       "      <td>0.0</td>\n",
       "      <td>0.0</td>\n",
       "      <td>1.0</td>\n",
       "      <td>0.0</td>\n",
       "      <td>0.0</td>\n",
       "      <td>1.0</td>\n",
       "      <td>0.0</td>\n",
       "    </tr>\n",
       "    <tr>\n",
       "      <th>4</th>\n",
       "      <td>1.0</td>\n",
       "      <td>0.0</td>\n",
       "      <td>0.0</td>\n",
       "      <td>0.0</td>\n",
       "      <td>0.0</td>\n",
       "      <td>1.0</td>\n",
       "      <td>0.0</td>\n",
       "      <td>0.0</td>\n",
       "      <td>0.0</td>\n",
       "      <td>0.0</td>\n",
       "      <td>...</td>\n",
       "      <td>0.0</td>\n",
       "      <td>0.0</td>\n",
       "      <td>0.0</td>\n",
       "      <td>0.0</td>\n",
       "      <td>0.0</td>\n",
       "      <td>0.0</td>\n",
       "      <td>0.0</td>\n",
       "      <td>1.0</td>\n",
       "      <td>1.0</td>\n",
       "      <td>0.0</td>\n",
       "    </tr>\n",
       "  </tbody>\n",
       "</table>\n",
       "<p>5 rows × 29 columns</p>\n",
       "</div>"
      ],
      "text/plain": [
       "   INCOME_LEVEL_high income  INCOME_LEVEL_low income  \\\n",
       "0                       1.0                      0.0   \n",
       "1                       1.0                      0.0   \n",
       "2                       1.0                      0.0   \n",
       "3                       0.0                      0.0   \n",
       "4                       1.0                      0.0   \n",
       "\n",
       "   INCOME_LEVEL_medium income  ZIPCODE_10009  ZIPCODE_10013  ZIPCODE_10017  \\\n",
       "0                         0.0            0.0            0.0            0.0   \n",
       "1                         0.0            0.0            0.0            1.0   \n",
       "2                         0.0            0.0            0.0            1.0   \n",
       "3                         1.0            0.0            0.0            0.0   \n",
       "4                         0.0            0.0            0.0            1.0   \n",
       "\n",
       "   ZIPCODE_10021  ZIPCODE_10022  ZIPCODE_10023  ZIPCODE_10024  ...  \\\n",
       "0            0.0            1.0            0.0            0.0  ...   \n",
       "1            0.0            0.0            0.0            0.0  ...   \n",
       "2            0.0            0.0            0.0            0.0  ...   \n",
       "3            0.0            0.0            0.0            0.0  ...   \n",
       "4            0.0            0.0            0.0            0.0  ...   \n",
       "\n",
       "   CUISINE_DESCRIPTION_Chinese  CUISINE_DESCRIPTION_Coffee/Tea  \\\n",
       "0                          0.0                             0.0   \n",
       "1                          0.0                             0.0   \n",
       "2                          0.0                             0.0   \n",
       "3                          0.0                             0.0   \n",
       "4                          0.0                             0.0   \n",
       "\n",
       "   CUISINE_DESCRIPTION_Italian  CUISINE_DESCRIPTION_Japanese  \\\n",
       "0                          0.0                           0.0   \n",
       "1                          0.0                           0.0   \n",
       "2                          0.0                           0.0   \n",
       "3                          0.0                           0.0   \n",
       "4                          0.0                           0.0   \n",
       "\n",
       "   CUISINE_DESCRIPTION_Latin American  CUISINE_DESCRIPTION_Other  \\\n",
       "0                                 0.0                        1.0   \n",
       "1                                 0.0                        1.0   \n",
       "2                                 0.0                        1.0   \n",
       "3                                 0.0                        1.0   \n",
       "4                                 0.0                        0.0   \n",
       "\n",
       "   CUISINE_DESCRIPTION_Pizza  CUISINE_DESCRIPTION_Sandwiches  GRADE_num_high  \\\n",
       "0                        0.0                             0.0             1.0   \n",
       "1                        0.0                             0.0             1.0   \n",
       "2                        0.0                             0.0             1.0   \n",
       "3                        0.0                             0.0             1.0   \n",
       "4                        0.0                             1.0             1.0   \n",
       "\n",
       "   GRADE_num_low  \n",
       "0            0.0  \n",
       "1            0.0  \n",
       "2            0.0  \n",
       "3            0.0  \n",
       "4            0.0  \n",
       "\n",
       "[5 rows x 29 columns]"
      ]
     },
     "execution_count": 28,
     "metadata": {},
     "output_type": "execute_result"
    }
   ],
   "source": [
    "# Merge one-hot encoded features and drop the originals\n",
    "df = df.merge(encode_df,left_index=True, right_index=True)\n",
    "df = df.drop(df_cat,1)\n",
    "df.head()"
   ]
  },
  {
   "cell_type": "markdown",
   "id": "03de063c",
   "metadata": {},
   "source": [
    "## Splitting the Data, and Standardizing the Numerical Variables"
   ]
  },
  {
   "cell_type": "code",
   "execution_count": 29,
   "id": "464ab95a",
   "metadata": {},
   "outputs": [],
   "source": [
    "# Remove GRADE_num target from features data\n",
    "y = df.GRADE_num_high\n",
    "X = df.drop(columns=[\"GRADE_num_high\",\"GRADE_num_low\"])\n",
    "\n",
    "# Split training/test datasets\n",
    "X_train, X_test, y_train, y_test = train_test_split(X, y, random_state=42, stratify=y)\n",
    "\n",
    "# Create a StandardScaler instance\n",
    "scaler = StandardScaler()\n",
    "\n",
    "# Fit the StandardScaler\n",
    "X_scaler = scaler.fit(X_train)\n",
    "\n",
    "# Scale the data\n",
    "X_train_scaled = X_scaler.transform(X_train)\n",
    "X_test_scaled = X_scaler.transform(X_test)"
   ]
  },
  {
   "cell_type": "markdown",
   "id": "d0cda3b9",
   "metadata": {},
   "source": [
    "# Resampling Models"
   ]
  },
  {
   "cell_type": "markdown",
   "id": "ac39bcfe",
   "metadata": {},
   "source": [
    "## Oversampling: Naive Random Oversampling "
   ]
  },
  {
   "cell_type": "code",
   "execution_count": 30,
   "id": "dbe0ef89",
   "metadata": {},
   "outputs": [
    {
     "data": {
      "text/plain": [
       "Counter({1.0: 5598, 0.0: 5598})"
      ]
     },
     "execution_count": 30,
     "metadata": {},
     "output_type": "execute_result"
    }
   ],
   "source": [
    "# Resample the training data with the RandomOversampler\n",
    "from imblearn.over_sampling import RandomOverSampler\n",
    "ros = RandomOverSampler(random_state=1)\n",
    "X_resampled, y_resampled = ros.fit_resample(X_train_scaled, y_train)\n",
    "\n",
    "Counter(y_resampled)"
   ]
  },
  {
   "cell_type": "code",
   "execution_count": 31,
   "id": "7b011fa2",
   "metadata": {},
   "outputs": [
    {
     "data": {
      "text/plain": [
       "(11196,)"
      ]
     },
     "execution_count": 31,
     "metadata": {},
     "output_type": "execute_result"
    }
   ],
   "source": [
    "y_resampled.shape"
   ]
  },
  {
   "cell_type": "code",
   "execution_count": 32,
   "id": "8e6c9d60",
   "metadata": {},
   "outputs": [
    {
     "data": {
      "text/plain": [
       "LogisticRegression(random_state=1)"
      ]
     },
     "execution_count": 32,
     "metadata": {},
     "output_type": "execute_result"
    }
   ],
   "source": [
    "# Train the Logistic Regression model using the resampled data\n",
    "from sklearn.linear_model import LogisticRegression\n",
    "\n",
    "model = LogisticRegression(solver='lbfgs', random_state=1)\n",
    "model.fit(X_resampled, y_resampled)"
   ]
  },
  {
   "cell_type": "code",
   "execution_count": 33,
   "id": "e9ce0b18",
   "metadata": {},
   "outputs": [
    {
     "data": {
      "text/plain": [
       "array([0., 1., 0., ..., 1., 0., 1.])"
      ]
     },
     "execution_count": 33,
     "metadata": {},
     "output_type": "execute_result"
    }
   ],
   "source": [
    "# Evaluate the model\n",
    "y_pred = model.predict(X_test_scaled)\n",
    "y_pred"
   ]
  },
  {
   "cell_type": "code",
   "execution_count": 34,
   "id": "38c1a936",
   "metadata": {},
   "outputs": [
    {
     "name": "stdout",
     "output_type": "stream",
     "text": [
      " This model's predictive accuracy is: 0.523\n"
     ]
    }
   ],
   "source": [
    "# Calculated the accuracy score\n",
    "acc_score = accuracy_score(y_test, y_pred)\n",
    "print(f\" This model's predictive accuracy is: {accuracy_score(y_test,y_pred):.3f}\")"
   ]
  },
  {
   "cell_type": "code",
   "execution_count": 35,
   "id": "ddc1ac8a",
   "metadata": {},
   "outputs": [
    {
     "name": "stdout",
     "output_type": "stream",
     "text": [
      " This model's predictive balanced accuracy is: 0.523\n"
     ]
    }
   ],
   "source": [
    "# Calculated the balanced accuracy score\n",
    "from sklearn.metrics import balanced_accuracy_score\n",
    "acc_score = balanced_accuracy_score(y_test, y_pred)\n",
    "print(f\" This model's predictive balanced accuracy is: {accuracy_score(y_test,y_pred):.3f}\")"
   ]
  },
  {
   "cell_type": "code",
   "execution_count": 36,
   "id": "75bcda9e",
   "metadata": {},
   "outputs": [
    {
     "data": {
      "text/plain": [
       "array([[ 34,  19],\n",
       "       [897, 970]])"
      ]
     },
     "execution_count": 36,
     "metadata": {},
     "output_type": "execute_result"
    }
   ],
   "source": [
    "# Display the confusion matrix\n",
    "from sklearn.metrics import confusion_matrix\n",
    "confusion_matrix(y_test, y_pred)"
   ]
  },
  {
   "cell_type": "code",
   "execution_count": 37,
   "id": "d942b9ae",
   "metadata": {},
   "outputs": [
    {
     "name": "stdout",
     "output_type": "stream",
     "text": [
      "                   pre       rec       spe        f1       geo       iba       sup\n",
      "\n",
      "        0.0       0.04      0.64      0.52      0.07      0.58      0.34        53\n",
      "        1.0       0.98      0.52      0.64      0.68      0.58      0.33      1867\n",
      "\n",
      "avg / total       0.95      0.52      0.64      0.66      0.58      0.33      1920\n",
      "\n"
     ]
    }
   ],
   "source": [
    "# Print the imbalanced classification report\n",
    "from imblearn.metrics import classification_report_imbalanced\n",
    "print(classification_report_imbalanced(y_test, y_pred))"
   ]
  },
  {
   "cell_type": "markdown",
   "id": "a127073b",
   "metadata": {},
   "source": [
    "## Oversampling: SMOTE Oversampling"
   ]
  },
  {
   "cell_type": "code",
   "execution_count": 38,
   "id": "5d371963",
   "metadata": {},
   "outputs": [
    {
     "data": {
      "text/plain": [
       "Counter({1.0: 5598, 0.0: 5598})"
      ]
     },
     "execution_count": 38,
     "metadata": {},
     "output_type": "execute_result"
    }
   ],
   "source": [
    "# Resample the training data with SMOTE\n",
    "from imblearn.over_sampling import SMOTE\n",
    "X_resampled, y_resampled = SMOTE(random_state=1, sampling_strategy='auto').fit_resample(\n",
    "    X_train_scaled, y_train\n",
    ")\n",
    "\n",
    "Counter(y_resampled)"
   ]
  },
  {
   "cell_type": "code",
   "execution_count": 39,
   "id": "2428815a",
   "metadata": {},
   "outputs": [
    {
     "data": {
      "text/plain": [
       "(11196,)"
      ]
     },
     "execution_count": 39,
     "metadata": {},
     "output_type": "execute_result"
    }
   ],
   "source": [
    "y_resampled.shape"
   ]
  },
  {
   "cell_type": "code",
   "execution_count": 40,
   "id": "a4bb0075",
   "metadata": {},
   "outputs": [
    {
     "data": {
      "text/plain": [
       "LogisticRegression(random_state=1)"
      ]
     },
     "execution_count": 40,
     "metadata": {},
     "output_type": "execute_result"
    }
   ],
   "source": [
    "# Train the Logistic Regression model using the resampled data\n",
    "model = LogisticRegression(solver='lbfgs', random_state=1)\n",
    "model.fit(X_resampled, y_resampled)"
   ]
  },
  {
   "cell_type": "code",
   "execution_count": 41,
   "id": "b8dcbae9",
   "metadata": {},
   "outputs": [
    {
     "data": {
      "text/plain": [
       "array([0., 1., 0., ..., 0., 0., 1.])"
      ]
     },
     "execution_count": 41,
     "metadata": {},
     "output_type": "execute_result"
    }
   ],
   "source": [
    "# Evaluate the model\n",
    "y_pred = model.predict(X_test_scaled)\n",
    "y_pred"
   ]
  },
  {
   "cell_type": "code",
   "execution_count": 42,
   "id": "aa20deec",
   "metadata": {},
   "outputs": [
    {
     "name": "stdout",
     "output_type": "stream",
     "text": [
      " This model's predictive accuracy is: 0.539\n"
     ]
    }
   ],
   "source": [
    "# Calculated the accuracy score\n",
    "acc_score = accuracy_score(y_test, y_pred)\n",
    "print(f\" This model's predictive accuracy is: {accuracy_score(y_test,y_pred):.3f}\")"
   ]
  },
  {
   "cell_type": "code",
   "execution_count": 43,
   "id": "745db727",
   "metadata": {},
   "outputs": [
    {
     "name": "stdout",
     "output_type": "stream",
     "text": [
      " This model's predictive balanced accuracy is: 0.539\n"
     ]
    }
   ],
   "source": [
    "# Calculated the balanced accuracy score\n",
    "acc_score = balanced_accuracy_score(y_test, y_pred)\n",
    "print(f\" This model's predictive balanced accuracy is: {accuracy_score(y_test,y_pred):.3f}\")"
   ]
  },
  {
   "cell_type": "code",
   "execution_count": 44,
   "id": "90b8add5",
   "metadata": {},
   "outputs": [
    {
     "data": {
      "text/plain": [
       "array([[ 35,  18],\n",
       "       [868, 999]])"
      ]
     },
     "execution_count": 44,
     "metadata": {},
     "output_type": "execute_result"
    }
   ],
   "source": [
    "# Display the confusion matrix\n",
    "confusion_matrix(y_test, y_pred)"
   ]
  },
  {
   "cell_type": "code",
   "execution_count": 45,
   "id": "cbca8322",
   "metadata": {},
   "outputs": [
    {
     "name": "stdout",
     "output_type": "stream",
     "text": [
      "                   pre       rec       spe        f1       geo       iba       sup\n",
      "\n",
      "        0.0       0.04      0.66      0.54      0.07      0.59      0.36        53\n",
      "        1.0       0.98      0.54      0.66      0.69      0.59      0.35      1867\n",
      "\n",
      "avg / total       0.96      0.54      0.66      0.68      0.59      0.35      1920\n",
      "\n"
     ]
    }
   ],
   "source": [
    "# Print the imbalanced classification report\n",
    "print(classification_report_imbalanced(y_test, y_pred))"
   ]
  },
  {
   "cell_type": "markdown",
   "id": "d24f01ff",
   "metadata": {},
   "source": [
    "## Undersampling: Cluster Centroids"
   ]
  },
  {
   "cell_type": "code",
   "execution_count": 46,
   "id": "117d372c",
   "metadata": {},
   "outputs": [
    {
     "data": {
      "text/plain": [
       "Counter({0.0: 159, 1.0: 159})"
      ]
     },
     "execution_count": 46,
     "metadata": {},
     "output_type": "execute_result"
    }
   ],
   "source": [
    "# Resample the data using the ClusterCentroids resampler\n",
    "# Warning: This is a large dataset, and this step may take some time to complete\n",
    "from imblearn.under_sampling import ClusterCentroids\n",
    "cc = ClusterCentroids(random_state=1)\n",
    "X_resampled, y_resampled = cc.fit_resample(X_train_scaled, y_train)\n",
    "Counter(y_resampled)"
   ]
  },
  {
   "cell_type": "code",
   "execution_count": 47,
   "id": "ec036909",
   "metadata": {},
   "outputs": [
    {
     "data": {
      "text/plain": [
       "(318,)"
      ]
     },
     "execution_count": 47,
     "metadata": {},
     "output_type": "execute_result"
    }
   ],
   "source": [
    "y_resampled.shape"
   ]
  },
  {
   "cell_type": "code",
   "execution_count": 48,
   "id": "8b0b8110",
   "metadata": {},
   "outputs": [
    {
     "data": {
      "text/plain": [
       "LogisticRegression(random_state=1)"
      ]
     },
     "execution_count": 48,
     "metadata": {},
     "output_type": "execute_result"
    }
   ],
   "source": [
    "# Train the Logistic Regression model using the resampled data\n",
    "from sklearn.linear_model import LogisticRegression\n",
    "model = LogisticRegression(solver='lbfgs', random_state=1)\n",
    "model.fit(X_resampled, y_resampled)"
   ]
  },
  {
   "cell_type": "code",
   "execution_count": 49,
   "id": "98d1e7fc",
   "metadata": {},
   "outputs": [
    {
     "data": {
      "text/plain": [
       "array([0., 0., 0., ..., 0., 0., 1.])"
      ]
     },
     "execution_count": 49,
     "metadata": {},
     "output_type": "execute_result"
    }
   ],
   "source": [
    "# Evaluate the model\n",
    "y_pred = model.predict(X_test_scaled)\n",
    "y_pred"
   ]
  },
  {
   "cell_type": "code",
   "execution_count": 50,
   "id": "97a293ec",
   "metadata": {},
   "outputs": [
    {
     "name": "stdout",
     "output_type": "stream",
     "text": [
      " This model's predictive accuracy is: 0.383\n"
     ]
    }
   ],
   "source": [
    "# Calculated the accuracy score\n",
    "acc_score = accuracy_score(y_test, y_pred)\n",
    "print(f\" This model's predictive accuracy is: {accuracy_score(y_test,y_pred):.3f}\")"
   ]
  },
  {
   "cell_type": "code",
   "execution_count": 51,
   "id": "d8930b93",
   "metadata": {},
   "outputs": [
    {
     "name": "stdout",
     "output_type": "stream",
     "text": [
      " This model's predictive balanced accuracy is: 0.383\n"
     ]
    }
   ],
   "source": [
    "# Calculated the balanced accuracy score\n",
    "acc_score = balanced_accuracy_score(y_test, y_pred)\n",
    "print(f\" This model's predictive balanced accuracy is: {accuracy_score(y_test,y_pred):.3f}\")"
   ]
  },
  {
   "cell_type": "code",
   "execution_count": 52,
   "id": "f1aa9c6f",
   "metadata": {},
   "outputs": [
    {
     "data": {
      "text/plain": [
       "array([[  36,   17],\n",
       "       [1167,  700]])"
      ]
     },
     "execution_count": 52,
     "metadata": {},
     "output_type": "execute_result"
    }
   ],
   "source": [
    "# Display the confusion matrix\n",
    "from sklearn.metrics import confusion_matrix\n",
    "confusion_matrix(y_test, y_pred)"
   ]
  },
  {
   "cell_type": "code",
   "execution_count": 53,
   "id": "598468f3",
   "metadata": {},
   "outputs": [
    {
     "name": "stdout",
     "output_type": "stream",
     "text": [
      "                   pre       rec       spe        f1       geo       iba       sup\n",
      "\n",
      "        0.0       0.03      0.68      0.37      0.06      0.50      0.26        53\n",
      "        1.0       0.98      0.37      0.68      0.54      0.50      0.25      1867\n",
      "\n",
      "avg / total       0.95      0.38      0.67      0.53      0.50      0.25      1920\n",
      "\n"
     ]
    }
   ],
   "source": [
    "# Print the imbalanced classification report\n",
    "from imblearn.metrics import classification_report_imbalanced\n",
    "print(classification_report_imbalanced(y_test, y_pred))"
   ]
  },
  {
   "cell_type": "markdown",
   "id": "33ec8d1d",
   "metadata": {},
   "source": [
    "## Combination (Over and Under) Sampling: SMOTEENN"
   ]
  },
  {
   "cell_type": "code",
   "execution_count": 54,
   "id": "3847b183",
   "metadata": {},
   "outputs": [
    {
     "data": {
      "text/plain": [
       "Counter({0.0: 3828, 1.0: 3372})"
      ]
     },
     "execution_count": 54,
     "metadata": {},
     "output_type": "execute_result"
    }
   ],
   "source": [
    "# Resample the training data with SMOTEENN\n",
    "# Warning: This is a large dataset, and this step may take some time to complete\n",
    "from imblearn.combine import SMOTEENN\n",
    "\n",
    "smote_enn = SMOTEENN(random_state=1)\n",
    "X_resampled, y_resampled = smote_enn.fit_resample(X_train_scaled, y_train)\n",
    "Counter(y_resampled)"
   ]
  },
  {
   "cell_type": "code",
   "execution_count": 55,
   "id": "087a53e6",
   "metadata": {},
   "outputs": [
    {
     "data": {
      "text/plain": [
       "(7200,)"
      ]
     },
     "execution_count": 55,
     "metadata": {},
     "output_type": "execute_result"
    }
   ],
   "source": [
    "y_resampled.shape"
   ]
  },
  {
   "cell_type": "code",
   "execution_count": 56,
   "id": "e4c78d92",
   "metadata": {},
   "outputs": [
    {
     "data": {
      "text/plain": [
       "LogisticRegression(random_state=1)"
      ]
     },
     "execution_count": 56,
     "metadata": {},
     "output_type": "execute_result"
    }
   ],
   "source": [
    "# Train the Logistic Regression model using the resampled data\n",
    "from sklearn.linear_model import LogisticRegression\n",
    "model = LogisticRegression(solver='lbfgs', random_state=1)\n",
    "model.fit(X_resampled, y_resampled)"
   ]
  },
  {
   "cell_type": "code",
   "execution_count": 57,
   "id": "9c75ca7e",
   "metadata": {},
   "outputs": [
    {
     "data": {
      "text/plain": [
       "array([0., 1., 0., ..., 0., 0., 1.])"
      ]
     },
     "execution_count": 57,
     "metadata": {},
     "output_type": "execute_result"
    }
   ],
   "source": [
    "# Evaluate the model\n",
    "y_pred = model.predict(X_test_scaled)\n",
    "y_pred"
   ]
  },
  {
   "cell_type": "code",
   "execution_count": 58,
   "id": "f55b5029",
   "metadata": {},
   "outputs": [
    {
     "name": "stdout",
     "output_type": "stream",
     "text": [
      " This model's predictive accuracy is: 0.516\n"
     ]
    }
   ],
   "source": [
    "# Calculated the accuracy score\n",
    "acc_score = accuracy_score(y_test, y_pred)\n",
    "print(f\" This model's predictive accuracy is: {accuracy_score(y_test,y_pred):.3f}\")"
   ]
  },
  {
   "cell_type": "code",
   "execution_count": 59,
   "id": "8f73f93c",
   "metadata": {},
   "outputs": [
    {
     "name": "stdout",
     "output_type": "stream",
     "text": [
      " This model's predictive balanced accuracy is: 0.516\n"
     ]
    }
   ],
   "source": [
    "# Calculated the balanced accuracy score\n",
    "acc_score = balanced_accuracy_score(y_test, y_pred)\n",
    "print(f\" This model's predictive balanced accuracy is: {accuracy_score(y_test,y_pred):.3f}\")"
   ]
  },
  {
   "cell_type": "code",
   "execution_count": 60,
   "id": "81ccc300",
   "metadata": {},
   "outputs": [
    {
     "data": {
      "text/plain": [
       "array([[ 34,  19],\n",
       "       [911, 956]])"
      ]
     },
     "execution_count": 60,
     "metadata": {},
     "output_type": "execute_result"
    }
   ],
   "source": [
    "# Display the confusion matrix\n",
    "from sklearn.metrics import confusion_matrix\n",
    "confusion_matrix(y_test, y_pred)"
   ]
  },
  {
   "cell_type": "code",
   "execution_count": 61,
   "id": "0378ad1f",
   "metadata": {},
   "outputs": [
    {
     "name": "stdout",
     "output_type": "stream",
     "text": [
      "                   pre       rec       spe        f1       geo       iba       sup\n",
      "\n",
      "        0.0       0.04      0.64      0.51      0.07      0.57      0.33        53\n",
      "        1.0       0.98      0.51      0.64      0.67      0.57      0.32      1867\n",
      "\n",
      "avg / total       0.95      0.52      0.64      0.66      0.57      0.32      1920\n",
      "\n"
     ]
    }
   ],
   "source": [
    "# Print the imbalanced classification report\n",
    "from imblearn.metrics import classification_report_imbalanced\n",
    "print(classification_report_imbalanced(y_test, y_pred))"
   ]
  },
  {
   "cell_type": "markdown",
   "id": "50ad3d3c",
   "metadata": {},
   "source": [
    "# Ensemble Learning Models"
   ]
  },
  {
   "cell_type": "markdown",
   "id": "4fe1d532",
   "metadata": {},
   "source": [
    "## Random Forest Classifier"
   ]
  },
  {
   "cell_type": "code",
   "execution_count": 62,
   "id": "f89278a5",
   "metadata": {},
   "outputs": [],
   "source": [
    "# Create a random forest classifier.\n",
    "from sklearn.ensemble import RandomForestClassifier\n",
    "rf_model = RandomForestClassifier(n_estimators=128, random_state=1)"
   ]
  },
  {
   "cell_type": "code",
   "execution_count": 63,
   "id": "465d59e9",
   "metadata": {},
   "outputs": [
    {
     "data": {
      "text/plain": [
       "Counter({1.0: 5598, 0.0: 159})"
      ]
     },
     "execution_count": 63,
     "metadata": {},
     "output_type": "execute_result"
    }
   ],
   "source": [
    "# Fitting the model\n",
    "rf_model = rf_model.fit(X_train_scaled, y_train)\n",
    "\n",
    "Counter(y_train)"
   ]
  },
  {
   "cell_type": "code",
   "execution_count": 64,
   "id": "6aa5806e",
   "metadata": {},
   "outputs": [
    {
     "data": {
      "text/plain": [
       "(5757,)"
      ]
     },
     "execution_count": 64,
     "metadata": {},
     "output_type": "execute_result"
    }
   ],
   "source": [
    "y_train.shape"
   ]
  },
  {
   "cell_type": "code",
   "execution_count": 65,
   "id": "6da66c26",
   "metadata": {},
   "outputs": [
    {
     "data": {
      "text/plain": [
       "array([1., 1., 1., ..., 1., 1., 1.])"
      ]
     },
     "execution_count": 65,
     "metadata": {},
     "output_type": "execute_result"
    }
   ],
   "source": [
    "# Evaluate the model\n",
    "y_pred = rf_model.predict(X_test_scaled)\n",
    "y_pred"
   ]
  },
  {
   "cell_type": "code",
   "execution_count": 66,
   "id": "eeda9fd6",
   "metadata": {},
   "outputs": [
    {
     "name": "stdout",
     "output_type": "stream",
     "text": [
      " This model's predictive accuracy is: 0.972\n"
     ]
    }
   ],
   "source": [
    "# Calculated the accuracy score\n",
    "acc_score = accuracy_score(y_test, y_pred)\n",
    "print(f\" This model's predictive accuracy is: {accuracy_score(y_test,y_pred):.3f}\")"
   ]
  },
  {
   "cell_type": "code",
   "execution_count": 67,
   "id": "818115bd",
   "metadata": {},
   "outputs": [
    {
     "name": "stdout",
     "output_type": "stream",
     "text": [
      " This model's predictive balanced accuracy is: 0.972\n"
     ]
    }
   ],
   "source": [
    "# Calculated the balanced accuracy score\n",
    "from sklearn.metrics import balanced_accuracy_score\n",
    "acc_score = balanced_accuracy_score(y_test, y_pred)\n",
    "print(f\" This model's predictive balanced accuracy is: {accuracy_score(y_test,y_pred):.3f}\")"
   ]
  },
  {
   "cell_type": "code",
   "execution_count": 68,
   "id": "d336e1b8",
   "metadata": {},
   "outputs": [
    {
     "name": "stdout",
     "output_type": "stream",
     "text": [
      "Confusion Matrix\n"
     ]
    },
    {
     "data": {
      "text/html": [
       "<div>\n",
       "<style scoped>\n",
       "    .dataframe tbody tr th:only-of-type {\n",
       "        vertical-align: middle;\n",
       "    }\n",
       "\n",
       "    .dataframe tbody tr th {\n",
       "        vertical-align: top;\n",
       "    }\n",
       "\n",
       "    .dataframe thead th {\n",
       "        text-align: right;\n",
       "    }\n",
       "</style>\n",
       "<table border=\"1\" class=\"dataframe\">\n",
       "  <thead>\n",
       "    <tr style=\"text-align: right;\">\n",
       "      <th></th>\n",
       "      <th>Predicted 0</th>\n",
       "      <th>Predicted 1</th>\n",
       "    </tr>\n",
       "  </thead>\n",
       "  <tbody>\n",
       "    <tr>\n",
       "      <th>Actual 0</th>\n",
       "      <td>0</td>\n",
       "      <td>53</td>\n",
       "    </tr>\n",
       "    <tr>\n",
       "      <th>Actual 1</th>\n",
       "      <td>0</td>\n",
       "      <td>1867</td>\n",
       "    </tr>\n",
       "  </tbody>\n",
       "</table>\n",
       "</div>"
      ],
      "text/plain": [
       "          Predicted 0  Predicted 1\n",
       "Actual 0            0           53\n",
       "Actual 1            0         1867"
      ]
     },
     "metadata": {},
     "output_type": "display_data"
    }
   ],
   "source": [
    "# Display the confusion matrix\n",
    "cm = confusion_matrix(y_test, y_pred)\n",
    "\n",
    "# Create a DataFrame from the confusion matrix.\n",
    "cm_df = pd.DataFrame(\n",
    "    cm, index=[\"Actual 0\", \"Actual 1\"], columns=[\"Predicted 0\", \"Predicted 1\"])\n",
    "\n",
    "print(\"Confusion Matrix\")\n",
    "display(cm_df)"
   ]
  },
  {
   "cell_type": "code",
   "execution_count": 69,
   "id": "5679faa6",
   "metadata": {},
   "outputs": [
    {
     "name": "stdout",
     "output_type": "stream",
     "text": [
      "Classification Report\n",
      "                   pre       rec       spe        f1       geo       iba       sup\n",
      "\n",
      "        0.0       0.00      0.00      1.00      0.00      0.00      0.00        53\n",
      "        1.0       0.97      1.00      0.00      0.99      0.00      0.00      1867\n",
      "\n",
      "avg / total       0.95      0.97      0.03      0.96      0.00      0.00      1920\n",
      "\n"
     ]
    }
   ],
   "source": [
    "# Print the imbalanced classification report\n",
    "print(\"Classification Report\")\n",
    "print(classification_report_imbalanced(y_test, y_pred))"
   ]
  },
  {
   "cell_type": "markdown",
   "id": "b432785f",
   "metadata": {},
   "source": [
    "## Balanced Random Forest Classifier"
   ]
  },
  {
   "cell_type": "code",
   "execution_count": 70,
   "id": "45428d82",
   "metadata": {},
   "outputs": [],
   "source": [
    "# Resample the training data with the BalancedRandomForestClassifier\n",
    "from imblearn.ensemble import BalancedRandomForestClassifier\n",
    "# Create a balanced random forest classifier:\n",
    "brf_model = BalancedRandomForestClassifier(n_estimators=128, random_state=1)"
   ]
  },
  {
   "cell_type": "code",
   "execution_count": 71,
   "id": "707a12b5",
   "metadata": {},
   "outputs": [
    {
     "data": {
      "text/plain": [
       "Counter({1.0: 5598, 0.0: 159})"
      ]
     },
     "execution_count": 71,
     "metadata": {},
     "output_type": "execute_result"
    }
   ],
   "source": [
    "# Fitting the model:\n",
    "brf_model = brf_model.fit(X_train_scaled, y_train)\n",
    "Counter(y_train)"
   ]
  },
  {
   "cell_type": "code",
   "execution_count": 72,
   "id": "314d13cb",
   "metadata": {},
   "outputs": [
    {
     "data": {
      "text/plain": [
       "(5757,)"
      ]
     },
     "execution_count": 72,
     "metadata": {},
     "output_type": "execute_result"
    }
   ],
   "source": [
    "y_train.shape"
   ]
  },
  {
   "cell_type": "code",
   "execution_count": 73,
   "id": "e920846f",
   "metadata": {},
   "outputs": [
    {
     "data": {
      "text/plain": [
       "array([0., 1., 0., ..., 0., 1., 1.])"
      ]
     },
     "execution_count": 73,
     "metadata": {},
     "output_type": "execute_result"
    }
   ],
   "source": [
    "# Making predictions using the testing data:\n",
    "y_pred = brf_model.predict(X_test_scaled)\n",
    "y_pred"
   ]
  },
  {
   "cell_type": "code",
   "execution_count": 74,
   "id": "af8d9602",
   "metadata": {},
   "outputs": [
    {
     "name": "stdout",
     "output_type": "stream",
     "text": [
      " This model's predictive accuracy is: 0.477\n"
     ]
    }
   ],
   "source": [
    "# Calculated the accuracy score\n",
    "acc_score = accuracy_score(y_test, y_pred)\n",
    "print(f\" This model's predictive accuracy is: {accuracy_score(y_test,y_pred):.3f}\")"
   ]
  },
  {
   "cell_type": "code",
   "execution_count": 75,
   "id": "26ab2ef3",
   "metadata": {},
   "outputs": [
    {
     "name": "stdout",
     "output_type": "stream",
     "text": [
      " This model's predictive balanced accuracy is: 0.477\n"
     ]
    }
   ],
   "source": [
    "# Calculated the balanced accuracy score\n",
    "acc_score = balanced_accuracy_score(y_test, y_pred)\n",
    "print(f\" This model's predictive balanced accuracy is: {accuracy_score(y_test,y_pred):.3f}\")"
   ]
  },
  {
   "cell_type": "code",
   "execution_count": 76,
   "id": "81ebfbc4",
   "metadata": {},
   "outputs": [
    {
     "name": "stdout",
     "output_type": "stream",
     "text": [
      "Confusion Matrix\n"
     ]
    },
    {
     "data": {
      "text/html": [
       "<div>\n",
       "<style scoped>\n",
       "    .dataframe tbody tr th:only-of-type {\n",
       "        vertical-align: middle;\n",
       "    }\n",
       "\n",
       "    .dataframe tbody tr th {\n",
       "        vertical-align: top;\n",
       "    }\n",
       "\n",
       "    .dataframe thead th {\n",
       "        text-align: right;\n",
       "    }\n",
       "</style>\n",
       "<table border=\"1\" class=\"dataframe\">\n",
       "  <thead>\n",
       "    <tr style=\"text-align: right;\">\n",
       "      <th></th>\n",
       "      <th>Predicted 0</th>\n",
       "      <th>Predicted 1</th>\n",
       "    </tr>\n",
       "  </thead>\n",
       "  <tbody>\n",
       "    <tr>\n",
       "      <th>Actual 0</th>\n",
       "      <td>32</td>\n",
       "      <td>21</td>\n",
       "    </tr>\n",
       "    <tr>\n",
       "      <th>Actual 1</th>\n",
       "      <td>983</td>\n",
       "      <td>884</td>\n",
       "    </tr>\n",
       "  </tbody>\n",
       "</table>\n",
       "</div>"
      ],
      "text/plain": [
       "          Predicted 0  Predicted 1\n",
       "Actual 0           32           21\n",
       "Actual 1          983          884"
      ]
     },
     "metadata": {},
     "output_type": "display_data"
    }
   ],
   "source": [
    "# Display the confusion matrix\n",
    "cm = confusion_matrix(y_test, y_pred)\n",
    "\n",
    "# Create a DataFrame from the confusion matrix.\n",
    "cm_df = pd.DataFrame(\n",
    "    cm, index=[\"Actual 0\", \"Actual 1\"], columns=[\"Predicted 0\", \"Predicted 1\"])\n",
    "\n",
    "print(\"Confusion Matrix\")\n",
    "display(cm_df)"
   ]
  },
  {
   "cell_type": "code",
   "execution_count": 77,
   "id": "e958a01f",
   "metadata": {},
   "outputs": [
    {
     "name": "stdout",
     "output_type": "stream",
     "text": [
      "Classification Report\n",
      "                   pre       rec       spe        f1       geo       iba       sup\n",
      "\n",
      "        0.0       0.03      0.60      0.47      0.06      0.53      0.29        53\n",
      "        1.0       0.98      0.47      0.60      0.64      0.53      0.28      1867\n",
      "\n",
      "avg / total       0.95      0.48      0.60      0.62      0.53      0.28      1920\n",
      "\n"
     ]
    }
   ],
   "source": [
    "# Print the imbalanced classification report\n",
    "print(\"Classification Report\")\n",
    "print(classification_report_imbalanced(y_test, y_pred))"
   ]
  },
  {
   "cell_type": "code",
   "execution_count": 78,
   "id": "2a3333e5",
   "metadata": {},
   "outputs": [
    {
     "data": {
      "text/plain": [
       "[(0.08424448170040882, 'CUISINE_DESCRIPTION_Other'),\n",
       " (0.0695642928179929, 'ZIPCODE_Other'),\n",
       " (0.06831691426808033, 'CUISINE_DESCRIPTION_American'),\n",
       " (0.05853864748417314, 'CUISINE_DESCRIPTION_Chinese'),\n",
       " (0.05720136721962033, 'CUISINE_DESCRIPTION_Coffee/Tea'),\n",
       " (0.04571813863649864, 'ZIPCODE_10013'),\n",
       " (0.04493066839702294, 'CUISINE_DESCRIPTION_Italian'),\n",
       " (0.043499907000916695, 'CUISINE_DESCRIPTION_Japanese'),\n",
       " (0.04313799723635767, 'INCOME_LEVEL_low income'),\n",
       " (0.041805267473455025, 'CUISINE_DESCRIPTION_Pizza'),\n",
       " (0.03786727779611009, 'ZIPCODE_10021'),\n",
       " (0.03272833315919302, 'CUISINE_DESCRIPTION_Sandwiches'),\n",
       " (0.030875816931269187, 'ZIPCODE_10024'),\n",
       " (0.0297997976163734, 'INCOME_LEVEL_high income'),\n",
       " (0.028299392578761642, 'ZIPCODE_10017'),\n",
       " (0.02750671884152612, 'ZIPCODE_10022'),\n",
       " (0.02634273187359743, 'ZIPCODE_11355'),\n",
       " (0.02593344583938964, 'INCOME_LEVEL_medium income'),\n",
       " (0.025087767100465314, 'CUISINE_DESCRIPTION_Latin American'),\n",
       " (0.0248146229972555, 'ZIPCODE_10028'),\n",
       " (0.024204846059664765, 'ZIPCODE_10023'),\n",
       " (0.024043454361126235, 'ZIPCODE_10452'),\n",
       " (0.0225222650727551, 'ZIPCODE_10009'),\n",
       " (0.021310945513418434, 'ZIPCODE_10065'),\n",
       " (0.020869597628011483, 'ZIPCODE_11238'),\n",
       " (0.02086216200646216, 'ZIPCODE_11101'),\n",
       " (0.019973142390094022, 'ZIPCODE_11375')]"
      ]
     },
     "execution_count": 78,
     "metadata": {},
     "output_type": "execute_result"
    }
   ],
   "source": [
    "# List the features sorted in descending order by feature importance\n",
    "# Calculate feature importance in the Balanced Random Forest model.\n",
    "importances = brf_model.feature_importances_\n",
    "importances\n",
    "\n",
    "# We can sort the features by their importance.\n",
    "sorted(zip(brf_model.feature_importances_, X.columns), reverse=True)"
   ]
  },
  {
   "cell_type": "markdown",
   "id": "bde36512",
   "metadata": {},
   "source": [
    "## Easy Ensemble AdaBoost Classifier"
   ]
  },
  {
   "cell_type": "code",
   "execution_count": 79,
   "id": "68c5a5b5",
   "metadata": {},
   "outputs": [],
   "source": [
    "# Train the EasyEnsembleClassifier\n",
    "# Create a balanced random forest classifier:\n",
    "from imblearn.ensemble import EasyEnsembleClassifier\n",
    "\n",
    "ee_model = EasyEnsembleClassifier(n_estimators=128, random_state=1)"
   ]
  },
  {
   "cell_type": "code",
   "execution_count": 80,
   "id": "d6fc4389",
   "metadata": {},
   "outputs": [
    {
     "data": {
      "text/plain": [
       "Counter({1.0: 5598, 0.0: 159})"
      ]
     },
     "execution_count": 80,
     "metadata": {},
     "output_type": "execute_result"
    }
   ],
   "source": [
    "# Fitting the model:\n",
    "ee_model = ee_model.fit(X_train_scaled, y_train)\n",
    "Counter(y_train)"
   ]
  },
  {
   "cell_type": "code",
   "execution_count": 81,
   "id": "45b668a4",
   "metadata": {},
   "outputs": [
    {
     "data": {
      "text/plain": [
       "(5757,)"
      ]
     },
     "execution_count": 81,
     "metadata": {},
     "output_type": "execute_result"
    }
   ],
   "source": [
    "y_train.shape"
   ]
  },
  {
   "cell_type": "code",
   "execution_count": 82,
   "id": "58cf6c71",
   "metadata": {},
   "outputs": [
    {
     "data": {
      "text/plain": [
       "array([0., 1., 0., ..., 1., 0., 1.])"
      ]
     },
     "execution_count": 82,
     "metadata": {},
     "output_type": "execute_result"
    }
   ],
   "source": [
    "# Making predictions using the testing data:\n",
    "y_pred = ee_model.predict(X_test_scaled)\n",
    "y_pred"
   ]
  },
  {
   "cell_type": "code",
   "execution_count": 83,
   "id": "21539fa8",
   "metadata": {},
   "outputs": [
    {
     "name": "stdout",
     "output_type": "stream",
     "text": [
      " This model's predictive accuracy is: 0.501\n"
     ]
    }
   ],
   "source": [
    "# Calculated the accuracy score\n",
    "acc_score = accuracy_score(y_test, y_pred)\n",
    "print(f\" This model's predictive accuracy is: {accuracy_score(y_test,y_pred):.3f}\")"
   ]
  },
  {
   "cell_type": "code",
   "execution_count": 84,
   "id": "c10add16",
   "metadata": {},
   "outputs": [
    {
     "name": "stdout",
     "output_type": "stream",
     "text": [
      " This model's predictive balanced accuracy is: 0.501\n"
     ]
    }
   ],
   "source": [
    "# Calculated the balanced accuracy score\n",
    "acc_score = balanced_accuracy_score(y_test, y_pred)\n",
    "print(f\" This model's predictive balanced accuracy is: {accuracy_score(y_test,y_pred):.3f}\")"
   ]
  },
  {
   "cell_type": "code",
   "execution_count": 85,
   "id": "884467d4",
   "metadata": {},
   "outputs": [
    {
     "name": "stdout",
     "output_type": "stream",
     "text": [
      "Confusion Matrix\n"
     ]
    },
    {
     "data": {
      "text/html": [
       "<div>\n",
       "<style scoped>\n",
       "    .dataframe tbody tr th:only-of-type {\n",
       "        vertical-align: middle;\n",
       "    }\n",
       "\n",
       "    .dataframe tbody tr th {\n",
       "        vertical-align: top;\n",
       "    }\n",
       "\n",
       "    .dataframe thead th {\n",
       "        text-align: right;\n",
       "    }\n",
       "</style>\n",
       "<table border=\"1\" class=\"dataframe\">\n",
       "  <thead>\n",
       "    <tr style=\"text-align: right;\">\n",
       "      <th></th>\n",
       "      <th>Predicted 0</th>\n",
       "      <th>Predicted 1</th>\n",
       "    </tr>\n",
       "  </thead>\n",
       "  <tbody>\n",
       "    <tr>\n",
       "      <th>Actual 0</th>\n",
       "      <td>34</td>\n",
       "      <td>19</td>\n",
       "    </tr>\n",
       "    <tr>\n",
       "      <th>Actual 1</th>\n",
       "      <td>940</td>\n",
       "      <td>927</td>\n",
       "    </tr>\n",
       "  </tbody>\n",
       "</table>\n",
       "</div>"
      ],
      "text/plain": [
       "          Predicted 0  Predicted 1\n",
       "Actual 0           34           19\n",
       "Actual 1          940          927"
      ]
     },
     "metadata": {},
     "output_type": "display_data"
    }
   ],
   "source": [
    "# Display the confusion matrix\n",
    "cm = confusion_matrix(y_test, y_pred)\n",
    "\n",
    "# Create a DataFrame from the confusion matrix.\n",
    "cm_df = pd.DataFrame(\n",
    "    cm, index=[\"Actual 0\", \"Actual 1\"], columns=[\"Predicted 0\", \"Predicted 1\"])\n",
    "\n",
    "print(\"Confusion Matrix\")\n",
    "display(cm_df)"
   ]
  },
  {
   "cell_type": "code",
   "execution_count": 86,
   "id": "bac5d6c4",
   "metadata": {},
   "outputs": [
    {
     "name": "stdout",
     "output_type": "stream",
     "text": [
      "Classification Report\n",
      "                   pre       rec       spe        f1       geo       iba       sup\n",
      "\n",
      "        0.0       0.03      0.64      0.50      0.07      0.56      0.32        53\n",
      "        1.0       0.98      0.50      0.64      0.66      0.56      0.31      1867\n",
      "\n",
      "avg / total       0.95      0.50      0.64      0.64      0.56      0.31      1920\n",
      "\n"
     ]
    }
   ],
   "source": [
    "# Print the imbalanced classification report\n",
    "print(\"Classification Report\")\n",
    "print(classification_report_imbalanced(y_test, y_pred))"
   ]
  },
  {
   "cell_type": "code",
   "execution_count": null,
   "id": "a71bb20a",
   "metadata": {},
   "outputs": [],
   "source": []
  }
 ],
 "metadata": {
  "kernelspec": {
   "display_name": "mlenv",
   "language": "python",
   "name": "mlenv"
  },
  "language_info": {
   "codemirror_mode": {
    "name": "ipython",
    "version": 3
   },
   "file_extension": ".py",
   "mimetype": "text/x-python",
   "name": "python",
   "nbconvert_exporter": "python",
   "pygments_lexer": "ipython3",
   "version": "3.7.11"
  }
 },
 "nbformat": 4,
 "nbformat_minor": 5
}
